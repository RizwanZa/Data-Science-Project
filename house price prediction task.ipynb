{
 "cells": [
  {
   "cell_type": "code",
   "execution_count": 1,
   "metadata": {},
   "outputs": [],
   "source": [
    "import pandas as pd \n",
    "import seaborn as sns\n",
    "from sklearn.preprocessing import StandardScaler\n",
    "from sklearn.preprocessing import MinMaxScaler\n",
    "from sklearn.model_selection import train_test_split\n",
    "import matplotlib.pyplot as plt\n",
    "from sklearn.impute import SimpleImputer\n",
    "import numpy as np\n",
    "import warnings\n",
    "warnings.filterwarnings('ignore')"
   ]
  },
  {
   "cell_type": "markdown",
   "metadata": {},
   "source": [
    "# Exploratory Data Analysis for House Price Prediction"
   ]
  },
  {
   "cell_type": "code",
   "execution_count": 2,
   "metadata": {
    "scrolled": true
   },
   "outputs": [
    {
     "data": {
      "text/html": [
       "<div>\n",
       "<style scoped>\n",
       "    .dataframe tbody tr th:only-of-type {\n",
       "        vertical-align: middle;\n",
       "    }\n",
       "\n",
       "    .dataframe tbody tr th {\n",
       "        vertical-align: top;\n",
       "    }\n",
       "\n",
       "    .dataframe thead th {\n",
       "        text-align: right;\n",
       "    }\n",
       "</style>\n",
       "<table border=\"1\" class=\"dataframe\">\n",
       "  <thead>\n",
       "    <tr style=\"text-align: right;\">\n",
       "      <th></th>\n",
       "      <th>Region Name</th>\n",
       "      <th>State</th>\n",
       "      <th>Year</th>\n",
       "      <th>House Price for 1 Bedroom</th>\n",
       "      <th>House Price for 2 Bedroom</th>\n",
       "      <th>House Price for 3 Bedroom</th>\n",
       "      <th>House Price for 4 Bedroom</th>\n",
       "      <th>House Price for 5 Bedroom</th>\n",
       "      <th>Inflation Rate</th>\n",
       "      <th>Mortgage Rate</th>\n",
       "      <th>Unemployment Rate</th>\n",
       "    </tr>\n",
       "  </thead>\n",
       "  <tbody>\n",
       "    <tr>\n",
       "      <td>0</td>\n",
       "      <td>Anchorage Borough</td>\n",
       "      <td>AK</td>\n",
       "      <td>5/31/2006</td>\n",
       "      <td>171828.0</td>\n",
       "      <td>NaN</td>\n",
       "      <td>107539.0</td>\n",
       "      <td>217366.0</td>\n",
       "      <td>319275.0</td>\n",
       "      <td>202.5</td>\n",
       "      <td>5.92</td>\n",
       "      <td>4.6</td>\n",
       "    </tr>\n",
       "    <tr>\n",
       "      <td>1</td>\n",
       "      <td>Fairbanks North Star Borough</td>\n",
       "      <td>AK</td>\n",
       "      <td>5/31/2006</td>\n",
       "      <td>86058.0</td>\n",
       "      <td>NaN</td>\n",
       "      <td>429563.0</td>\n",
       "      <td>173730.0</td>\n",
       "      <td>336771.0</td>\n",
       "      <td>202.5</td>\n",
       "      <td>5.92</td>\n",
       "      <td>4.6</td>\n",
       "    </tr>\n",
       "    <tr>\n",
       "      <td>2</td>\n",
       "      <td>Juneau Borough</td>\n",
       "      <td>AK</td>\n",
       "      <td>5/31/2006</td>\n",
       "      <td>165691.0</td>\n",
       "      <td>NaN</td>\n",
       "      <td>130096.0</td>\n",
       "      <td>136614.0</td>\n",
       "      <td>NaN</td>\n",
       "      <td>202.5</td>\n",
       "      <td>5.92</td>\n",
       "      <td>4.6</td>\n",
       "    </tr>\n",
       "    <tr>\n",
       "      <td>3</td>\n",
       "      <td>Kenai Peninsula Borough</td>\n",
       "      <td>AK</td>\n",
       "      <td>5/31/2006</td>\n",
       "      <td>101413.0</td>\n",
       "      <td>118944.0</td>\n",
       "      <td>77373.0</td>\n",
       "      <td>86021.0</td>\n",
       "      <td>128538.0</td>\n",
       "      <td>202.5</td>\n",
       "      <td>5.92</td>\n",
       "      <td>4.6</td>\n",
       "    </tr>\n",
       "    <tr>\n",
       "      <td>4</td>\n",
       "      <td>Ketchikan Gateway Borough</td>\n",
       "      <td>AK</td>\n",
       "      <td>5/31/2006</td>\n",
       "      <td>84840.0</td>\n",
       "      <td>69894.0</td>\n",
       "      <td>89360.0</td>\n",
       "      <td>NaN</td>\n",
       "      <td>301777.0</td>\n",
       "      <td>202.5</td>\n",
       "      <td>5.92</td>\n",
       "      <td>4.6</td>\n",
       "    </tr>\n",
       "    <tr>\n",
       "      <td>...</td>\n",
       "      <td>...</td>\n",
       "      <td>...</td>\n",
       "      <td>...</td>\n",
       "      <td>...</td>\n",
       "      <td>...</td>\n",
       "      <td>...</td>\n",
       "      <td>...</td>\n",
       "      <td>...</td>\n",
       "      <td>...</td>\n",
       "      <td>...</td>\n",
       "      <td>...</td>\n",
       "    </tr>\n",
       "    <tr>\n",
       "      <td>790631</td>\n",
       "      <td>Mille Lacs County</td>\n",
       "      <td>MN</td>\n",
       "      <td>9/30/2001</td>\n",
       "      <td>NaN</td>\n",
       "      <td>NaN</td>\n",
       "      <td>NaN</td>\n",
       "      <td>158081.0</td>\n",
       "      <td>NaN</td>\n",
       "      <td>178.3</td>\n",
       "      <td>6.79</td>\n",
       "      <td>5.0</td>\n",
       "    </tr>\n",
       "    <tr>\n",
       "      <td>790632</td>\n",
       "      <td>Morrison County</td>\n",
       "      <td>MN</td>\n",
       "      <td>9/30/2001</td>\n",
       "      <td>72286.0</td>\n",
       "      <td>NaN</td>\n",
       "      <td>NaN</td>\n",
       "      <td>NaN</td>\n",
       "      <td>216179.0</td>\n",
       "      <td>178.3</td>\n",
       "      <td>6.79</td>\n",
       "      <td>5.0</td>\n",
       "    </tr>\n",
       "    <tr>\n",
       "      <td>790633</td>\n",
       "      <td>Mower County</td>\n",
       "      <td>MN</td>\n",
       "      <td>9/30/2001</td>\n",
       "      <td>39008.0</td>\n",
       "      <td>NaN</td>\n",
       "      <td>NaN</td>\n",
       "      <td>NaN</td>\n",
       "      <td>228803.0</td>\n",
       "      <td>178.3</td>\n",
       "      <td>6.79</td>\n",
       "      <td>5.0</td>\n",
       "    </tr>\n",
       "    <tr>\n",
       "      <td>790634</td>\n",
       "      <td>Murray County</td>\n",
       "      <td>MN</td>\n",
       "      <td>9/30/2001</td>\n",
       "      <td>NaN</td>\n",
       "      <td>NaN</td>\n",
       "      <td>NaN</td>\n",
       "      <td>117818.0</td>\n",
       "      <td>164315.0</td>\n",
       "      <td>178.3</td>\n",
       "      <td>6.79</td>\n",
       "      <td>5.0</td>\n",
       "    </tr>\n",
       "    <tr>\n",
       "      <td>790635</td>\n",
       "      <td>Nicollet County</td>\n",
       "      <td>MN</td>\n",
       "      <td>9/30/2001</td>\n",
       "      <td>93299.0</td>\n",
       "      <td>NaN</td>\n",
       "      <td>NaN</td>\n",
       "      <td>NaN</td>\n",
       "      <td>189095.0</td>\n",
       "      <td>178.3</td>\n",
       "      <td>6.79</td>\n",
       "      <td>5.0</td>\n",
       "    </tr>\n",
       "  </tbody>\n",
       "</table>\n",
       "<p>790636 rows × 11 columns</p>\n",
       "</div>"
      ],
      "text/plain": [
       "                         Region Name State       Year  \\\n",
       "0                  Anchorage Borough    AK  5/31/2006   \n",
       "1       Fairbanks North Star Borough    AK  5/31/2006   \n",
       "2                     Juneau Borough    AK  5/31/2006   \n",
       "3            Kenai Peninsula Borough    AK  5/31/2006   \n",
       "4          Ketchikan Gateway Borough    AK  5/31/2006   \n",
       "...                              ...   ...        ...   \n",
       "790631             Mille Lacs County    MN  9/30/2001   \n",
       "790632               Morrison County    MN  9/30/2001   \n",
       "790633                  Mower County    MN  9/30/2001   \n",
       "790634                 Murray County    MN  9/30/2001   \n",
       "790635               Nicollet County    MN  9/30/2001   \n",
       "\n",
       "        House Price for 1 Bedroom  House Price for 2 Bedroom  \\\n",
       "0                        171828.0                        NaN   \n",
       "1                         86058.0                        NaN   \n",
       "2                        165691.0                        NaN   \n",
       "3                        101413.0                   118944.0   \n",
       "4                         84840.0                    69894.0   \n",
       "...                           ...                        ...   \n",
       "790631                        NaN                        NaN   \n",
       "790632                    72286.0                        NaN   \n",
       "790633                    39008.0                        NaN   \n",
       "790634                        NaN                        NaN   \n",
       "790635                    93299.0                        NaN   \n",
       "\n",
       "        House Price for 3 Bedroom  House Price for 4 Bedroom  \\\n",
       "0                        107539.0                   217366.0   \n",
       "1                        429563.0                   173730.0   \n",
       "2                        130096.0                   136614.0   \n",
       "3                         77373.0                    86021.0   \n",
       "4                         89360.0                        NaN   \n",
       "...                           ...                        ...   \n",
       "790631                        NaN                   158081.0   \n",
       "790632                        NaN                        NaN   \n",
       "790633                        NaN                        NaN   \n",
       "790634                        NaN                   117818.0   \n",
       "790635                        NaN                        NaN   \n",
       "\n",
       "        House Price for 5 Bedroom  Inflation Rate  Mortgage Rate  \\\n",
       "0                        319275.0           202.5           5.92   \n",
       "1                        336771.0           202.5           5.92   \n",
       "2                             NaN           202.5           5.92   \n",
       "3                        128538.0           202.5           5.92   \n",
       "4                        301777.0           202.5           5.92   \n",
       "...                           ...             ...            ...   \n",
       "790631                        NaN           178.3           6.79   \n",
       "790632                   216179.0           178.3           6.79   \n",
       "790633                   228803.0           178.3           6.79   \n",
       "790634                   164315.0           178.3           6.79   \n",
       "790635                   189095.0           178.3           6.79   \n",
       "\n",
       "        Unemployment Rate  \n",
       "0                     4.6  \n",
       "1                     4.6  \n",
       "2                     4.6  \n",
       "3                     4.6  \n",
       "4                     4.6  \n",
       "...                   ...  \n",
       "790631                5.0  \n",
       "790632                5.0  \n",
       "790633                5.0  \n",
       "790634                5.0  \n",
       "790635                5.0  \n",
       "\n",
       "[790636 rows x 11 columns]"
      ]
     },
     "execution_count": 2,
     "metadata": {},
     "output_type": "execute_result"
    }
   ],
   "source": [
    "HouseDF = pd.read_csv('E:\\Rizwan study\\ML Task/Complete dataset1.csv')\n",
    "HouseDF"
   ]
  },
  {
   "cell_type": "code",
   "execution_count": 3,
   "metadata": {},
   "outputs": [
    {
     "data": {
      "text/plain": [
       "(790636, 11)"
      ]
     },
     "execution_count": 3,
     "metadata": {},
     "output_type": "execute_result"
    }
   ],
   "source": [
    "HouseDF.shape"
   ]
  },
  {
   "cell_type": "code",
   "execution_count": 4,
   "metadata": {
    "scrolled": true
   },
   "outputs": [
    {
     "data": {
      "text/html": [
       "<div>\n",
       "<style scoped>\n",
       "    .dataframe tbody tr th:only-of-type {\n",
       "        vertical-align: middle;\n",
       "    }\n",
       "\n",
       "    .dataframe tbody tr th {\n",
       "        vertical-align: top;\n",
       "    }\n",
       "\n",
       "    .dataframe thead th {\n",
       "        text-align: right;\n",
       "    }\n",
       "</style>\n",
       "<table border=\"1\" class=\"dataframe\">\n",
       "  <thead>\n",
       "    <tr style=\"text-align: right;\">\n",
       "      <th></th>\n",
       "      <th>Region Name</th>\n",
       "      <th>State</th>\n",
       "      <th>Year</th>\n",
       "      <th>House Price for 1 Bedroom</th>\n",
       "      <th>House Price for 2 Bedroom</th>\n",
       "      <th>House Price for 3 Bedroom</th>\n",
       "      <th>House Price for 4 Bedroom</th>\n",
       "      <th>House Price for 5 Bedroom</th>\n",
       "      <th>Inflation Rate</th>\n",
       "      <th>Mortgage Rate</th>\n",
       "      <th>Unemployment Rate</th>\n",
       "    </tr>\n",
       "  </thead>\n",
       "  <tbody>\n",
       "    <tr>\n",
       "      <td>0</td>\n",
       "      <td>Anchorage Borough</td>\n",
       "      <td>AK</td>\n",
       "      <td>5/31/2006</td>\n",
       "      <td>171828.0</td>\n",
       "      <td>NaN</td>\n",
       "      <td>107539.0</td>\n",
       "      <td>217366.0</td>\n",
       "      <td>319275.0</td>\n",
       "      <td>202.5</td>\n",
       "      <td>5.92</td>\n",
       "      <td>4.6</td>\n",
       "    </tr>\n",
       "    <tr>\n",
       "      <td>1</td>\n",
       "      <td>Fairbanks North Star Borough</td>\n",
       "      <td>AK</td>\n",
       "      <td>5/31/2006</td>\n",
       "      <td>86058.0</td>\n",
       "      <td>NaN</td>\n",
       "      <td>429563.0</td>\n",
       "      <td>173730.0</td>\n",
       "      <td>336771.0</td>\n",
       "      <td>202.5</td>\n",
       "      <td>5.92</td>\n",
       "      <td>4.6</td>\n",
       "    </tr>\n",
       "    <tr>\n",
       "      <td>2</td>\n",
       "      <td>Juneau Borough</td>\n",
       "      <td>AK</td>\n",
       "      <td>5/31/2006</td>\n",
       "      <td>165691.0</td>\n",
       "      <td>NaN</td>\n",
       "      <td>130096.0</td>\n",
       "      <td>136614.0</td>\n",
       "      <td>NaN</td>\n",
       "      <td>202.5</td>\n",
       "      <td>5.92</td>\n",
       "      <td>4.6</td>\n",
       "    </tr>\n",
       "    <tr>\n",
       "      <td>3</td>\n",
       "      <td>Kenai Peninsula Borough</td>\n",
       "      <td>AK</td>\n",
       "      <td>5/31/2006</td>\n",
       "      <td>101413.0</td>\n",
       "      <td>118944.0</td>\n",
       "      <td>77373.0</td>\n",
       "      <td>86021.0</td>\n",
       "      <td>128538.0</td>\n",
       "      <td>202.5</td>\n",
       "      <td>5.92</td>\n",
       "      <td>4.6</td>\n",
       "    </tr>\n",
       "    <tr>\n",
       "      <td>4</td>\n",
       "      <td>Ketchikan Gateway Borough</td>\n",
       "      <td>AK</td>\n",
       "      <td>5/31/2006</td>\n",
       "      <td>84840.0</td>\n",
       "      <td>69894.0</td>\n",
       "      <td>89360.0</td>\n",
       "      <td>NaN</td>\n",
       "      <td>301777.0</td>\n",
       "      <td>202.5</td>\n",
       "      <td>5.92</td>\n",
       "      <td>4.6</td>\n",
       "    </tr>\n",
       "  </tbody>\n",
       "</table>\n",
       "</div>"
      ],
      "text/plain": [
       "                    Region Name State       Year  House Price for 1 Bedroom  \\\n",
       "0             Anchorage Borough    AK  5/31/2006                   171828.0   \n",
       "1  Fairbanks North Star Borough    AK  5/31/2006                    86058.0   \n",
       "2                Juneau Borough    AK  5/31/2006                   165691.0   \n",
       "3       Kenai Peninsula Borough    AK  5/31/2006                   101413.0   \n",
       "4     Ketchikan Gateway Borough    AK  5/31/2006                    84840.0   \n",
       "\n",
       "   House Price for 2 Bedroom  House Price for 3 Bedroom  \\\n",
       "0                        NaN                   107539.0   \n",
       "1                        NaN                   429563.0   \n",
       "2                        NaN                   130096.0   \n",
       "3                   118944.0                    77373.0   \n",
       "4                    69894.0                    89360.0   \n",
       "\n",
       "   House Price for 4 Bedroom  House Price for 5 Bedroom  Inflation Rate  \\\n",
       "0                   217366.0                   319275.0           202.5   \n",
       "1                   173730.0                   336771.0           202.5   \n",
       "2                   136614.0                        NaN           202.5   \n",
       "3                    86021.0                   128538.0           202.5   \n",
       "4                        NaN                   301777.0           202.5   \n",
       "\n",
       "   Mortgage Rate  Unemployment Rate  \n",
       "0           5.92                4.6  \n",
       "1           5.92                4.6  \n",
       "2           5.92                4.6  \n",
       "3           5.92                4.6  \n",
       "4           5.92                4.6  "
      ]
     },
     "execution_count": 4,
     "metadata": {},
     "output_type": "execute_result"
    }
   ],
   "source": [
    "HouseDF.head()"
   ]
  },
  {
   "cell_type": "code",
   "execution_count": 5,
   "metadata": {
    "scrolled": true
   },
   "outputs": [
    {
     "name": "stdout",
     "output_type": "stream",
     "text": [
      "<class 'pandas.core.frame.DataFrame'>\n",
      "RangeIndex: 790636 entries, 0 to 790635\n",
      "Data columns (total 11 columns):\n",
      "Region Name                  790636 non-null object\n",
      "State                        790636 non-null object\n",
      "Year                         790636 non-null object\n",
      "House Price for 1 Bedroom    531895 non-null float64\n",
      "House Price for 2 Bedroom    539878 non-null float64\n",
      "House Price for 3 Bedroom    549212 non-null float64\n",
      "House Price for 4 Bedroom    548956 non-null float64\n",
      "House Price for 5 Bedroom    543919 non-null float64\n",
      "Inflation Rate               790636 non-null float64\n",
      "Mortgage Rate                790636 non-null float64\n",
      "Unemployment Rate            790636 non-null float64\n",
      "dtypes: float64(8), object(3)\n",
      "memory usage: 66.4+ MB\n"
     ]
    }
   ],
   "source": [
    "HouseDF.info()"
   ]
  },
  {
   "cell_type": "code",
   "execution_count": 6,
   "metadata": {
    "scrolled": true
   },
   "outputs": [
    {
     "data": {
      "text/html": [
       "<div>\n",
       "<style scoped>\n",
       "    .dataframe tbody tr th:only-of-type {\n",
       "        vertical-align: middle;\n",
       "    }\n",
       "\n",
       "    .dataframe tbody tr th {\n",
       "        vertical-align: top;\n",
       "    }\n",
       "\n",
       "    .dataframe thead th {\n",
       "        text-align: right;\n",
       "    }\n",
       "</style>\n",
       "<table border=\"1\" class=\"dataframe\">\n",
       "  <thead>\n",
       "    <tr style=\"text-align: right;\">\n",
       "      <th></th>\n",
       "      <th>House Price for 1 Bedroom</th>\n",
       "      <th>House Price for 2 Bedroom</th>\n",
       "      <th>House Price for 3 Bedroom</th>\n",
       "      <th>House Price for 4 Bedroom</th>\n",
       "      <th>House Price for 5 Bedroom</th>\n",
       "      <th>Inflation Rate</th>\n",
       "      <th>Mortgage Rate</th>\n",
       "      <th>Unemployment Rate</th>\n",
       "    </tr>\n",
       "  </thead>\n",
       "  <tbody>\n",
       "    <tr>\n",
       "      <td>count</td>\n",
       "      <td>531895.000000</td>\n",
       "      <td>5.398780e+05</td>\n",
       "      <td>5.492120e+05</td>\n",
       "      <td>5.489560e+05</td>\n",
       "      <td>5.439190e+05</td>\n",
       "      <td>790636.000000</td>\n",
       "      <td>790636.000000</td>\n",
       "      <td>790636.000000</td>\n",
       "    </tr>\n",
       "    <tr>\n",
       "      <td>mean</td>\n",
       "      <td>94329.941492</td>\n",
       "      <td>1.016993e+05</td>\n",
       "      <td>1.390543e+05</td>\n",
       "      <td>1.894752e+05</td>\n",
       "      <td>2.480273e+05</td>\n",
       "      <td>208.874172</td>\n",
       "      <td>5.311457</td>\n",
       "      <td>5.795033</td>\n",
       "    </tr>\n",
       "    <tr>\n",
       "      <td>std</td>\n",
       "      <td>68747.385985</td>\n",
       "      <td>7.606775e+04</td>\n",
       "      <td>9.664233e+04</td>\n",
       "      <td>1.470099e+05</td>\n",
       "      <td>2.382595e+05</td>\n",
       "      <td>31.942361</td>\n",
       "      <td>1.436215</td>\n",
       "      <td>1.871292</td>\n",
       "    </tr>\n",
       "    <tr>\n",
       "      <td>min</td>\n",
       "      <td>11702.000000</td>\n",
       "      <td>1.390800e+04</td>\n",
       "      <td>2.015200e+04</td>\n",
       "      <td>2.810200e+04</td>\n",
       "      <td>2.213500e+04</td>\n",
       "      <td>154.400000</td>\n",
       "      <td>2.710000</td>\n",
       "      <td>3.500000</td>\n",
       "    </tr>\n",
       "    <tr>\n",
       "      <td>25%</td>\n",
       "      <td>52637.000000</td>\n",
       "      <td>5.813525e+04</td>\n",
       "      <td>8.850200e+04</td>\n",
       "      <td>1.177980e+05</td>\n",
       "      <td>1.419205e+05</td>\n",
       "      <td>179.800000</td>\n",
       "      <td>3.960000</td>\n",
       "      <td>4.500000</td>\n",
       "    </tr>\n",
       "    <tr>\n",
       "      <td>50%</td>\n",
       "      <td>76460.000000</td>\n",
       "      <td>8.161300e+04</td>\n",
       "      <td>1.165880e+05</td>\n",
       "      <td>1.588105e+05</td>\n",
       "      <td>1.997630e+05</td>\n",
       "      <td>212.950000</td>\n",
       "      <td>5.435000</td>\n",
       "      <td>5.200000</td>\n",
       "    </tr>\n",
       "    <tr>\n",
       "      <td>75%</td>\n",
       "      <td>113926.000000</td>\n",
       "      <td>1.216090e+05</td>\n",
       "      <td>1.587680e+05</td>\n",
       "      <td>2.186715e+05</td>\n",
       "      <td>2.867085e+05</td>\n",
       "      <td>236.900000</td>\n",
       "      <td>6.660000</td>\n",
       "      <td>6.300000</td>\n",
       "    </tr>\n",
       "    <tr>\n",
       "      <td>max</td>\n",
       "      <td>997541.000000</td>\n",
       "      <td>1.542669e+06</td>\n",
       "      <td>2.905687e+06</td>\n",
       "      <td>5.721834e+06</td>\n",
       "      <td>8.218720e+06</td>\n",
       "      <td>263.000000</td>\n",
       "      <td>7.480000</td>\n",
       "      <td>14.800000</td>\n",
       "    </tr>\n",
       "  </tbody>\n",
       "</table>\n",
       "</div>"
      ],
      "text/plain": [
       "       House Price for 1 Bedroom  House Price for 2 Bedroom  \\\n",
       "count              531895.000000               5.398780e+05   \n",
       "mean                94329.941492               1.016993e+05   \n",
       "std                 68747.385985               7.606775e+04   \n",
       "min                 11702.000000               1.390800e+04   \n",
       "25%                 52637.000000               5.813525e+04   \n",
       "50%                 76460.000000               8.161300e+04   \n",
       "75%                113926.000000               1.216090e+05   \n",
       "max                997541.000000               1.542669e+06   \n",
       "\n",
       "       House Price for 3 Bedroom  House Price for 4 Bedroom  \\\n",
       "count               5.492120e+05               5.489560e+05   \n",
       "mean                1.390543e+05               1.894752e+05   \n",
       "std                 9.664233e+04               1.470099e+05   \n",
       "min                 2.015200e+04               2.810200e+04   \n",
       "25%                 8.850200e+04               1.177980e+05   \n",
       "50%                 1.165880e+05               1.588105e+05   \n",
       "75%                 1.587680e+05               2.186715e+05   \n",
       "max                 2.905687e+06               5.721834e+06   \n",
       "\n",
       "       House Price for 5 Bedroom  Inflation Rate  Mortgage Rate  \\\n",
       "count               5.439190e+05   790636.000000  790636.000000   \n",
       "mean                2.480273e+05      208.874172       5.311457   \n",
       "std                 2.382595e+05       31.942361       1.436215   \n",
       "min                 2.213500e+04      154.400000       2.710000   \n",
       "25%                 1.419205e+05      179.800000       3.960000   \n",
       "50%                 1.997630e+05      212.950000       5.435000   \n",
       "75%                 2.867085e+05      236.900000       6.660000   \n",
       "max                 8.218720e+06      263.000000       7.480000   \n",
       "\n",
       "       Unemployment Rate  \n",
       "count      790636.000000  \n",
       "mean            5.795033  \n",
       "std             1.871292  \n",
       "min             3.500000  \n",
       "25%             4.500000  \n",
       "50%             5.200000  \n",
       "75%             6.300000  \n",
       "max            14.800000  "
      ]
     },
     "execution_count": 6,
     "metadata": {},
     "output_type": "execute_result"
    }
   ],
   "source": [
    "HouseDF.describe()"
   ]
  },
  {
   "cell_type": "code",
   "execution_count": 7,
   "metadata": {},
   "outputs": [
    {
     "data": {
      "text/plain": [
       "Index(['Region Name', 'State', 'Year', 'House Price for 1 Bedroom',\n",
       "       'House Price for 2 Bedroom', 'House Price for 3 Bedroom',\n",
       "       'House Price for 4 Bedroom', 'House Price for 5 Bedroom',\n",
       "       'Inflation Rate', 'Mortgage Rate', 'Unemployment Rate'],\n",
       "      dtype='object')"
      ]
     },
     "execution_count": 7,
     "metadata": {},
     "output_type": "execute_result"
    }
   ],
   "source": [
    "HouseDF.columns"
   ]
  },
  {
   "cell_type": "code",
   "execution_count": 8,
   "metadata": {
    "scrolled": false
   },
   "outputs": [
    {
     "data": {
      "text/plain": [
       "Region Name                       0\n",
       "State                             0\n",
       "Year                              0\n",
       "House Price for 1 Bedroom    258741\n",
       "House Price for 2 Bedroom    250758\n",
       "House Price for 3 Bedroom    241424\n",
       "House Price for 4 Bedroom    241680\n",
       "House Price for 5 Bedroom    246717\n",
       "Inflation Rate                    0\n",
       "Mortgage Rate                     0\n",
       "Unemployment Rate                 0\n",
       "dtype: int64"
      ]
     },
     "execution_count": 8,
     "metadata": {},
     "output_type": "execute_result"
    }
   ],
   "source": [
    "#show missing value in the dataset\n",
    "HouseDF.isnull().sum()"
   ]
  },
  {
   "cell_type": "code",
   "execution_count": 9,
   "metadata": {},
   "outputs": [
    {
     "data": {
      "text/plain": [
       "Region Name                   0.000000\n",
       "State                         0.000000\n",
       "Year                          0.000000\n",
       "House Price for 1 Bedroom    32.725679\n",
       "House Price for 2 Bedroom    31.715986\n",
       "House Price for 3 Bedroom    30.535417\n",
       "House Price for 4 Bedroom    30.567796\n",
       "House Price for 5 Bedroom    31.204878\n",
       "Inflation Rate                0.000000\n",
       "Mortgage Rate                 0.000000\n",
       "Unemployment Rate             0.000000\n",
       "dtype: float64"
      ]
     },
     "execution_count": 9,
     "metadata": {},
     "output_type": "execute_result"
    }
   ],
   "source": [
    "missing_value_per = HouseDF.isnull().sum()/HouseDF.shape[0] * 100\n",
    "missing_value_per"
   ]
  },
  {
   "cell_type": "code",
   "execution_count": 10,
   "metadata": {
    "scrolled": true
   },
   "outputs": [
    {
     "data": {
      "text/plain": [
       "<matplotlib.axes._subplots.AxesSubplot at 0x1f06878d5c8>"
      ]
     },
     "execution_count": 10,
     "metadata": {},
     "output_type": "execute_result"
    },
    {
     "data": {
      "image/png": "[encoded data removed]",
      "text/plain": [
       "<Figure size 1152x648 with 2 Axes>"
      ]
     },
     "metadata": {
      "needs_background": "light"
     },
     "output_type": "display_data"
    }
   ],
   "source": [
    "plt.figure(figsize=(16,9))\n",
    "sns.heatmap(HouseDF.isnull())"
   ]
  },
  {
   "cell_type": "code",
   "execution_count": 11,
   "metadata": {},
   "outputs": [
    {
     "data": {
      "text/plain": [
       "<matplotlib.axes._subplots.AxesSubplot at 0x1f068c15808>"
      ]
     },
     "execution_count": 11,
     "metadata": {},
     "output_type": "execute_result"
    },
    {
     "data": {
      "image/png": "[encoded data removed]",
      "text/plain": [
       "<Figure size 432x288 with 2 Axes>"
      ]
     },
     "metadata": {
      "needs_background": "light"
     },
     "output_type": "display_data"
    }
   ],
   "source": [
    "sns.heatmap(HouseDF.corr(), annot=True)"
   ]
  },
  {
   "cell_type": "code",
   "execution_count": 12,
   "metadata": {},
   "outputs": [],
   "source": [
    "from sklearn.preprocessing import OneHotEncoder"
   ]
  },
  {
   "cell_type": "code",
   "execution_count": 13,
   "metadata": {
    "scrolled": true
   },
   "outputs": [
    {
     "data": {
      "text/html": [
       "<div>\n",
       "<style scoped>\n",
       "    .dataframe tbody tr th:only-of-type {\n",
       "        vertical-align: middle;\n",
       "    }\n",
       "\n",
       "    .dataframe tbody tr th {\n",
       "        vertical-align: top;\n",
       "    }\n",
       "\n",
       "    .dataframe thead th {\n",
       "        text-align: right;\n",
       "    }\n",
       "</style>\n",
       "<table border=\"1\" class=\"dataframe\">\n",
       "  <thead>\n",
       "    <tr style=\"text-align: right;\">\n",
       "      <th></th>\n",
       "      <th>House Price for 1 Bedroom</th>\n",
       "      <th>House Price for 2 Bedroom</th>\n",
       "      <th>House Price for 3 Bedroom</th>\n",
       "      <th>House Price for 4 Bedroom</th>\n",
       "      <th>House Price for 5 Bedroom</th>\n",
       "      <th>Inflation Rate</th>\n",
       "      <th>Mortgage Rate</th>\n",
       "      <th>Unemployment Rate</th>\n",
       "      <th>Region Name_Abbeville County</th>\n",
       "      <th>Region Name_Acadia Parish</th>\n",
       "      <th>...</th>\n",
       "      <th>Year_9/30/2011</th>\n",
       "      <th>Year_9/30/2012</th>\n",
       "      <th>Year_9/30/2013</th>\n",
       "      <th>Year_9/30/2014</th>\n",
       "      <th>Year_9/30/2015</th>\n",
       "      <th>Year_9/30/2016</th>\n",
       "      <th>Year_9/30/2017</th>\n",
       "      <th>Year_9/30/2018</th>\n",
       "      <th>Year_9/30/2019</th>\n",
       "      <th>Year_9/30/2020</th>\n",
       "    </tr>\n",
       "  </thead>\n",
       "  <tbody>\n",
       "    <tr>\n",
       "      <td>0</td>\n",
       "      <td>171828.0</td>\n",
       "      <td>NaN</td>\n",
       "      <td>107539.0</td>\n",
       "      <td>217366.0</td>\n",
       "      <td>319275.0</td>\n",
       "      <td>202.5</td>\n",
       "      <td>5.92</td>\n",
       "      <td>4.6</td>\n",
       "      <td>0</td>\n",
       "      <td>0</td>\n",
       "      <td>...</td>\n",
       "      <td>0</td>\n",
       "      <td>0</td>\n",
       "      <td>0</td>\n",
       "      <td>0</td>\n",
       "      <td>0</td>\n",
       "      <td>0</td>\n",
       "      <td>0</td>\n",
       "      <td>0</td>\n",
       "      <td>0</td>\n",
       "      <td>0</td>\n",
       "    </tr>\n",
       "    <tr>\n",
       "      <td>1</td>\n",
       "      <td>86058.0</td>\n",
       "      <td>NaN</td>\n",
       "      <td>429563.0</td>\n",
       "      <td>173730.0</td>\n",
       "      <td>336771.0</td>\n",
       "      <td>202.5</td>\n",
       "      <td>5.92</td>\n",
       "      <td>4.6</td>\n",
       "      <td>0</td>\n",
       "      <td>0</td>\n",
       "      <td>...</td>\n",
       "      <td>0</td>\n",
       "      <td>0</td>\n",
       "      <td>0</td>\n",
       "      <td>0</td>\n",
       "      <td>0</td>\n",
       "      <td>0</td>\n",
       "      <td>0</td>\n",
       "      <td>0</td>\n",
       "      <td>0</td>\n",
       "      <td>0</td>\n",
       "    </tr>\n",
       "    <tr>\n",
       "      <td>2</td>\n",
       "      <td>165691.0</td>\n",
       "      <td>NaN</td>\n",
       "      <td>130096.0</td>\n",
       "      <td>136614.0</td>\n",
       "      <td>NaN</td>\n",
       "      <td>202.5</td>\n",
       "      <td>5.92</td>\n",
       "      <td>4.6</td>\n",
       "      <td>0</td>\n",
       "      <td>0</td>\n",
       "      <td>...</td>\n",
       "      <td>0</td>\n",
       "      <td>0</td>\n",
       "      <td>0</td>\n",
       "      <td>0</td>\n",
       "      <td>0</td>\n",
       "      <td>0</td>\n",
       "      <td>0</td>\n",
       "      <td>0</td>\n",
       "      <td>0</td>\n",
       "      <td>0</td>\n",
       "    </tr>\n",
       "    <tr>\n",
       "      <td>3</td>\n",
       "      <td>101413.0</td>\n",
       "      <td>118944.0</td>\n",
       "      <td>77373.0</td>\n",
       "      <td>86021.0</td>\n",
       "      <td>128538.0</td>\n",
       "      <td>202.5</td>\n",
       "      <td>5.92</td>\n",
       "      <td>4.6</td>\n",
       "      <td>0</td>\n",
       "      <td>0</td>\n",
       "      <td>...</td>\n",
       "      <td>0</td>\n",
       "      <td>0</td>\n",
       "      <td>0</td>\n",
       "      <td>0</td>\n",
       "      <td>0</td>\n",
       "      <td>0</td>\n",
       "      <td>0</td>\n",
       "      <td>0</td>\n",
       "      <td>0</td>\n",
       "      <td>0</td>\n",
       "    </tr>\n",
       "    <tr>\n",
       "      <td>4</td>\n",
       "      <td>84840.0</td>\n",
       "      <td>69894.0</td>\n",
       "      <td>89360.0</td>\n",
       "      <td>NaN</td>\n",
       "      <td>301777.0</td>\n",
       "      <td>202.5</td>\n",
       "      <td>5.92</td>\n",
       "      <td>4.6</td>\n",
       "      <td>0</td>\n",
       "      <td>0</td>\n",
       "      <td>...</td>\n",
       "      <td>0</td>\n",
       "      <td>0</td>\n",
       "      <td>0</td>\n",
       "      <td>0</td>\n",
       "      <td>0</td>\n",
       "      <td>0</td>\n",
       "      <td>0</td>\n",
       "      <td>0</td>\n",
       "      <td>0</td>\n",
       "      <td>0</td>\n",
       "    </tr>\n",
       "    <tr>\n",
       "      <td>...</td>\n",
       "      <td>...</td>\n",
       "      <td>...</td>\n",
       "      <td>...</td>\n",
       "      <td>...</td>\n",
       "      <td>...</td>\n",
       "      <td>...</td>\n",
       "      <td>...</td>\n",
       "      <td>...</td>\n",
       "      <td>...</td>\n",
       "      <td>...</td>\n",
       "      <td>...</td>\n",
       "      <td>...</td>\n",
       "      <td>...</td>\n",
       "      <td>...</td>\n",
       "      <td>...</td>\n",
       "      <td>...</td>\n",
       "      <td>...</td>\n",
       "      <td>...</td>\n",
       "      <td>...</td>\n",
       "      <td>...</td>\n",
       "      <td>...</td>\n",
       "    </tr>\n",
       "    <tr>\n",
       "      <td>790631</td>\n",
       "      <td>NaN</td>\n",
       "      <td>NaN</td>\n",
       "      <td>NaN</td>\n",
       "      <td>158081.0</td>\n",
       "      <td>NaN</td>\n",
       "      <td>178.3</td>\n",
       "      <td>6.79</td>\n",
       "      <td>5.0</td>\n",
       "      <td>0</td>\n",
       "      <td>0</td>\n",
       "      <td>...</td>\n",
       "      <td>0</td>\n",
       "      <td>0</td>\n",
       "      <td>0</td>\n",
       "      <td>0</td>\n",
       "      <td>0</td>\n",
       "      <td>0</td>\n",
       "      <td>0</td>\n",
       "      <td>0</td>\n",
       "      <td>0</td>\n",
       "      <td>0</td>\n",
       "    </tr>\n",
       "    <tr>\n",
       "      <td>790632</td>\n",
       "      <td>72286.0</td>\n",
       "      <td>NaN</td>\n",
       "      <td>NaN</td>\n",
       "      <td>NaN</td>\n",
       "      <td>216179.0</td>\n",
       "      <td>178.3</td>\n",
       "      <td>6.79</td>\n",
       "      <td>5.0</td>\n",
       "      <td>0</td>\n",
       "      <td>0</td>\n",
       "      <td>...</td>\n",
       "      <td>0</td>\n",
       "      <td>0</td>\n",
       "      <td>0</td>\n",
       "      <td>0</td>\n",
       "      <td>0</td>\n",
       "      <td>0</td>\n",
       "      <td>0</td>\n",
       "      <td>0</td>\n",
       "      <td>0</td>\n",
       "      <td>0</td>\n",
       "    </tr>\n",
       "    <tr>\n",
       "      <td>790633</td>\n",
       "      <td>39008.0</td>\n",
       "      <td>NaN</td>\n",
       "      <td>NaN</td>\n",
       "      <td>NaN</td>\n",
       "      <td>228803.0</td>\n",
       "      <td>178.3</td>\n",
       "      <td>6.79</td>\n",
       "      <td>5.0</td>\n",
       "      <td>0</td>\n",
       "      <td>0</td>\n",
       "      <td>...</td>\n",
       "      <td>0</td>\n",
       "      <td>0</td>\n",
       "      <td>0</td>\n",
       "      <td>0</td>\n",
       "      <td>0</td>\n",
       "      <td>0</td>\n",
       "      <td>0</td>\n",
       "      <td>0</td>\n",
       "      <td>0</td>\n",
       "      <td>0</td>\n",
       "    </tr>\n",
       "    <tr>\n",
       "      <td>790634</td>\n",
       "      <td>NaN</td>\n",
       "      <td>NaN</td>\n",
       "      <td>NaN</td>\n",
       "      <td>117818.0</td>\n",
       "      <td>164315.0</td>\n",
       "      <td>178.3</td>\n",
       "      <td>6.79</td>\n",
       "      <td>5.0</td>\n",
       "      <td>0</td>\n",
       "      <td>0</td>\n",
       "      <td>...</td>\n",
       "      <td>0</td>\n",
       "      <td>0</td>\n",
       "      <td>0</td>\n",
       "      <td>0</td>\n",
       "      <td>0</td>\n",
       "      <td>0</td>\n",
       "      <td>0</td>\n",
       "      <td>0</td>\n",
       "      <td>0</td>\n",
       "      <td>0</td>\n",
       "    </tr>\n",
       "    <tr>\n",
       "      <td>790635</td>\n",
       "      <td>93299.0</td>\n",
       "      <td>NaN</td>\n",
       "      <td>NaN</td>\n",
       "      <td>NaN</td>\n",
       "      <td>189095.0</td>\n",
       "      <td>178.3</td>\n",
       "      <td>6.79</td>\n",
       "      <td>5.0</td>\n",
       "      <td>0</td>\n",
       "      <td>0</td>\n",
       "      <td>...</td>\n",
       "      <td>0</td>\n",
       "      <td>0</td>\n",
       "      <td>0</td>\n",
       "      <td>0</td>\n",
       "      <td>0</td>\n",
       "      <td>0</td>\n",
       "      <td>0</td>\n",
       "      <td>0</td>\n",
       "      <td>0</td>\n",
       "      <td>0</td>\n",
       "    </tr>\n",
       "  </tbody>\n",
       "</table>\n",
       "<p>790636 rows × 1963 columns</p>\n",
       "</div>"
      ],
      "text/plain": [
       "        House Price for 1 Bedroom  House Price for 2 Bedroom  \\\n",
       "0                        171828.0                        NaN   \n",
       "1                         86058.0                        NaN   \n",
       "2                        165691.0                        NaN   \n",
       "3                        101413.0                   118944.0   \n",
       "4                         84840.0                    69894.0   \n",
       "...                           ...                        ...   \n",
       "790631                        NaN                        NaN   \n",
       "790632                    72286.0                        NaN   \n",
       "790633                    39008.0                        NaN   \n",
       "790634                        NaN                        NaN   \n",
       "790635                    93299.0                        NaN   \n",
       "\n",
       "        House Price for 3 Bedroom  House Price for 4 Bedroom  \\\n",
       "0                        107539.0                   217366.0   \n",
       "1                        429563.0                   173730.0   \n",
       "2                        130096.0                   136614.0   \n",
       "3                         77373.0                    86021.0   \n",
       "4                         89360.0                        NaN   \n",
       "...                           ...                        ...   \n",
       "790631                        NaN                   158081.0   \n",
       "790632                        NaN                        NaN   \n",
       "790633                        NaN                        NaN   \n",
       "790634                        NaN                   117818.0   \n",
       "790635                        NaN                        NaN   \n",
       "\n",
       "        House Price for 5 Bedroom  Inflation Rate  Mortgage Rate  \\\n",
       "0                        319275.0           202.5           5.92   \n",
       "1                        336771.0           202.5           5.92   \n",
       "2                             NaN           202.5           5.92   \n",
       "3                        128538.0           202.5           5.92   \n",
       "4                        301777.0           202.5           5.92   \n",
       "...                           ...             ...            ...   \n",
       "790631                        NaN           178.3           6.79   \n",
       "790632                   216179.0           178.3           6.79   \n",
       "790633                   228803.0           178.3           6.79   \n",
       "790634                   164315.0           178.3           6.79   \n",
       "790635                   189095.0           178.3           6.79   \n",
       "\n",
       "        Unemployment Rate  Region Name_Abbeville County  \\\n",
       "0                     4.6                             0   \n",
       "1                     4.6                             0   \n",
       "2                     4.6                             0   \n",
       "3                     4.6                             0   \n",
       "4                     4.6                             0   \n",
       "...                   ...                           ...   \n",
       "790631                5.0                             0   \n",
       "790632                5.0                             0   \n",
       "790633                5.0                             0   \n",
       "790634                5.0                             0   \n",
       "790635                5.0                             0   \n",
       "\n",
       "        Region Name_Acadia Parish  ...  Year_9/30/2011  Year_9/30/2012  \\\n",
       "0                               0  ...               0               0   \n",
       "1                               0  ...               0               0   \n",
       "2                               0  ...               0               0   \n",
       "3                               0  ...               0               0   \n",
       "4                               0  ...               0               0   \n",
       "...                           ...  ...             ...             ...   \n",
       "790631                          0  ...               0               0   \n",
       "790632                          0  ...               0               0   \n",
       "790633                          0  ...               0               0   \n",
       "790634                          0  ...               0               0   \n",
       "790635                          0  ...               0               0   \n",
       "\n",
       "        Year_9/30/2013  Year_9/30/2014  Year_9/30/2015  Year_9/30/2016  \\\n",
       "0                    0               0               0               0   \n",
       "1                    0               0               0               0   \n",
       "2                    0               0               0               0   \n",
       "3                    0               0               0               0   \n",
       "4                    0               0               0               0   \n",
       "...                ...             ...             ...             ...   \n",
       "790631               0               0               0               0   \n",
       "790632               0               0               0               0   \n",
       "790633               0               0               0               0   \n",
       "790634               0               0               0               0   \n",
       "790635               0               0               0               0   \n",
       "\n",
       "        Year_9/30/2017  Year_9/30/2018  Year_9/30/2019  Year_9/30/2020  \n",
       "0                    0               0               0               0  \n",
       "1                    0               0               0               0  \n",
       "2                    0               0               0               0  \n",
       "3                    0               0               0               0  \n",
       "4                    0               0               0               0  \n",
       "...                ...             ...             ...             ...  \n",
       "790631               0               0               0               0  \n",
       "790632               0               0               0               0  \n",
       "790633               0               0               0               0  \n",
       "790634               0               0               0               0  \n",
       "790635               0               0               0               0  \n",
       "\n",
       "[790636 rows x 1963 columns]"
      ]
     },
     "execution_count": 13,
     "metadata": {},
     "output_type": "execute_result"
    }
   ],
   "source": [
    "dummy_df = pd.get_dummies(HouseDF)\n",
    "dummy_df"
   ]
  },
  {
   "cell_type": "markdown",
   "metadata": {},
   "source": [
    "# Handling missing values"
   ]
  },
  {
   "cell_type": "code",
   "execution_count": 14,
   "metadata": {},
   "outputs": [
    {
     "data": {
      "text/plain": [
       "Index(['House Price for 1 Bedroom', 'House Price for 2 Bedroom',\n",
       "       'House Price for 3 Bedroom', 'House Price for 4 Bedroom',\n",
       "       'House Price for 5 Bedroom', 'Inflation Rate', 'Mortgage Rate',\n",
       "       'Unemployment Rate'],\n",
       "      dtype='object')"
      ]
     },
     "execution_count": 14,
     "metadata": {},
     "output_type": "execute_result"
    }
   ],
   "source": [
    "num_vars=HouseDF.select_dtypes(include=[\"int64\",\"float64\"]).columns\n",
    "num_vars\n"
   ]
  },
  {
   "cell_type": "code",
   "execution_count": 15,
   "metadata": {},
   "outputs": [],
   "source": [
    "imputer_mean = SimpleImputer(strategy='mean')\n",
    "#imputer_mean = SimpleImputer(strategy='constant', fill_value=99)"
   ]
  },
  {
   "cell_type": "code",
   "execution_count": 16,
   "metadata": {},
   "outputs": [
    {
     "data": {
      "text/plain": [
       "SimpleImputer(add_indicator=False, copy=True, fill_value=None,\n",
       "              missing_values=nan, strategy='mean', verbose=0)"
      ]
     },
     "execution_count": 16,
     "metadata": {},
     "output_type": "execute_result"
    }
   ],
   "source": [
    "imputer_mean.fit(HouseDF[num_vars])\n",
    "\n",
    "\n"
   ]
  },
  {
   "cell_type": "code",
   "execution_count": 17,
   "metadata": {},
   "outputs": [
    {
     "data": {
      "text/plain": [
       "array([9.43299415e+04, 1.01699291e+05, 1.39054310e+05, 1.89475227e+05,\n",
       "       2.48027347e+05, 2.08874172e+02, 5.31145695e+00, 5.79503311e+00])"
      ]
     },
     "execution_count": 17,
     "metadata": {},
     "output_type": "execute_result"
    }
   ],
   "source": [
    "imputer_mean.statistics_\n"
   ]
  },
  {
   "cell_type": "code",
   "execution_count": 18,
   "metadata": {},
   "outputs": [
    {
     "data": {
      "text/plain": [
       "array([[1.71828000e+05, 1.01699291e+05, 1.07539000e+05, ...,\n",
       "        2.02500000e+02, 5.92000000e+00, 4.60000000e+00],\n",
       "       [8.60580000e+04, 1.01699291e+05, 4.29563000e+05, ...,\n",
       "        2.02500000e+02, 5.92000000e+00, 4.60000000e+00],\n",
       "       [1.65691000e+05, 1.01699291e+05, 1.30096000e+05, ...,\n",
       "        2.02500000e+02, 5.92000000e+00, 4.60000000e+00],\n",
       "       ...,\n",
       "       [3.90080000e+04, 1.01699291e+05, 1.39054310e+05, ...,\n",
       "        1.78300000e+02, 6.79000000e+00, 5.00000000e+00],\n",
       "       [9.43299415e+04, 1.01699291e+05, 1.39054310e+05, ...,\n",
       "        1.78300000e+02, 6.79000000e+00, 5.00000000e+00],\n",
       "       [9.32990000e+04, 1.01699291e+05, 1.39054310e+05, ...,\n",
       "        1.78300000e+02, 6.79000000e+00, 5.00000000e+00]])"
      ]
     },
     "execution_count": 18,
     "metadata": {},
     "output_type": "execute_result"
    }
   ],
   "source": [
    "imputer_mean.transform(HouseDF[num_vars])\n"
   ]
  },
  {
   "cell_type": "code",
   "execution_count": 19,
   "metadata": {},
   "outputs": [],
   "source": [
    "HouseDF[num_vars] = imputer_mean.transform(HouseDF[num_vars])\n",
    "\n"
   ]
  },
  {
   "cell_type": "code",
   "execution_count": 20,
   "metadata": {},
   "outputs": [
    {
     "data": {
      "text/plain": [
       "House Price for 1 Bedroom    0\n",
       "House Price for 2 Bedroom    0\n",
       "House Price for 3 Bedroom    0\n",
       "House Price for 4 Bedroom    0\n",
       "House Price for 5 Bedroom    0\n",
       "Inflation Rate               0\n",
       "Mortgage Rate                0\n",
       "Unemployment Rate            0\n",
       "dtype: int64"
      ]
     },
     "execution_count": 20,
     "metadata": {},
     "output_type": "execute_result"
    }
   ],
   "source": [
    "HouseDF[num_vars].isnull().sum()"
   ]
  },
  {
   "cell_type": "code",
   "execution_count": 21,
   "metadata": {
    "scrolled": false
   },
   "outputs": [
    {
     "data": {
      "text/html": [
       "<div>\n",
       "<style scoped>\n",
       "    .dataframe tbody tr th:only-of-type {\n",
       "        vertical-align: middle;\n",
       "    }\n",
       "\n",
       "    .dataframe tbody tr th {\n",
       "        vertical-align: top;\n",
       "    }\n",
       "\n",
       "    .dataframe thead th {\n",
       "        text-align: right;\n",
       "    }\n",
       "</style>\n",
       "<table border=\"1\" class=\"dataframe\">\n",
       "  <thead>\n",
       "    <tr style=\"text-align: right;\">\n",
       "      <th></th>\n",
       "      <th>Region Name</th>\n",
       "      <th>State</th>\n",
       "      <th>Year</th>\n",
       "      <th>House Price for 1 Bedroom</th>\n",
       "      <th>House Price for 2 Bedroom</th>\n",
       "      <th>House Price for 3 Bedroom</th>\n",
       "      <th>House Price for 4 Bedroom</th>\n",
       "      <th>House Price for 5 Bedroom</th>\n",
       "      <th>Inflation Rate</th>\n",
       "      <th>Mortgage Rate</th>\n",
       "      <th>Unemployment Rate</th>\n",
       "    </tr>\n",
       "  </thead>\n",
       "  <tbody>\n",
       "    <tr>\n",
       "      <td>0</td>\n",
       "      <td>Anchorage Borough</td>\n",
       "      <td>AK</td>\n",
       "      <td>5/31/2006</td>\n",
       "      <td>171828.000000</td>\n",
       "      <td>101699.290727</td>\n",
       "      <td>107539.000000</td>\n",
       "      <td>217366.000000</td>\n",
       "      <td>319275.000000</td>\n",
       "      <td>202.5</td>\n",
       "      <td>5.92</td>\n",
       "      <td>4.6</td>\n",
       "    </tr>\n",
       "    <tr>\n",
       "      <td>1</td>\n",
       "      <td>Fairbanks North Star Borough</td>\n",
       "      <td>AK</td>\n",
       "      <td>5/31/2006</td>\n",
       "      <td>86058.000000</td>\n",
       "      <td>101699.290727</td>\n",
       "      <td>429563.000000</td>\n",
       "      <td>173730.000000</td>\n",
       "      <td>336771.000000</td>\n",
       "      <td>202.5</td>\n",
       "      <td>5.92</td>\n",
       "      <td>4.6</td>\n",
       "    </tr>\n",
       "    <tr>\n",
       "      <td>2</td>\n",
       "      <td>Juneau Borough</td>\n",
       "      <td>AK</td>\n",
       "      <td>5/31/2006</td>\n",
       "      <td>165691.000000</td>\n",
       "      <td>101699.290727</td>\n",
       "      <td>130096.000000</td>\n",
       "      <td>136614.000000</td>\n",
       "      <td>248027.346982</td>\n",
       "      <td>202.5</td>\n",
       "      <td>5.92</td>\n",
       "      <td>4.6</td>\n",
       "    </tr>\n",
       "    <tr>\n",
       "      <td>3</td>\n",
       "      <td>Kenai Peninsula Borough</td>\n",
       "      <td>AK</td>\n",
       "      <td>5/31/2006</td>\n",
       "      <td>101413.000000</td>\n",
       "      <td>118944.000000</td>\n",
       "      <td>77373.000000</td>\n",
       "      <td>86021.000000</td>\n",
       "      <td>128538.000000</td>\n",
       "      <td>202.5</td>\n",
       "      <td>5.92</td>\n",
       "      <td>4.6</td>\n",
       "    </tr>\n",
       "    <tr>\n",
       "      <td>4</td>\n",
       "      <td>Ketchikan Gateway Borough</td>\n",
       "      <td>AK</td>\n",
       "      <td>5/31/2006</td>\n",
       "      <td>84840.000000</td>\n",
       "      <td>69894.000000</td>\n",
       "      <td>89360.000000</td>\n",
       "      <td>189475.227157</td>\n",
       "      <td>301777.000000</td>\n",
       "      <td>202.5</td>\n",
       "      <td>5.92</td>\n",
       "      <td>4.6</td>\n",
       "    </tr>\n",
       "    <tr>\n",
       "      <td>...</td>\n",
       "      <td>...</td>\n",
       "      <td>...</td>\n",
       "      <td>...</td>\n",
       "      <td>...</td>\n",
       "      <td>...</td>\n",
       "      <td>...</td>\n",
       "      <td>...</td>\n",
       "      <td>...</td>\n",
       "      <td>...</td>\n",
       "      <td>...</td>\n",
       "      <td>...</td>\n",
       "    </tr>\n",
       "    <tr>\n",
       "      <td>790631</td>\n",
       "      <td>Mille Lacs County</td>\n",
       "      <td>MN</td>\n",
       "      <td>9/30/2001</td>\n",
       "      <td>94329.941492</td>\n",
       "      <td>101699.290727</td>\n",
       "      <td>139054.309767</td>\n",
       "      <td>158081.000000</td>\n",
       "      <td>248027.346982</td>\n",
       "      <td>178.3</td>\n",
       "      <td>6.79</td>\n",
       "      <td>5.0</td>\n",
       "    </tr>\n",
       "    <tr>\n",
       "      <td>790632</td>\n",
       "      <td>Morrison County</td>\n",
       "      <td>MN</td>\n",
       "      <td>9/30/2001</td>\n",
       "      <td>72286.000000</td>\n",
       "      <td>101699.290727</td>\n",
       "      <td>139054.309767</td>\n",
       "      <td>189475.227157</td>\n",
       "      <td>216179.000000</td>\n",
       "      <td>178.3</td>\n",
       "      <td>6.79</td>\n",
       "      <td>5.0</td>\n",
       "    </tr>\n",
       "    <tr>\n",
       "      <td>790633</td>\n",
       "      <td>Mower County</td>\n",
       "      <td>MN</td>\n",
       "      <td>9/30/2001</td>\n",
       "      <td>39008.000000</td>\n",
       "      <td>101699.290727</td>\n",
       "      <td>139054.309767</td>\n",
       "      <td>189475.227157</td>\n",
       "      <td>228803.000000</td>\n",
       "      <td>178.3</td>\n",
       "      <td>6.79</td>\n",
       "      <td>5.0</td>\n",
       "    </tr>\n",
       "    <tr>\n",
       "      <td>790634</td>\n",
       "      <td>Murray County</td>\n",
       "      <td>MN</td>\n",
       "      <td>9/30/2001</td>\n",
       "      <td>94329.941492</td>\n",
       "      <td>101699.290727</td>\n",
       "      <td>139054.309767</td>\n",
       "      <td>117818.000000</td>\n",
       "      <td>164315.000000</td>\n",
       "      <td>178.3</td>\n",
       "      <td>6.79</td>\n",
       "      <td>5.0</td>\n",
       "    </tr>\n",
       "    <tr>\n",
       "      <td>790635</td>\n",
       "      <td>Nicollet County</td>\n",
       "      <td>MN</td>\n",
       "      <td>9/30/2001</td>\n",
       "      <td>93299.000000</td>\n",
       "      <td>101699.290727</td>\n",
       "      <td>139054.309767</td>\n",
       "      <td>189475.227157</td>\n",
       "      <td>189095.000000</td>\n",
       "      <td>178.3</td>\n",
       "      <td>6.79</td>\n",
       "      <td>5.0</td>\n",
       "    </tr>\n",
       "  </tbody>\n",
       "</table>\n",
       "<p>790636 rows × 11 columns</p>\n",
       "</div>"
      ],
      "text/plain": [
       "                         Region Name State       Year  \\\n",
       "0                  Anchorage Borough    AK  5/31/2006   \n",
       "1       Fairbanks North Star Borough    AK  5/31/2006   \n",
       "2                     Juneau Borough    AK  5/31/2006   \n",
       "3            Kenai Peninsula Borough    AK  5/31/2006   \n",
       "4          Ketchikan Gateway Borough    AK  5/31/2006   \n",
       "...                              ...   ...        ...   \n",
       "790631             Mille Lacs County    MN  9/30/2001   \n",
       "790632               Morrison County    MN  9/30/2001   \n",
       "790633                  Mower County    MN  9/30/2001   \n",
       "790634                 Murray County    MN  9/30/2001   \n",
       "790635               Nicollet County    MN  9/30/2001   \n",
       "\n",
       "        House Price for 1 Bedroom  House Price for 2 Bedroom  \\\n",
       "0                   171828.000000              101699.290727   \n",
       "1                    86058.000000              101699.290727   \n",
       "2                   165691.000000              101699.290727   \n",
       "3                   101413.000000              118944.000000   \n",
       "4                    84840.000000               69894.000000   \n",
       "...                           ...                        ...   \n",
       "790631               94329.941492              101699.290727   \n",
       "790632               72286.000000              101699.290727   \n",
       "790633               39008.000000              101699.290727   \n",
       "790634               94329.941492              101699.290727   \n",
       "790635               93299.000000              101699.290727   \n",
       "\n",
       "        House Price for 3 Bedroom  House Price for 4 Bedroom  \\\n",
       "0                   107539.000000              217366.000000   \n",
       "1                   429563.000000              173730.000000   \n",
       "2                   130096.000000              136614.000000   \n",
       "3                    77373.000000               86021.000000   \n",
       "4                    89360.000000              189475.227157   \n",
       "...                           ...                        ...   \n",
       "790631              139054.309767              158081.000000   \n",
       "790632              139054.309767              189475.227157   \n",
       "790633              139054.309767              189475.227157   \n",
       "790634              139054.309767              117818.000000   \n",
       "790635              139054.309767              189475.227157   \n",
       "\n",
       "        House Price for 5 Bedroom  Inflation Rate  Mortgage Rate  \\\n",
       "0                   319275.000000           202.5           5.92   \n",
       "1                   336771.000000           202.5           5.92   \n",
       "2                   248027.346982           202.5           5.92   \n",
       "3                   128538.000000           202.5           5.92   \n",
       "4                   301777.000000           202.5           5.92   \n",
       "...                           ...             ...            ...   \n",
       "790631              248027.346982           178.3           6.79   \n",
       "790632              216179.000000           178.3           6.79   \n",
       "790633              228803.000000           178.3           6.79   \n",
       "790634              164315.000000           178.3           6.79   \n",
       "790635              189095.000000           178.3           6.79   \n",
       "\n",
       "        Unemployment Rate  \n",
       "0                     4.6  \n",
       "1                     4.6  \n",
       "2                     4.6  \n",
       "3                     4.6  \n",
       "4                     4.6  \n",
       "...                   ...  \n",
       "790631                5.0  \n",
       "790632                5.0  \n",
       "790633                5.0  \n",
       "790634                5.0  \n",
       "790635                5.0  \n",
       "\n",
       "[790636 rows x 11 columns]"
      ]
     },
     "execution_count": 21,
     "metadata": {},
     "output_type": "execute_result"
    }
   ],
   "source": [
    "HouseDF"
   ]
  },
  {
   "cell_type": "code",
   "execution_count": 22,
   "metadata": {},
   "outputs": [
    {
     "data": {
      "text/plain": [
       "<matplotlib.axes._subplots.AxesSubplot at 0x1f068a5b5c8>"
      ]
     },
     "execution_count": 22,
     "metadata": {},
     "output_type": "execute_result"
    },
    {
     "data": {
      "image/png": "[encoded data removed]",
      "text/plain": [
       "<Figure size 1152x648 with 2 Axes>"
      ]
     },
     "metadata": {
      "needs_background": "light"
     },
     "output_type": "display_data"
    }
   ],
   "source": [
    "plt.figure(figsize=(16,9))\n",
    "sns.heatmap(HouseDF.isnull())"
   ]
  },
  {
   "cell_type": "markdown",
   "metadata": {},
   "source": [
    "# Train and Test model"
   ]
  },
  {
   "cell_type": "code",
   "execution_count": 23,
   "metadata": {},
   "outputs": [],
   "source": [
    "\n",
    "X=HouseDF[['Inflation Rate', 'Mortgage Rate',\n",
    "       'Unemployment Rate']]\n",
    "y = HouseDF[['House Price for 1 Bedroom', 'House Price for 2 Bedroom',\n",
    "       'House Price for 3 Bedroom', 'House Price for 4 Bedroom',\n",
    "       'House Price for 5 Bedroom']]\n"
   ]
  },
  {
   "cell_type": "markdown",
   "metadata": {},
   "source": [
    "# Split Data into Train, Test"
   ]
  },
  {
   "cell_type": "code",
   "execution_count": 24,
   "metadata": {},
   "outputs": [
    {
     "name": "stdout",
     "output_type": "stream",
     "text": [
      "Shape of X_train =  (632508, 3)\n",
      "Shape of y_train =  (632508, 5)\n",
      "Shape of X_test =  (158128, 3)\n",
      "Shape of y_test =  (158128, 5)\n"
     ]
    }
   ],
   "source": [
    "from sklearn.model_selection import train_test_split\n",
    "\n",
    "X_train, X_test, y_train, y_test = train_test_split(X, y, test_size=0.2, random_state=101) \n",
    "print('Shape of X_train = ', X_train.shape)\n",
    "print('Shape of y_train = ', y_train.shape)\n",
    "print('Shape of X_test = ', X_test.shape)\n",
    "print('Shape of y_test = ', y_test.shape)\n",
    "\n"
   ]
  },
  {
   "cell_type": "code",
   "execution_count": 25,
   "metadata": {},
   "outputs": [],
   "source": [
    "from sklearn.linear_model import LinearRegression\n",
    "from sklearn.preprocessing import PolynomialFeatures\n",
    "\n",
    "\n"
   ]
  },
  {
   "cell_type": "markdown",
   "metadata": {},
   "source": [
    "# Feature Scaling"
   ]
  },
  {
   "cell_type": "code",
   "execution_count": 26,
   "metadata": {},
   "outputs": [],
   "source": [
    "from sklearn.preprocessing import StandardScaler\n",
    "sc = StandardScaler()\n",
    "sc.fit(X_train)\n",
    "X_train = sc.transform(X_train)\n",
    "X_test = sc.transform(X_test)\n",
    "\n",
    "\n",
    "\n",
    "\n"
   ]
  },
  {
   "cell_type": "code",
   "execution_count": 27,
   "metadata": {},
   "outputs": [],
   "source": [
    "poly_reg = PolynomialFeatures(degree=1)\n",
    "poly_reg.fit(X_train)\n",
    "X_train_poly = poly_reg.transform(X_train)\n",
    "X_test_poly = poly_reg.transform(X_test)\n"
   ]
  },
  {
   "cell_type": "code",
   "execution_count": 28,
   "metadata": {},
   "outputs": [
    {
     "data": {
      "text/plain": [
       "((632508, 4), (158128, 4))"
      ]
     },
     "execution_count": 28,
     "metadata": {},
     "output_type": "execute_result"
    }
   ],
   "source": [
    "X_train_poly.shape, X_test_poly.shape\n"
   ]
  },
  {
   "cell_type": "code",
   "execution_count": 29,
   "metadata": {},
   "outputs": [
    {
     "data": {
      "text/plain": [
       "LinearRegression(copy_X=True, fit_intercept=True, n_jobs=None, normalize=False)"
      ]
     },
     "execution_count": 29,
     "metadata": {},
     "output_type": "execute_result"
    }
   ],
   "source": [
    "lr = LinearRegression()\n",
    "\n",
    "lr.fit(X_train_poly, y_train)\n",
    "\n"
   ]
  },
  {
   "cell_type": "code",
   "execution_count": 30,
   "metadata": {},
   "outputs": [
    {
     "data": {
      "text/plain": [
       "0.007541227831177157"
      ]
     },
     "execution_count": 30,
     "metadata": {},
     "output_type": "execute_result"
    }
   ],
   "source": [
    "lr.score(X_test_poly, y_test,)"
   ]
  },
  {
   "cell_type": "code",
   "execution_count": 31,
   "metadata": {},
   "outputs": [
    {
     "data": {
      "text/plain": [
       "array([[ 99291.49402106, 106214.03569399, 145162.95613584,\n",
       "        197903.87126826, 258749.48498981]])"
      ]
     },
     "execution_count": 31,
     "metadata": {},
     "output_type": "execute_result"
    }
   ],
   "source": [
    "lr.predict([X_test_poly[0,:]])"
   ]
  },
  {
   "cell_type": "code",
   "execution_count": 32,
   "metadata": {},
   "outputs": [
    {
     "data": {
      "text/plain": [
       "array([[ 99291.49402106, 106214.03569399, 145162.95613584,\n",
       "        197903.87126826, 258749.48498981],\n",
       "       [ 90696.09119178,  98523.76355218, 132955.27434242,\n",
       "        181456.85136951, 237249.57311278],\n",
       "       [ 92406.48747899,  99336.88567854, 134779.50903736,\n",
       "        183964.56828575, 241017.63555524],\n",
       "       ...,\n",
       "       [ 92491.69849929, 103800.28899556, 140588.68785397,\n",
       "        191279.86695129, 247880.32672994],\n",
       "       [ 98822.14441741, 104149.62033931, 145214.25490421,\n",
       "        197869.97075215, 260143.17672188],\n",
       "       [ 90696.09119178,  98523.76355218, 132955.27434242,\n",
       "        181456.85136951, 237249.57311278]])"
      ]
     },
     "execution_count": 32,
     "metadata": {},
     "output_type": "execute_result"
    }
   ],
   "source": [
    "y_pred = lr.predict(X_test_poly)\n",
    "y_pred"
   ]
  },
  {
   "cell_type": "code",
   "execution_count": 33,
   "metadata": {},
   "outputs": [
    {
     "data": {
      "text/html": [
       "<div>\n",
       "<style scoped>\n",
       "    .dataframe tbody tr th:only-of-type {\n",
       "        vertical-align: middle;\n",
       "    }\n",
       "\n",
       "    .dataframe tbody tr th {\n",
       "        vertical-align: top;\n",
       "    }\n",
       "\n",
       "    .dataframe thead th {\n",
       "        text-align: right;\n",
       "    }\n",
       "</style>\n",
       "<table border=\"1\" class=\"dataframe\">\n",
       "  <thead>\n",
       "    <tr style=\"text-align: right;\">\n",
       "      <th></th>\n",
       "      <th>House Price for 1 Bedroom</th>\n",
       "      <th>House Price for 2 Bedroom</th>\n",
       "      <th>House Price for 3 Bedroom</th>\n",
       "      <th>House Price for 4 Bedroom</th>\n",
       "      <th>House Price for 5 Bedroom</th>\n",
       "    </tr>\n",
       "  </thead>\n",
       "  <tbody>\n",
       "    <tr>\n",
       "      <td>753046</td>\n",
       "      <td>25334.000000</td>\n",
       "      <td>53720.000000</td>\n",
       "      <td>142917.000000</td>\n",
       "      <td>189475.227157</td>\n",
       "      <td>248027.346982</td>\n",
       "    </tr>\n",
       "    <tr>\n",
       "      <td>642839</td>\n",
       "      <td>93649.000000</td>\n",
       "      <td>144224.000000</td>\n",
       "      <td>139054.309767</td>\n",
       "      <td>189475.227157</td>\n",
       "      <td>248027.346982</td>\n",
       "    </tr>\n",
       "    <tr>\n",
       "      <td>701016</td>\n",
       "      <td>127761.000000</td>\n",
       "      <td>101699.290727</td>\n",
       "      <td>139054.309767</td>\n",
       "      <td>189475.227157</td>\n",
       "      <td>251450.000000</td>\n",
       "    </tr>\n",
       "    <tr>\n",
       "      <td>309065</td>\n",
       "      <td>35649.000000</td>\n",
       "      <td>151303.000000</td>\n",
       "      <td>168168.000000</td>\n",
       "      <td>295152.000000</td>\n",
       "      <td>307480.000000</td>\n",
       "    </tr>\n",
       "    <tr>\n",
       "      <td>357820</td>\n",
       "      <td>93148.000000</td>\n",
       "      <td>219193.000000</td>\n",
       "      <td>106944.000000</td>\n",
       "      <td>158658.000000</td>\n",
       "      <td>357597.000000</td>\n",
       "    </tr>\n",
       "    <tr>\n",
       "      <td>...</td>\n",
       "      <td>...</td>\n",
       "      <td>...</td>\n",
       "      <td>...</td>\n",
       "      <td>...</td>\n",
       "      <td>...</td>\n",
       "    </tr>\n",
       "    <tr>\n",
       "      <td>525755</td>\n",
       "      <td>94329.941492</td>\n",
       "      <td>67154.000000</td>\n",
       "      <td>97466.000000</td>\n",
       "      <td>159575.000000</td>\n",
       "      <td>248027.346982</td>\n",
       "    </tr>\n",
       "    <tr>\n",
       "      <td>202395</td>\n",
       "      <td>56547.000000</td>\n",
       "      <td>64574.000000</td>\n",
       "      <td>139054.309767</td>\n",
       "      <td>147030.000000</td>\n",
       "      <td>248027.346982</td>\n",
       "    </tr>\n",
       "    <tr>\n",
       "      <td>217084</td>\n",
       "      <td>135933.000000</td>\n",
       "      <td>160451.000000</td>\n",
       "      <td>172172.000000</td>\n",
       "      <td>152735.000000</td>\n",
       "      <td>248027.346982</td>\n",
       "    </tr>\n",
       "    <tr>\n",
       "      <td>418134</td>\n",
       "      <td>99752.000000</td>\n",
       "      <td>107497.000000</td>\n",
       "      <td>210293.000000</td>\n",
       "      <td>119824.000000</td>\n",
       "      <td>173492.000000</td>\n",
       "    </tr>\n",
       "    <tr>\n",
       "      <td>662845</td>\n",
       "      <td>94329.941492</td>\n",
       "      <td>101699.290727</td>\n",
       "      <td>242237.000000</td>\n",
       "      <td>189475.227157</td>\n",
       "      <td>248027.346982</td>\n",
       "    </tr>\n",
       "  </tbody>\n",
       "</table>\n",
       "<p>158128 rows × 5 columns</p>\n",
       "</div>"
      ],
      "text/plain": [
       "        House Price for 1 Bedroom  House Price for 2 Bedroom  \\\n",
       "753046               25334.000000               53720.000000   \n",
       "642839               93649.000000              144224.000000   \n",
       "701016              127761.000000              101699.290727   \n",
       "309065               35649.000000              151303.000000   \n",
       "357820               93148.000000              219193.000000   \n",
       "...                           ...                        ...   \n",
       "525755               94329.941492               67154.000000   \n",
       "202395               56547.000000               64574.000000   \n",
       "217084              135933.000000              160451.000000   \n",
       "418134               99752.000000              107497.000000   \n",
       "662845               94329.941492              101699.290727   \n",
       "\n",
       "        House Price for 3 Bedroom  House Price for 4 Bedroom  \\\n",
       "753046              142917.000000              189475.227157   \n",
       "642839              139054.309767              189475.227157   \n",
       "701016              139054.309767              189475.227157   \n",
       "309065              168168.000000              295152.000000   \n",
       "357820              106944.000000              158658.000000   \n",
       "...                           ...                        ...   \n",
       "525755               97466.000000              159575.000000   \n",
       "202395              139054.309767              147030.000000   \n",
       "217084              172172.000000              152735.000000   \n",
       "418134              210293.000000              119824.000000   \n",
       "662845              242237.000000              189475.227157   \n",
       "\n",
       "        House Price for 5 Bedroom  \n",
       "753046              248027.346982  \n",
       "642839              248027.346982  \n",
       "701016              251450.000000  \n",
       "309065              307480.000000  \n",
       "357820              357597.000000  \n",
       "...                           ...  \n",
       "525755              248027.346982  \n",
       "202395              248027.346982  \n",
       "217084              248027.346982  \n",
       "418134              173492.000000  \n",
       "662845              248027.346982  \n",
       "\n",
       "[158128 rows x 5 columns]"
      ]
     },
     "execution_count": 33,
     "metadata": {},
     "output_type": "execute_result"
    }
   ],
   "source": [
    "y_test"
   ]
  },
  {
   "cell_type": "code",
   "execution_count": 34,
   "metadata": {},
   "outputs": [
    {
     "data": {
      "text/plain": [
       "(13335875578.189253, 115481.06155638357)"
      ]
     },
     "execution_count": 34,
     "metadata": {},
     "output_type": "execute_result"
    }
   ],
   "source": [
    "from sklearn.metrics import mean_squared_error\n",
    "mse = mean_squared_error(y_test, y_pred)\n",
    "rmse = np.sqrt(mse)\n",
    "\n",
    "mse, rmse\n"
   ]
  },
  {
   "cell_type": "code",
   "execution_count": 35,
   "metadata": {},
   "outputs": [
    {
     "data": {
      "text/plain": [
       "0.007541227831177157"
      ]
     },
     "execution_count": 35,
     "metadata": {},
     "output_type": "execute_result"
    }
   ],
   "source": [
    "lr.score(X_test_poly, y_test,)\n"
   ]
  },
  {
   "cell_type": "code",
   "execution_count": 36,
   "metadata": {},
   "outputs": [
    {
     "data": {
      "text/plain": [
       "LinearRegression(copy_X=True, fit_intercept=True, n_jobs=None, normalize=False)"
      ]
     },
     "execution_count": 36,
     "metadata": {},
     "output_type": "execute_result"
    }
   ],
   "source": [
    "\n",
    "from sklearn.linear_model import LinearRegression \n",
    "\n",
    "lm = LinearRegression() \n",
    "\n",
    "lm.fit(X_train,y_train)"
   ]
  },
  {
   "cell_type": "code",
   "execution_count": 37,
   "metadata": {
    "scrolled": true
   },
   "outputs": [],
   "source": [
    "predictions = lm.predict(X_test) "
   ]
  },
  {
   "cell_type": "code",
   "execution_count": 38,
   "metadata": {},
   "outputs": [
    {
     "data": {
      "text/plain": [
       "<matplotlib.collections.PathCollection at 0x1f068ff2608>"
      ]
     },
     "execution_count": 38,
     "metadata": {},
     "output_type": "execute_result"
    },
    {
     "data": {
      "image/png": "[encoded data removed]",
      "text/plain": [
       "<Figure size 432x288 with 1 Axes>"
      ]
     },
     "metadata": {
      "needs_background": "light"
     },
     "output_type": "display_data"
    }
   ],
   "source": [
    "plt.scatter(y_test,predictions)\n"
   ]
  },
  {
   "cell_type": "code",
   "execution_count": null,
   "metadata": {},
   "outputs": [],
   "source": []
  }
 ],
 "metadata": {
  "kernelspec": {
   "display_name": "Python 3",
   "language": "python",
   "name": "python3"
  },
  "language_info": {
   "codemirror_mode": {
    "name": "ipython",
    "version": 3
   },
   "file_extension": ".py",
   "mimetype": "text/x-python",
   "name": "python",
   "nbconvert_exporter": "python",
   "pygments_lexer": "ipython3",
   "version": "3.8.8"
  }
 },
 "nbformat": 4,
 "nbformat_minor": 2
}
