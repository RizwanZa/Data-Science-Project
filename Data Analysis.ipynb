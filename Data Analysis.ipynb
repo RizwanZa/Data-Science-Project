{
 "cells": [
  {
   "cell_type": "code",
   "execution_count": 1,
   "metadata": {},
   "outputs": [],
   "source": [
    "# identify Variables that will be used to predict  the target variables:\n",
    "vars = ['A03210','N1','N03210','N02300','STATE','A00200','A00300','A01000'\n",
    "              ,'A01750','A02500','A03220','A03300','A03270','A03150'\n",
    "              ,'A18500','A18800','A19300','A19700','A07100','A11900']\n",
    "\n",
    "\n",
    "predictors = ['STATE','A00200','A00300','A01000'\n",
    "              ,'A01750','A02500','A03220','A03300','A03270','A03150'\n",
    "              ,'A18500','A18800','A19300','A19700','A07100','A11900']\n",
    "\n",
    "Targets =  ['A03210','N1', 'N02300', 'N03210']"
   ]
  },
  {
   "cell_type": "code",
   "execution_count": 2,
   "metadata": {},
   "outputs": [],
   "source": [
    "# Import Python Libraries\n",
    "import pandas as pd\n",
    "import numpy as np\n",
    "import matplotlib\n",
    "import datetime \n",
    "# plotting\n",
    "import matplotlib as mpl\n",
    "# machline learning package \n",
    "import sklearn as skl\n",
    "# package to use regression\n",
    "import statsmodels.api as sm\n",
    "import matplotlib.pyplot as plt\n",
    "from sklearn import linear_model\n",
    "#making the imports\n",
    "import xgboost as xgb\n",
    "from xgboost import XGBClassifier\n",
    "from xgboost import plot_importance\n",
    "from sklearn.metrics import mean_squared_error, r2_score\n",
    "from sklearn.model_selection import train_test_split # to split the data into two parts\n",
    "from sklearn.linear_model import LogisticRegression # to apply the Logistic regression\n",
    "from sklearn.feature_selection import RFE\n",
    "from sklearn.model_selection import KFold # for cross validation\n",
    "from sklearn.model_selection import GridSearchCV # for tuning parameter\n",
    "from sklearn.model_selection import RandomizedSearchCV  # Randomized search on hyper parameters.\n",
    "from sklearn.preprocessing import StandardScaler # for normalization\n",
    "from sklearn.pipeline import Pipeline \n",
    "from sklearn.ensemble import RandomForestClassifier\n",
    "import xgboost as xgb\n",
    "from xgboost import XGBClassifier\n",
    "from sklearn.model_selection import cross_val_score\n",
    "from sklearn.metrics import classification_report\n",
    "from sklearn.metrics import confusion_matrix\n",
    "from sklearn.neighbors import KNeighborsClassifier #KNN\n",
    "from sklearn.tree import DecisionTreeClassifier\n",
    "from sklearn.ensemble import ExtraTreesClassifier\n",
    "from sklearn.feature_selection import SelectFromModel\n",
    "from sklearn import metrics # for the check the error and accuracy of the model\n",
    "import warnings\n",
    "warnings.filterwarnings(\"ignore\", category=FutureWarning)"
   ]
  },
  {
   "cell_type": "code",
   "execution_count": 3,
   "metadata": {},
   "outputs": [],
   "source": [
    "#import pandas as pd\n",
    "# save to a dataFolder\n",
    "# open the excel file, delete the first row, save the file. Hint: use header parameter in the read_excel function.\n",
    "dataFolder = 'E:\\Rizwan study\\ML Task/'\n",
    "# = pd.read_excel(dataFolder + \"18zpallnoagi.csv\")\n",
    "df = pd.read_csv(dataFolder + \"18zpallnoagi.csv\", sep=\",\")\n",
    "#df = pd.read_csv(dataFolder + \"18zpallnoagi.csv\", usecols=vars )"
   ]
  },
  {
   "cell_type": "code",
   "execution_count": 4,
   "metadata": {},
   "outputs": [
    {
     "data": {
      "text/html": [
       "<div>\n",
       "<style scoped>\n",
       "    .dataframe tbody tr th:only-of-type {\n",
       "        vertical-align: middle;\n",
       "    }\n",
       "\n",
       "    .dataframe tbody tr th {\n",
       "        vertical-align: top;\n",
       "    }\n",
       "\n",
       "    .dataframe thead th {\n",
       "        text-align: right;\n",
       "    }\n",
       "</style>\n",
       "<table border=\"1\" class=\"dataframe\">\n",
       "  <thead>\n",
       "    <tr style=\"text-align: right;\">\n",
       "      <th></th>\n",
       "      <th>STATEFIPS</th>\n",
       "      <th>STATE</th>\n",
       "      <th>ZIPCODE</th>\n",
       "      <th>AGI_STUB</th>\n",
       "      <th>N1</th>\n",
       "      <th>MARS1</th>\n",
       "      <th>MARS2</th>\n",
       "      <th>MARS4</th>\n",
       "      <th>ELF</th>\n",
       "      <th>CPREP</th>\n",
       "      <th>...</th>\n",
       "      <th>N85300</th>\n",
       "      <th>A85300</th>\n",
       "      <th>N11901</th>\n",
       "      <th>A11901</th>\n",
       "      <th>N11900</th>\n",
       "      <th>A11900</th>\n",
       "      <th>N11902</th>\n",
       "      <th>A11902</th>\n",
       "      <th>N12000</th>\n",
       "      <th>A12000</th>\n",
       "    </tr>\n",
       "  </thead>\n",
       "  <tbody>\n",
       "    <tr>\n",
       "      <th>0</th>\n",
       "      <td>1</td>\n",
       "      <td>AL</td>\n",
       "      <td>0</td>\n",
       "      <td>0</td>\n",
       "      <td>2036290.0</td>\n",
       "      <td>853350.0</td>\n",
       "      <td>746450.0</td>\n",
       "      <td>393790.0</td>\n",
       "      <td>1851240.0</td>\n",
       "      <td>93480.0</td>\n",
       "      <td>...</td>\n",
       "      <td>36360.0</td>\n",
       "      <td>140470.0</td>\n",
       "      <td>388540.0</td>\n",
       "      <td>1734772.0</td>\n",
       "      <td>1602800.0</td>\n",
       "      <td>5324632.0</td>\n",
       "      <td>1570180.0</td>\n",
       "      <td>4701007.0</td>\n",
       "      <td>36520.0</td>\n",
       "      <td>559783.0</td>\n",
       "    </tr>\n",
       "    <tr>\n",
       "      <th>1</th>\n",
       "      <td>1</td>\n",
       "      <td>AL</td>\n",
       "      <td>35004</td>\n",
       "      <td>0</td>\n",
       "      <td>5200.0</td>\n",
       "      <td>2150.0</td>\n",
       "      <td>2100.0</td>\n",
       "      <td>820.0</td>\n",
       "      <td>4730.0</td>\n",
       "      <td>260.0</td>\n",
       "      <td>...</td>\n",
       "      <td>20.0</td>\n",
       "      <td>63.0</td>\n",
       "      <td>1000.0</td>\n",
       "      <td>3171.0</td>\n",
       "      <td>4090.0</td>\n",
       "      <td>11131.0</td>\n",
       "      <td>4050.0</td>\n",
       "      <td>10654.0</td>\n",
       "      <td>50.0</td>\n",
       "      <td>433.0</td>\n",
       "    </tr>\n",
       "    <tr>\n",
       "      <th>2</th>\n",
       "      <td>1</td>\n",
       "      <td>AL</td>\n",
       "      <td>35005</td>\n",
       "      <td>0</td>\n",
       "      <td>3190.0</td>\n",
       "      <td>1410.0</td>\n",
       "      <td>840.0</td>\n",
       "      <td>890.0</td>\n",
       "      <td>2880.0</td>\n",
       "      <td>160.0</td>\n",
       "      <td>...</td>\n",
       "      <td>0.0</td>\n",
       "      <td>0.0</td>\n",
       "      <td>530.0</td>\n",
       "      <td>1179.0</td>\n",
       "      <td>2630.0</td>\n",
       "      <td>7589.0</td>\n",
       "      <td>2630.0</td>\n",
       "      <td>7558.0</td>\n",
       "      <td>0.0</td>\n",
       "      <td>0.0</td>\n",
       "    </tr>\n",
       "  </tbody>\n",
       "</table>\n",
       "<p>3 rows × 153 columns</p>\n",
       "</div>"
      ],
      "text/plain": [
       "   STATEFIPS STATE  ZIPCODE  AGI_STUB         N1     MARS1     MARS2  \\\n",
       "0          1    AL        0         0  2036290.0  853350.0  746450.0   \n",
       "1          1    AL    35004         0     5200.0    2150.0    2100.0   \n",
       "2          1    AL    35005         0     3190.0    1410.0     840.0   \n",
       "\n",
       "      MARS4        ELF    CPREP  ...   N85300    A85300    N11901     A11901  \\\n",
       "0  393790.0  1851240.0  93480.0  ...  36360.0  140470.0  388540.0  1734772.0   \n",
       "1     820.0     4730.0    260.0  ...     20.0      63.0    1000.0     3171.0   \n",
       "2     890.0     2880.0    160.0  ...      0.0       0.0     530.0     1179.0   \n",
       "\n",
       "      N11900     A11900     N11902     A11902   N12000    A12000  \n",
       "0  1602800.0  5324632.0  1570180.0  4701007.0  36520.0  559783.0  \n",
       "1     4090.0    11131.0     4050.0    10654.0     50.0     433.0  \n",
       "2     2630.0     7589.0     2630.0     7558.0      0.0       0.0  \n",
       "\n",
       "[3 rows x 153 columns]"
      ]
     },
     "execution_count": 4,
     "metadata": {},
     "output_type": "execute_result"
    }
   ],
   "source": [
    "#Data Cleaning \n",
    "df.head(3)"
   ]
  },
  {
   "cell_type": "code",
   "execution_count": 5,
   "metadata": {},
   "outputs": [],
   "source": [
    "#Remove the Zipcode in (\"0\",\"99999\")\n",
    "df.drop(df.loc[df['ZIPCODE']==0].index, inplace=True)\n",
    "df = df[df['ZIPCODE'] != 99999]\n"
   ]
  },
  {
   "cell_type": "code",
   "execution_count": 6,
   "metadata": {},
   "outputs": [
    {
     "data": {
      "text/plain": [
       "(27556, 153)"
      ]
     },
     "execution_count": 6,
     "metadata": {},
     "output_type": "execute_result"
    }
   ],
   "source": [
    "df.shape"
   ]
  },
  {
   "cell_type": "code",
   "execution_count": 7,
   "metadata": {},
   "outputs": [
    {
     "data": {
      "text/html": [
       "<div>\n",
       "<style scoped>\n",
       "    .dataframe tbody tr th:only-of-type {\n",
       "        vertical-align: middle;\n",
       "    }\n",
       "\n",
       "    .dataframe tbody tr th {\n",
       "        vertical-align: top;\n",
       "    }\n",
       "\n",
       "    .dataframe thead th {\n",
       "        text-align: right;\n",
       "    }\n",
       "</style>\n",
       "<table border=\"1\" class=\"dataframe\">\n",
       "  <thead>\n",
       "    <tr style=\"text-align: right;\">\n",
       "      <th></th>\n",
       "      <th>STATE</th>\n",
       "      <th>N1</th>\n",
       "      <th>A00200</th>\n",
       "      <th>A00300</th>\n",
       "      <th>A01000</th>\n",
       "      <th>A01750</th>\n",
       "      <th>N02300</th>\n",
       "      <th>A02500</th>\n",
       "      <th>A03220</th>\n",
       "      <th>A03300</th>\n",
       "      <th>A03270</th>\n",
       "      <th>A03150</th>\n",
       "      <th>N03210</th>\n",
       "      <th>A03210</th>\n",
       "      <th>A18500</th>\n",
       "      <th>A18800</th>\n",
       "      <th>A19300</th>\n",
       "      <th>A19700</th>\n",
       "      <th>A07100</th>\n",
       "      <th>A11900</th>\n",
       "    </tr>\n",
       "  </thead>\n",
       "  <tbody>\n",
       "    <tr>\n",
       "      <th>0</th>\n",
       "      <td>AL</td>\n",
       "      <td>2036290.0</td>\n",
       "      <td>86880345.0</td>\n",
       "      <td>872091.0</td>\n",
       "      <td>4819405.0</td>\n",
       "      <td>14292349.0</td>\n",
       "      <td>37590.0</td>\n",
       "      <td>4665477.0</td>\n",
       "      <td>10826.0</td>\n",
       "      <td>113453.0</td>\n",
       "      <td>287347.0</td>\n",
       "      <td>93572.0</td>\n",
       "      <td>133620.0</td>\n",
       "      <td>143527.0</td>\n",
       "      <td>337110.0</td>\n",
       "      <td>49390.0</td>\n",
       "      <td>1262640.0</td>\n",
       "      <td>2380707.0</td>\n",
       "      <td>1461010.0</td>\n",
       "      <td>5324632.0</td>\n",
       "    </tr>\n",
       "    <tr>\n",
       "      <th>1</th>\n",
       "      <td>AL</td>\n",
       "      <td>5200.0</td>\n",
       "      <td>245939.0</td>\n",
       "      <td>953.0</td>\n",
       "      <td>2649.0</td>\n",
       "      <td>26995.0</td>\n",
       "      <td>80.0</td>\n",
       "      <td>9998.0</td>\n",
       "      <td>29.0</td>\n",
       "      <td>0.0</td>\n",
       "      <td>269.0</td>\n",
       "      <td>178.0</td>\n",
       "      <td>580.0</td>\n",
       "      <td>619.0</td>\n",
       "      <td>303.0</td>\n",
       "      <td>83.0</td>\n",
       "      <td>2147.0</td>\n",
       "      <td>4361.0</td>\n",
       "      <td>4393.0</td>\n",
       "      <td>11131.0</td>\n",
       "    </tr>\n",
       "    <tr>\n",
       "      <th>2</th>\n",
       "      <td>AL</td>\n",
       "      <td>3190.0</td>\n",
       "      <td>107771.0</td>\n",
       "      <td>361.0</td>\n",
       "      <td>341.0</td>\n",
       "      <td>15232.0</td>\n",
       "      <td>60.0</td>\n",
       "      <td>4796.0</td>\n",
       "      <td>12.0</td>\n",
       "      <td>0.0</td>\n",
       "      <td>0.0</td>\n",
       "      <td>81.0</td>\n",
       "      <td>200.0</td>\n",
       "      <td>225.0</td>\n",
       "      <td>211.0</td>\n",
       "      <td>115.0</td>\n",
       "      <td>1031.0</td>\n",
       "      <td>1822.0</td>\n",
       "      <td>1876.0</td>\n",
       "      <td>7589.0</td>\n",
       "    </tr>\n",
       "    <tr>\n",
       "      <th>3</th>\n",
       "      <td>AL</td>\n",
       "      <td>1240.0</td>\n",
       "      <td>50659.0</td>\n",
       "      <td>115.0</td>\n",
       "      <td>115.0</td>\n",
       "      <td>9377.0</td>\n",
       "      <td>20.0</td>\n",
       "      <td>2974.0</td>\n",
       "      <td>0.0</td>\n",
       "      <td>0.0</td>\n",
       "      <td>0.0</td>\n",
       "      <td>96.0</td>\n",
       "      <td>50.0</td>\n",
       "      <td>37.0</td>\n",
       "      <td>24.0</td>\n",
       "      <td>13.0</td>\n",
       "      <td>143.0</td>\n",
       "      <td>265.0</td>\n",
       "      <td>906.0</td>\n",
       "      <td>2834.0</td>\n",
       "    </tr>\n",
       "    <tr>\n",
       "      <th>4</th>\n",
       "      <td>AL</td>\n",
       "      <td>12050.0</td>\n",
       "      <td>578197.0</td>\n",
       "      <td>2512.0</td>\n",
       "      <td>12217.0</td>\n",
       "      <td>71306.0</td>\n",
       "      <td>170.0</td>\n",
       "      <td>25669.0</td>\n",
       "      <td>86.0</td>\n",
       "      <td>0.0</td>\n",
       "      <td>1792.0</td>\n",
       "      <td>562.0</td>\n",
       "      <td>1230.0</td>\n",
       "      <td>1368.0</td>\n",
       "      <td>1370.0</td>\n",
       "      <td>426.0</td>\n",
       "      <td>7050.0</td>\n",
       "      <td>11347.0</td>\n",
       "      <td>10615.0</td>\n",
       "      <td>24590.0</td>\n",
       "    </tr>\n",
       "    <tr>\n",
       "      <th>...</th>\n",
       "      <td>...</td>\n",
       "      <td>...</td>\n",
       "      <td>...</td>\n",
       "      <td>...</td>\n",
       "      <td>...</td>\n",
       "      <td>...</td>\n",
       "      <td>...</td>\n",
       "      <td>...</td>\n",
       "      <td>...</td>\n",
       "      <td>...</td>\n",
       "      <td>...</td>\n",
       "      <td>...</td>\n",
       "      <td>...</td>\n",
       "      <td>...</td>\n",
       "      <td>...</td>\n",
       "      <td>...</td>\n",
       "      <td>...</td>\n",
       "      <td>...</td>\n",
       "      <td>...</td>\n",
       "      <td>...</td>\n",
       "    </tr>\n",
       "    <tr>\n",
       "      <th>27653</th>\n",
       "      <td>WY</td>\n",
       "      <td>200.0</td>\n",
       "      <td>7831.0</td>\n",
       "      <td>93.0</td>\n",
       "      <td>1200.0</td>\n",
       "      <td>1969.0</td>\n",
       "      <td>0.0</td>\n",
       "      <td>678.0</td>\n",
       "      <td>0.0</td>\n",
       "      <td>0.0</td>\n",
       "      <td>0.0</td>\n",
       "      <td>0.0</td>\n",
       "      <td>0.0</td>\n",
       "      <td>0.0</td>\n",
       "      <td>0.0</td>\n",
       "      <td>0.0</td>\n",
       "      <td>0.0</td>\n",
       "      <td>0.0</td>\n",
       "      <td>194.0</td>\n",
       "      <td>439.0</td>\n",
       "    </tr>\n",
       "    <tr>\n",
       "      <th>27654</th>\n",
       "      <td>WY</td>\n",
       "      <td>1620.0</td>\n",
       "      <td>64861.0</td>\n",
       "      <td>1345.0</td>\n",
       "      <td>7792.0</td>\n",
       "      <td>32832.0</td>\n",
       "      <td>50.0</td>\n",
       "      <td>8097.0</td>\n",
       "      <td>8.0</td>\n",
       "      <td>0.0</td>\n",
       "      <td>433.0</td>\n",
       "      <td>226.0</td>\n",
       "      <td>90.0</td>\n",
       "      <td>91.0</td>\n",
       "      <td>747.0</td>\n",
       "      <td>109.0</td>\n",
       "      <td>1898.0</td>\n",
       "      <td>2157.0</td>\n",
       "      <td>1351.0</td>\n",
       "      <td>3799.0</td>\n",
       "    </tr>\n",
       "    <tr>\n",
       "      <th>27655</th>\n",
       "      <td>WY</td>\n",
       "      <td>950.0</td>\n",
       "      <td>46751.0</td>\n",
       "      <td>2309.0</td>\n",
       "      <td>31415.0</td>\n",
       "      <td>7958.0</td>\n",
       "      <td>50.0</td>\n",
       "      <td>2866.0</td>\n",
       "      <td>0.0</td>\n",
       "      <td>0.0</td>\n",
       "      <td>280.0</td>\n",
       "      <td>196.0</td>\n",
       "      <td>60.0</td>\n",
       "      <td>64.0</td>\n",
       "      <td>480.0</td>\n",
       "      <td>27.0</td>\n",
       "      <td>1242.0</td>\n",
       "      <td>1305.0</td>\n",
       "      <td>839.0</td>\n",
       "      <td>6455.0</td>\n",
       "    </tr>\n",
       "    <tr>\n",
       "      <th>27656</th>\n",
       "      <td>WY</td>\n",
       "      <td>230.0</td>\n",
       "      <td>17438.0</td>\n",
       "      <td>832.0</td>\n",
       "      <td>17602.0</td>\n",
       "      <td>3542.0</td>\n",
       "      <td>0.0</td>\n",
       "      <td>1207.0</td>\n",
       "      <td>0.0</td>\n",
       "      <td>0.0</td>\n",
       "      <td>192.0</td>\n",
       "      <td>0.0</td>\n",
       "      <td>0.0</td>\n",
       "      <td>0.0</td>\n",
       "      <td>650.0</td>\n",
       "      <td>26.0</td>\n",
       "      <td>913.0</td>\n",
       "      <td>1073.0</td>\n",
       "      <td>296.0</td>\n",
       "      <td>3403.0</td>\n",
       "    </tr>\n",
       "    <tr>\n",
       "      <th>27657</th>\n",
       "      <td>WY</td>\n",
       "      <td>15820.0</td>\n",
       "      <td>687087.0</td>\n",
       "      <td>27238.0</td>\n",
       "      <td>97104.0</td>\n",
       "      <td>123200.0</td>\n",
       "      <td>540.0</td>\n",
       "      <td>50058.0</td>\n",
       "      <td>40.0</td>\n",
       "      <td>459.0</td>\n",
       "      <td>4503.0</td>\n",
       "      <td>717.0</td>\n",
       "      <td>680.0</td>\n",
       "      <td>568.0</td>\n",
       "      <td>3183.0</td>\n",
       "      <td>502.0</td>\n",
       "      <td>6621.0</td>\n",
       "      <td>12787.0</td>\n",
       "      <td>9634.0</td>\n",
       "      <td>73328.0</td>\n",
       "    </tr>\n",
       "  </tbody>\n",
       "</table>\n",
       "<p>27658 rows × 20 columns</p>\n",
       "</div>"
      ],
      "text/plain": [
       "      STATE         N1      A00200    A00300     A01000      A01750   N02300  \\\n",
       "0        AL  2036290.0  86880345.0  872091.0  4819405.0  14292349.0  37590.0   \n",
       "1        AL     5200.0    245939.0     953.0     2649.0     26995.0     80.0   \n",
       "2        AL     3190.0    107771.0     361.0      341.0     15232.0     60.0   \n",
       "3        AL     1240.0     50659.0     115.0      115.0      9377.0     20.0   \n",
       "4        AL    12050.0    578197.0    2512.0    12217.0     71306.0    170.0   \n",
       "...     ...        ...         ...       ...        ...         ...      ...   \n",
       "27653    WY      200.0      7831.0      93.0     1200.0      1969.0      0.0   \n",
       "27654    WY     1620.0     64861.0    1345.0     7792.0     32832.0     50.0   \n",
       "27655    WY      950.0     46751.0    2309.0    31415.0      7958.0     50.0   \n",
       "27656    WY      230.0     17438.0     832.0    17602.0      3542.0      0.0   \n",
       "27657    WY    15820.0    687087.0   27238.0    97104.0    123200.0    540.0   \n",
       "\n",
       "          A02500   A03220    A03300    A03270   A03150    N03210    A03210  \\\n",
       "0      4665477.0  10826.0  113453.0  287347.0  93572.0  133620.0  143527.0   \n",
       "1         9998.0     29.0       0.0     269.0    178.0     580.0     619.0   \n",
       "2         4796.0     12.0       0.0       0.0     81.0     200.0     225.0   \n",
       "3         2974.0      0.0       0.0       0.0     96.0      50.0      37.0   \n",
       "4        25669.0     86.0       0.0    1792.0    562.0    1230.0    1368.0   \n",
       "...          ...      ...       ...       ...      ...       ...       ...   \n",
       "27653      678.0      0.0       0.0       0.0      0.0       0.0       0.0   \n",
       "27654     8097.0      8.0       0.0     433.0    226.0      90.0      91.0   \n",
       "27655     2866.0      0.0       0.0     280.0    196.0      60.0      64.0   \n",
       "27656     1207.0      0.0       0.0     192.0      0.0       0.0       0.0   \n",
       "27657    50058.0     40.0     459.0    4503.0    717.0     680.0     568.0   \n",
       "\n",
       "         A18500   A18800     A19300     A19700     A07100     A11900  \n",
       "0      337110.0  49390.0  1262640.0  2380707.0  1461010.0  5324632.0  \n",
       "1         303.0     83.0     2147.0     4361.0     4393.0    11131.0  \n",
       "2         211.0    115.0     1031.0     1822.0     1876.0     7589.0  \n",
       "3          24.0     13.0      143.0      265.0      906.0     2834.0  \n",
       "4        1370.0    426.0     7050.0    11347.0    10615.0    24590.0  \n",
       "...         ...      ...        ...        ...        ...        ...  \n",
       "27653       0.0      0.0        0.0        0.0      194.0      439.0  \n",
       "27654     747.0    109.0     1898.0     2157.0     1351.0     3799.0  \n",
       "27655     480.0     27.0     1242.0     1305.0      839.0     6455.0  \n",
       "27656     650.0     26.0      913.0     1073.0      296.0     3403.0  \n",
       "27657    3183.0    502.0     6621.0    12787.0     9634.0    73328.0  \n",
       "\n",
       "[27658 rows x 20 columns]"
      ]
     },
     "execution_count": 7,
     "metadata": {},
     "output_type": "execute_result"
    }
   ],
   "source": [
    "# Selecting only specific variables to be pulled from dataset\n",
    "df = pd.read_csv(dataFolder + '18zpallnoagi.csv', usecols=vars)\n",
    "df"
   ]
  },
  {
   "cell_type": "code",
   "execution_count": 8,
   "metadata": {},
   "outputs": [
    {
     "data": {
      "text/plain": [
       "(27658, 20)"
      ]
     },
     "execution_count": 8,
     "metadata": {},
     "output_type": "execute_result"
    }
   ],
   "source": [
    "df.shape"
   ]
  },
  {
   "cell_type": "code",
   "execution_count": 9,
   "metadata": {},
   "outputs": [],
   "source": [
    "# Variables separation for scaling\n",
    "varsToScale = vars\n",
    "\n",
    "noScaleVars = ['STATE', 'N1', 'N03210']"
   ]
  },
  {
   "cell_type": "code",
   "execution_count": 10,
   "metadata": {},
   "outputs": [],
   "source": [
    "# Remove Variables\n",
    "\n",
    "for var in noScaleVars:\n",
    "    varsToScale.remove(var)\n",
    " "
   ]
  },
  {
   "cell_type": "code",
   "execution_count": 11,
   "metadata": {},
   "outputs": [
    {
     "name": "stdout",
     "output_type": "stream",
     "text": [
      "['A03210', 'N02300', 'A00200', 'A00300', 'A01000', 'A01750', 'A02500', 'A03220', 'A03300', 'A03270', 'A03150', 'A18500', 'A18800', 'A19300', 'A19700', 'A07100', 'A11900']\n"
     ]
    }
   ],
   "source": [
    "print(vars)"
   ]
  },
  {
   "cell_type": "code",
   "execution_count": 12,
   "metadata": {},
   "outputs": [
    {
     "data": {
      "text/plain": [
       "(27658, 20)"
      ]
     },
     "execution_count": 12,
     "metadata": {},
     "output_type": "execute_result"
    }
   ],
   "source": [
    "df.shape"
   ]
  },
  {
   "cell_type": "code",
   "execution_count": 13,
   "metadata": {},
   "outputs": [],
   "source": [
    "  #Create variables scaled by number of returns; N1\n",
    "n1ScaledVars = []\n",
    "for var in varsToScale:\n",
    "    newVar = var + 'Scaled'\n",
    "    df[newVar] = df[var]/df['N1']\n",
    "    n1ScaledVars.append(newVar)"
   ]
  },
  {
   "cell_type": "code",
   "execution_count": 14,
   "metadata": {},
   "outputs": [
    {
     "data": {
      "text/html": [
       "<div>\n",
       "<style scoped>\n",
       "    .dataframe tbody tr th:only-of-type {\n",
       "        vertical-align: middle;\n",
       "    }\n",
       "\n",
       "    .dataframe tbody tr th {\n",
       "        vertical-align: top;\n",
       "    }\n",
       "\n",
       "    .dataframe thead th {\n",
       "        text-align: right;\n",
       "    }\n",
       "</style>\n",
       "<table border=\"1\" class=\"dataframe\">\n",
       "  <thead>\n",
       "    <tr style=\"text-align: right;\">\n",
       "      <th></th>\n",
       "      <th>STATE</th>\n",
       "      <th>N1</th>\n",
       "      <th>A00200</th>\n",
       "      <th>A00300</th>\n",
       "      <th>A01000</th>\n",
       "      <th>A01750</th>\n",
       "      <th>N02300</th>\n",
       "      <th>A02500</th>\n",
       "      <th>A03220</th>\n",
       "      <th>A03300</th>\n",
       "      <th>...</th>\n",
       "      <th>A03220Scaled</th>\n",
       "      <th>A03300Scaled</th>\n",
       "      <th>A03270Scaled</th>\n",
       "      <th>A03150Scaled</th>\n",
       "      <th>A18500Scaled</th>\n",
       "      <th>A18800Scaled</th>\n",
       "      <th>A19300Scaled</th>\n",
       "      <th>A19700Scaled</th>\n",
       "      <th>A07100Scaled</th>\n",
       "      <th>A11900Scaled</th>\n",
       "    </tr>\n",
       "  </thead>\n",
       "  <tbody>\n",
       "    <tr>\n",
       "      <th>0</th>\n",
       "      <td>AL</td>\n",
       "      <td>2036290.0</td>\n",
       "      <td>86880345.0</td>\n",
       "      <td>872091.0</td>\n",
       "      <td>4819405.0</td>\n",
       "      <td>14292349.0</td>\n",
       "      <td>37590.0</td>\n",
       "      <td>4665477.0</td>\n",
       "      <td>10826.0</td>\n",
       "      <td>113453.0</td>\n",
       "      <td>...</td>\n",
       "      <td>0.005317</td>\n",
       "      <td>0.055716</td>\n",
       "      <td>0.141113</td>\n",
       "      <td>0.045952</td>\n",
       "      <td>0.165551</td>\n",
       "      <td>0.024255</td>\n",
       "      <td>0.620069</td>\n",
       "      <td>1.169139</td>\n",
       "      <td>0.717486</td>\n",
       "      <td>2.614869</td>\n",
       "    </tr>\n",
       "    <tr>\n",
       "      <th>1</th>\n",
       "      <td>AL</td>\n",
       "      <td>5200.0</td>\n",
       "      <td>245939.0</td>\n",
       "      <td>953.0</td>\n",
       "      <td>2649.0</td>\n",
       "      <td>26995.0</td>\n",
       "      <td>80.0</td>\n",
       "      <td>9998.0</td>\n",
       "      <td>29.0</td>\n",
       "      <td>0.0</td>\n",
       "      <td>...</td>\n",
       "      <td>0.005577</td>\n",
       "      <td>0.000000</td>\n",
       "      <td>0.051731</td>\n",
       "      <td>0.034231</td>\n",
       "      <td>0.058269</td>\n",
       "      <td>0.015962</td>\n",
       "      <td>0.412885</td>\n",
       "      <td>0.838654</td>\n",
       "      <td>0.844808</td>\n",
       "      <td>2.140577</td>\n",
       "    </tr>\n",
       "    <tr>\n",
       "      <th>2</th>\n",
       "      <td>AL</td>\n",
       "      <td>3190.0</td>\n",
       "      <td>107771.0</td>\n",
       "      <td>361.0</td>\n",
       "      <td>341.0</td>\n",
       "      <td>15232.0</td>\n",
       "      <td>60.0</td>\n",
       "      <td>4796.0</td>\n",
       "      <td>12.0</td>\n",
       "      <td>0.0</td>\n",
       "      <td>...</td>\n",
       "      <td>0.003762</td>\n",
       "      <td>0.000000</td>\n",
       "      <td>0.000000</td>\n",
       "      <td>0.025392</td>\n",
       "      <td>0.066144</td>\n",
       "      <td>0.036050</td>\n",
       "      <td>0.323197</td>\n",
       "      <td>0.571160</td>\n",
       "      <td>0.588088</td>\n",
       "      <td>2.378997</td>\n",
       "    </tr>\n",
       "  </tbody>\n",
       "</table>\n",
       "<p>3 rows × 37 columns</p>\n",
       "</div>"
      ],
      "text/plain": [
       "  STATE         N1      A00200    A00300     A01000      A01750   N02300  \\\n",
       "0    AL  2036290.0  86880345.0  872091.0  4819405.0  14292349.0  37590.0   \n",
       "1    AL     5200.0    245939.0     953.0     2649.0     26995.0     80.0   \n",
       "2    AL     3190.0    107771.0     361.0      341.0     15232.0     60.0   \n",
       "\n",
       "      A02500   A03220    A03300  ...  A03220Scaled  A03300Scaled  \\\n",
       "0  4665477.0  10826.0  113453.0  ...      0.005317      0.055716   \n",
       "1     9998.0     29.0       0.0  ...      0.005577      0.000000   \n",
       "2     4796.0     12.0       0.0  ...      0.003762      0.000000   \n",
       "\n",
       "   A03270Scaled  A03150Scaled  A18500Scaled  A18800Scaled  A19300Scaled  \\\n",
       "0      0.141113      0.045952      0.165551      0.024255      0.620069   \n",
       "1      0.051731      0.034231      0.058269      0.015962      0.412885   \n",
       "2      0.000000      0.025392      0.066144      0.036050      0.323197   \n",
       "\n",
       "   A19700Scaled  A07100Scaled  A11900Scaled  \n",
       "0      1.169139      0.717486      2.614869  \n",
       "1      0.838654      0.844808      2.140577  \n",
       "2      0.571160      0.588088      2.378997  \n",
       "\n",
       "[3 rows x 37 columns]"
      ]
     },
     "execution_count": 14,
     "metadata": {},
     "output_type": "execute_result"
    }
   ],
   "source": [
    "df.head(3)"
   ]
  },
  {
   "cell_type": "code",
   "execution_count": 15,
   "metadata": {},
   "outputs": [
    {
     "data": {
      "text/plain": [
       "Index(['STATE', 'N1', 'A00200', 'A00300', 'A01000', 'A01750', 'N02300',\n",
       "       'A02500', 'A03220', 'A03300', 'A03270', 'A03150', 'N03210', 'A03210',\n",
       "       'A18500', 'A18800', 'A19300', 'A19700', 'A07100', 'A11900',\n",
       "       'A03210Scaled', 'N02300Scaled', 'A00200Scaled', 'A00300Scaled',\n",
       "       'A01000Scaled', 'A01750Scaled', 'A02500Scaled', 'A03220Scaled',\n",
       "       'A03300Scaled', 'A03270Scaled', 'A03150Scaled', 'A18500Scaled',\n",
       "       'A18800Scaled', 'A19300Scaled', 'A19700Scaled', 'A07100Scaled',\n",
       "       'A11900Scaled'],\n",
       "      dtype='object')"
      ]
     },
     "execution_count": 15,
     "metadata": {},
     "output_type": "execute_result"
    }
   ],
   "source": [
    "df.columns"
   ]
  },
  {
   "cell_type": "code",
   "execution_count": 16,
   "metadata": {},
   "outputs": [
    {
     "name": "stdout",
     "output_type": "stream",
     "text": [
      "['STATE', 'A00200', 'A00300', 'A01000', 'A01750', 'A02500', 'A03220', 'A03300', 'A03270', 'A03150', 'A18500', 'A18800', 'A19300', 'A19700', 'A07100', 'A11900']\n"
     ]
    }
   ],
   "source": [
    "print(predictors)"
   ]
  },
  {
   "cell_type": "code",
   "execution_count": 17,
   "metadata": {},
   "outputs": [],
   "source": [
    "#Remove unscaled continuous predictors\n",
    "predictorsToRemove = predictors\n",
    "predictorsToRemove.remove('STATE')"
   ]
  },
  {
   "cell_type": "code",
   "execution_count": 18,
   "metadata": {},
   "outputs": [
    {
     "name": "stdout",
     "output_type": "stream",
     "text": [
      "['A00200', 'A00300', 'A01000', 'A01750', 'A02500', 'A03220', 'A03300', 'A03270', 'A03150', 'A18500', 'A18800', 'A19300', 'A19700', 'A07100', 'A11900']\n"
     ]
    }
   ],
   "source": [
    "print(predictors)"
   ]
  },
  {
   "cell_type": "code",
   "execution_count": 19,
   "metadata": {},
   "outputs": [],
   "source": [
    "df.drop(predictorsToRemove, axis=1, inplace=True)\n"
   ]
  },
  {
   "cell_type": "code",
   "execution_count": 20,
   "metadata": {},
   "outputs": [
    {
     "name": "stdout",
     "output_type": "stream",
     "text": [
      "['A00200', 'A00300', 'A01000', 'A01750', 'A02500', 'A03220', 'A03300', 'A03270', 'A03150', 'A18500', 'A18800', 'A19300', 'A19700', 'A07100', 'A11900']\n"
     ]
    }
   ],
   "source": [
    "print(predictors)"
   ]
  },
  {
   "cell_type": "code",
   "execution_count": 21,
   "metadata": {},
   "outputs": [
    {
     "data": {
      "text/plain": [
       "(27658, 22)"
      ]
     },
     "execution_count": 21,
     "metadata": {},
     "output_type": "execute_result"
    }
   ],
   "source": [
    "df.shape"
   ]
  },
  {
   "cell_type": "code",
   "execution_count": 22,
   "metadata": {},
   "outputs": [],
   "source": [
    "#Setup bonus target\n",
    "df['A03210' +'Bonus'] = df['A03210']/df['N03210']"
   ]
  },
  {
   "cell_type": "code",
   "execution_count": 23,
   "metadata": {},
   "outputs": [
    {
     "name": "stdout",
     "output_type": "stream",
     "text": [
      "Count of Zeros in N03210:\n",
      "4722\n"
     ]
    }
   ],
   "source": [
    "print('Count of Zeros in N03210:')\n",
    "print((df['N03210']==0).sum())"
   ]
  },
  {
   "cell_type": "code",
   "execution_count": 24,
   "metadata": {},
   "outputs": [
    {
     "name": "stdout",
     "output_type": "stream",
     "text": [
      "['A03210', 'N1', 'N02300', 'N03210']\n"
     ]
    }
   ],
   "source": [
    "print(Targets)"
   ]
  },
  {
   "cell_type": "code",
   "execution_count": 25,
   "metadata": {},
   "outputs": [],
   "source": [
    "#Drop nuisance target variables\n",
    "df.drop(Targets, axis=1, inplace=True)"
   ]
  },
  {
   "cell_type": "code",
   "execution_count": 26,
   "metadata": {},
   "outputs": [
    {
     "name": "stdout",
     "output_type": "stream",
     "text": [
      "['A03210', 'N1', 'N02300', 'N03210']\n"
     ]
    }
   ],
   "source": [
    "print(Targets)"
   ]
  },
  {
   "cell_type": "code",
   "execution_count": 27,
   "metadata": {},
   "outputs": [],
   "source": [
    "#Setup Binary Target 3\n",
    "df['N02300ScaledBinary'] = df['N02300Scaled'].apply(lambda x: 1 if x<=.02 else 0)"
   ]
  },
  {
   "cell_type": "code",
   "execution_count": 28,
   "metadata": {},
   "outputs": [
    {
     "name": "stdout",
     "output_type": "stream",
     "text": [
      "Rows and Columns of dataset:\n"
     ]
    },
    {
     "data": {
      "text/plain": [
       "(27658, 20)"
      ]
     },
     "execution_count": 28,
     "metadata": {},
     "output_type": "execute_result"
    }
   ],
   "source": [
    "#Preview the dataset\n",
    "df.head()\n",
    "print('Rows and Columns of dataset:')\n",
    "df.shape"
   ]
  },
  {
   "cell_type": "code",
   "execution_count": 29,
   "metadata": {},
   "outputs": [
    {
     "data": {
      "text/plain": [
       "(27658, 20)"
      ]
     },
     "execution_count": 29,
     "metadata": {},
     "output_type": "execute_result"
    }
   ],
   "source": [
    "df.shape"
   ]
  },
  {
   "cell_type": "code",
   "execution_count": 30,
   "metadata": {},
   "outputs": [
    {
     "data": {
      "text/plain": [
       "Index(['STATE', 'A03210Scaled', 'N02300Scaled', 'A00200Scaled', 'A00300Scaled',\n",
       "       'A01000Scaled', 'A01750Scaled', 'A02500Scaled', 'A03220Scaled',\n",
       "       'A03300Scaled', 'A03270Scaled', 'A03150Scaled', 'A18500Scaled',\n",
       "       'A18800Scaled', 'A19300Scaled', 'A19700Scaled', 'A07100Scaled',\n",
       "       'A11900Scaled', 'A03210Bonus', 'N02300ScaledBinary'],\n",
       "      dtype='object')"
      ]
     },
     "execution_count": 30,
     "metadata": {},
     "output_type": "execute_result"
    }
   ],
   "source": [
    "df.columns"
   ]
  },
  {
   "cell_type": "code",
   "execution_count": 31,
   "metadata": {},
   "outputs": [
    {
     "data": {
      "text/html": [
       "<div>\n",
       "<style scoped>\n",
       "    .dataframe tbody tr th:only-of-type {\n",
       "        vertical-align: middle;\n",
       "    }\n",
       "\n",
       "    .dataframe tbody tr th {\n",
       "        vertical-align: top;\n",
       "    }\n",
       "\n",
       "    .dataframe thead th {\n",
       "        text-align: right;\n",
       "    }\n",
       "</style>\n",
       "<table border=\"1\" class=\"dataframe\">\n",
       "  <thead>\n",
       "    <tr style=\"text-align: right;\">\n",
       "      <th></th>\n",
       "      <th>A03210Scaled</th>\n",
       "      <th>N02300Scaled</th>\n",
       "      <th>A00200Scaled</th>\n",
       "      <th>A00300Scaled</th>\n",
       "      <th>A01000Scaled</th>\n",
       "      <th>A01750Scaled</th>\n",
       "      <th>A02500Scaled</th>\n",
       "      <th>A03220Scaled</th>\n",
       "      <th>A03300Scaled</th>\n",
       "      <th>A03270Scaled</th>\n",
       "      <th>A03150Scaled</th>\n",
       "      <th>A18500Scaled</th>\n",
       "      <th>A18800Scaled</th>\n",
       "      <th>A19300Scaled</th>\n",
       "      <th>A19700Scaled</th>\n",
       "      <th>A07100Scaled</th>\n",
       "      <th>A11900Scaled</th>\n",
       "    </tr>\n",
       "  </thead>\n",
       "  <tbody>\n",
       "    <tr>\n",
       "      <th>count</th>\n",
       "      <td>27658.000000</td>\n",
       "      <td>27658.000000</td>\n",
       "      <td>27658.000000</td>\n",
       "      <td>27658.000000</td>\n",
       "      <td>27658.000000</td>\n",
       "      <td>27658.000000</td>\n",
       "      <td>27658.000000</td>\n",
       "      <td>27658.000000</td>\n",
       "      <td>27658.000000</td>\n",
       "      <td>27658.000000</td>\n",
       "      <td>27658.000000</td>\n",
       "      <td>27658.000000</td>\n",
       "      <td>27658.000000</td>\n",
       "      <td>27658.000000</td>\n",
       "      <td>27658.000000</td>\n",
       "      <td>27658.000000</td>\n",
       "      <td>27658.000000</td>\n",
       "    </tr>\n",
       "    <tr>\n",
       "      <th>mean</th>\n",
       "      <td>0.067633</td>\n",
       "      <td>0.027209</td>\n",
       "      <td>44.422859</td>\n",
       "      <td>0.564403</td>\n",
       "      <td>3.912291</td>\n",
       "      <td>7.032602</td>\n",
       "      <td>2.401351</td>\n",
       "      <td>0.003793</td>\n",
       "      <td>0.079552</td>\n",
       "      <td>0.156936</td>\n",
       "      <td>0.045265</td>\n",
       "      <td>0.430242</td>\n",
       "      <td>0.017099</td>\n",
       "      <td>0.659882</td>\n",
       "      <td>0.734202</td>\n",
       "      <td>0.726997</td>\n",
       "      <td>2.543877</td>\n",
       "    </tr>\n",
       "    <tr>\n",
       "      <th>std</th>\n",
       "      <td>0.044614</td>\n",
       "      <td>0.027556</td>\n",
       "      <td>22.950121</td>\n",
       "      <td>2.428425</td>\n",
       "      <td>20.036335</td>\n",
       "      <td>3.876793</td>\n",
       "      <td>1.232024</td>\n",
       "      <td>0.003739</td>\n",
       "      <td>0.269231</td>\n",
       "      <td>0.223113</td>\n",
       "      <td>0.054581</td>\n",
       "      <td>0.932416</td>\n",
       "      <td>0.031492</td>\n",
       "      <td>1.095673</td>\n",
       "      <td>2.595536</td>\n",
       "      <td>0.480113</td>\n",
       "      <td>2.501017</td>\n",
       "    </tr>\n",
       "    <tr>\n",
       "      <th>min</th>\n",
       "      <td>0.000000</td>\n",
       "      <td>0.000000</td>\n",
       "      <td>3.953571</td>\n",
       "      <td>0.000000</td>\n",
       "      <td>-0.073171</td>\n",
       "      <td>0.000000</td>\n",
       "      <td>0.000000</td>\n",
       "      <td>0.000000</td>\n",
       "      <td>0.000000</td>\n",
       "      <td>0.000000</td>\n",
       "      <td>0.000000</td>\n",
       "      <td>0.000000</td>\n",
       "      <td>0.000000</td>\n",
       "      <td>0.000000</td>\n",
       "      <td>0.000000</td>\n",
       "      <td>0.000000</td>\n",
       "      <td>0.350000</td>\n",
       "    </tr>\n",
       "    <tr>\n",
       "      <th>25%</th>\n",
       "      <td>0.038679</td>\n",
       "      <td>0.000000</td>\n",
       "      <td>33.100000</td>\n",
       "      <td>0.144922</td>\n",
       "      <td>0.536970</td>\n",
       "      <td>4.727598</td>\n",
       "      <td>1.694388</td>\n",
       "      <td>0.000000</td>\n",
       "      <td>0.000000</td>\n",
       "      <td>0.000000</td>\n",
       "      <td>0.000000</td>\n",
       "      <td>0.000000</td>\n",
       "      <td>0.000000</td>\n",
       "      <td>0.000000</td>\n",
       "      <td>0.000000</td>\n",
       "      <td>0.543112</td>\n",
       "      <td>2.028371</td>\n",
       "    </tr>\n",
       "    <tr>\n",
       "      <th>50%</th>\n",
       "      <td>0.068238</td>\n",
       "      <td>0.022657</td>\n",
       "      <td>38.463633</td>\n",
       "      <td>0.276376</td>\n",
       "      <td>1.291322</td>\n",
       "      <td>6.353466</td>\n",
       "      <td>2.251390</td>\n",
       "      <td>0.003945</td>\n",
       "      <td>0.000000</td>\n",
       "      <td>0.089616</td>\n",
       "      <td>0.027621</td>\n",
       "      <td>0.132279</td>\n",
       "      <td>0.003685</td>\n",
       "      <td>0.247225</td>\n",
       "      <td>0.324638</td>\n",
       "      <td>0.655556</td>\n",
       "      <td>2.254545</td>\n",
       "    </tr>\n",
       "    <tr>\n",
       "      <th>75%</th>\n",
       "      <td>0.097773</td>\n",
       "      <td>0.041474</td>\n",
       "      <td>47.698664</td>\n",
       "      <td>0.499534</td>\n",
       "      <td>2.811634</td>\n",
       "      <td>8.515536</td>\n",
       "      <td>2.907841</td>\n",
       "      <td>0.006338</td>\n",
       "      <td>0.027328</td>\n",
       "      <td>0.219543</td>\n",
       "      <td>0.079538</td>\n",
       "      <td>0.432359</td>\n",
       "      <td>0.020984</td>\n",
       "      <td>0.779956</td>\n",
       "      <td>0.727902</td>\n",
       "      <td>0.801919</td>\n",
       "      <td>2.552632</td>\n",
       "    </tr>\n",
       "    <tr>\n",
       "      <th>max</th>\n",
       "      <td>0.361562</td>\n",
       "      <td>0.522523</td>\n",
       "      <td>645.274303</td>\n",
       "      <td>248.430769</td>\n",
       "      <td>2149.411538</td>\n",
       "      <td>102.680769</td>\n",
       "      <td>20.391667</td>\n",
       "      <td>0.100000</td>\n",
       "      <td>4.922137</td>\n",
       "      <td>2.888889</td>\n",
       "      <td>0.468000</td>\n",
       "      <td>38.688462</td>\n",
       "      <td>0.480000</td>\n",
       "      <td>10.384121</td>\n",
       "      <td>131.452195</td>\n",
       "      <td>24.526923</td>\n",
       "      <td>235.046154</td>\n",
       "    </tr>\n",
       "  </tbody>\n",
       "</table>\n",
       "</div>"
      ],
      "text/plain": [
       "       A03210Scaled  N02300Scaled  A00200Scaled  A00300Scaled  A01000Scaled  \\\n",
       "count  27658.000000  27658.000000  27658.000000  27658.000000  27658.000000   \n",
       "mean       0.067633      0.027209     44.422859      0.564403      3.912291   \n",
       "std        0.044614      0.027556     22.950121      2.428425     20.036335   \n",
       "min        0.000000      0.000000      3.953571      0.000000     -0.073171   \n",
       "25%        0.038679      0.000000     33.100000      0.144922      0.536970   \n",
       "50%        0.068238      0.022657     38.463633      0.276376      1.291322   \n",
       "75%        0.097773      0.041474     47.698664      0.499534      2.811634   \n",
       "max        0.361562      0.522523    645.274303    248.430769   2149.411538   \n",
       "\n",
       "       A01750Scaled  A02500Scaled  A03220Scaled  A03300Scaled  A03270Scaled  \\\n",
       "count  27658.000000  27658.000000  27658.000000  27658.000000  27658.000000   \n",
       "mean       7.032602      2.401351      0.003793      0.079552      0.156936   \n",
       "std        3.876793      1.232024      0.003739      0.269231      0.223113   \n",
       "min        0.000000      0.000000      0.000000      0.000000      0.000000   \n",
       "25%        4.727598      1.694388      0.000000      0.000000      0.000000   \n",
       "50%        6.353466      2.251390      0.003945      0.000000      0.089616   \n",
       "75%        8.515536      2.907841      0.006338      0.027328      0.219543   \n",
       "max      102.680769     20.391667      0.100000      4.922137      2.888889   \n",
       "\n",
       "       A03150Scaled  A18500Scaled  A18800Scaled  A19300Scaled  A19700Scaled  \\\n",
       "count  27658.000000  27658.000000  27658.000000  27658.000000  27658.000000   \n",
       "mean       0.045265      0.430242      0.017099      0.659882      0.734202   \n",
       "std        0.054581      0.932416      0.031492      1.095673      2.595536   \n",
       "min        0.000000      0.000000      0.000000      0.000000      0.000000   \n",
       "25%        0.000000      0.000000      0.000000      0.000000      0.000000   \n",
       "50%        0.027621      0.132279      0.003685      0.247225      0.324638   \n",
       "75%        0.079538      0.432359      0.020984      0.779956      0.727902   \n",
       "max        0.468000     38.688462      0.480000     10.384121    131.452195   \n",
       "\n",
       "       A07100Scaled  A11900Scaled  \n",
       "count  27658.000000  27658.000000  \n",
       "mean       0.726997      2.543877  \n",
       "std        0.480113      2.501017  \n",
       "min        0.000000      0.350000  \n",
       "25%        0.543112      2.028371  \n",
       "50%        0.655556      2.254545  \n",
       "75%        0.801919      2.552632  \n",
       "max       24.526923    235.046154  "
      ]
     },
     "execution_count": 31,
     "metadata": {},
     "output_type": "execute_result"
    }
   ],
   "source": [
    "#EDA\n",
    "df[n1ScaledVars].describe()"
   ]
  },
  {
   "cell_type": "code",
   "execution_count": 32,
   "metadata": {},
   "outputs": [
    {
     "data": {
      "text/plain": [
       "27658"
      ]
     },
     "execution_count": 32,
     "metadata": {},
     "output_type": "execute_result"
    }
   ],
   "source": [
    "df['STATE'].count()"
   ]
  },
  {
   "cell_type": "code",
   "execution_count": null,
   "metadata": {},
   "outputs": [],
   "source": []
  },
  {
   "cell_type": "code",
   "execution_count": 33,
   "metadata": {},
   "outputs": [
    {
     "data": {
      "text/plain": [
       "STATE                    0\n",
       "A03210Scaled             0\n",
       "N02300Scaled             0\n",
       "A00200Scaled             0\n",
       "A00300Scaled             0\n",
       "A01000Scaled             0\n",
       "A01750Scaled             0\n",
       "A02500Scaled             0\n",
       "A03220Scaled             0\n",
       "A03300Scaled             0\n",
       "A03270Scaled             0\n",
       "A03150Scaled             0\n",
       "A18500Scaled             0\n",
       "A18800Scaled             0\n",
       "A19300Scaled             0\n",
       "A19700Scaled             0\n",
       "A07100Scaled             0\n",
       "A11900Scaled             0\n",
       "A03210Bonus           4722\n",
       "N02300ScaledBinary       0\n",
       "dtype: int64"
      ]
     },
     "execution_count": 33,
     "metadata": {},
     "output_type": "execute_result"
    }
   ],
   "source": [
    "df.isnull().sum()"
   ]
  },
  {
   "cell_type": "code",
   "execution_count": 34,
   "metadata": {},
   "outputs": [],
   "source": [
    "###Target 1: Continuous target =\n",
    "#Student loan interest deduction amount [A03210]/ Number of returns [N1] = A03210Scaled"
   ]
  },
  {
   "cell_type": "code",
   "execution_count": 35,
   "metadata": {
    "scrolled": true
   },
   "outputs": [
    {
     "data": {
      "text/html": [
       "<div>\n",
       "<style scoped>\n",
       "    .dataframe tbody tr th:only-of-type {\n",
       "        vertical-align: middle;\n",
       "    }\n",
       "\n",
       "    .dataframe tbody tr th {\n",
       "        vertical-align: top;\n",
       "    }\n",
       "\n",
       "    .dataframe thead th {\n",
       "        text-align: right;\n",
       "    }\n",
       "</style>\n",
       "<table border=\"1\" class=\"dataframe\">\n",
       "  <thead>\n",
       "    <tr style=\"text-align: right;\">\n",
       "      <th></th>\n",
       "      <th>STATE</th>\n",
       "      <th>A03210Scaled</th>\n",
       "      <th>N02300Scaled</th>\n",
       "      <th>A00200Scaled</th>\n",
       "      <th>A00300Scaled</th>\n",
       "      <th>A01000Scaled</th>\n",
       "      <th>A01750Scaled</th>\n",
       "      <th>A02500Scaled</th>\n",
       "      <th>A03220Scaled</th>\n",
       "      <th>A03300Scaled</th>\n",
       "      <th>A03270Scaled</th>\n",
       "      <th>A03150Scaled</th>\n",
       "      <th>A18500Scaled</th>\n",
       "      <th>A18800Scaled</th>\n",
       "      <th>A19300Scaled</th>\n",
       "      <th>A19700Scaled</th>\n",
       "      <th>A07100Scaled</th>\n",
       "      <th>A11900Scaled</th>\n",
       "      <th>A03210Bonus</th>\n",
       "      <th>N02300ScaledBinary</th>\n",
       "    </tr>\n",
       "  </thead>\n",
       "  <tbody>\n",
       "    <tr>\n",
       "      <th>0</th>\n",
       "      <td>AL</td>\n",
       "      <td>0.070485</td>\n",
       "      <td>0.018460</td>\n",
       "      <td>42.665998</td>\n",
       "      <td>0.428274</td>\n",
       "      <td>2.366758</td>\n",
       "      <td>7.018818</td>\n",
       "      <td>2.291165</td>\n",
       "      <td>0.005317</td>\n",
       "      <td>0.055716</td>\n",
       "      <td>0.141113</td>\n",
       "      <td>0.045952</td>\n",
       "      <td>0.165551</td>\n",
       "      <td>0.024255</td>\n",
       "      <td>0.620069</td>\n",
       "      <td>1.169139</td>\n",
       "      <td>0.717486</td>\n",
       "      <td>2.614869</td>\n",
       "      <td>1.074143</td>\n",
       "      <td>1</td>\n",
       "    </tr>\n",
       "    <tr>\n",
       "      <th>1</th>\n",
       "      <td>AL</td>\n",
       "      <td>0.119038</td>\n",
       "      <td>0.015385</td>\n",
       "      <td>47.295962</td>\n",
       "      <td>0.183269</td>\n",
       "      <td>0.509423</td>\n",
       "      <td>5.191346</td>\n",
       "      <td>1.922692</td>\n",
       "      <td>0.005577</td>\n",
       "      <td>0.000000</td>\n",
       "      <td>0.051731</td>\n",
       "      <td>0.034231</td>\n",
       "      <td>0.058269</td>\n",
       "      <td>0.015962</td>\n",
       "      <td>0.412885</td>\n",
       "      <td>0.838654</td>\n",
       "      <td>0.844808</td>\n",
       "      <td>2.140577</td>\n",
       "      <td>1.067241</td>\n",
       "      <td>1</td>\n",
       "    </tr>\n",
       "    <tr>\n",
       "      <th>2</th>\n",
       "      <td>AL</td>\n",
       "      <td>0.070533</td>\n",
       "      <td>0.018809</td>\n",
       "      <td>33.784013</td>\n",
       "      <td>0.113166</td>\n",
       "      <td>0.106897</td>\n",
       "      <td>4.774922</td>\n",
       "      <td>1.503448</td>\n",
       "      <td>0.003762</td>\n",
       "      <td>0.000000</td>\n",
       "      <td>0.000000</td>\n",
       "      <td>0.025392</td>\n",
       "      <td>0.066144</td>\n",
       "      <td>0.036050</td>\n",
       "      <td>0.323197</td>\n",
       "      <td>0.571160</td>\n",
       "      <td>0.588088</td>\n",
       "      <td>2.378997</td>\n",
       "      <td>1.125000</td>\n",
       "      <td>1</td>\n",
       "    </tr>\n",
       "    <tr>\n",
       "      <th>3</th>\n",
       "      <td>AL</td>\n",
       "      <td>0.029839</td>\n",
       "      <td>0.016129</td>\n",
       "      <td>40.854032</td>\n",
       "      <td>0.092742</td>\n",
       "      <td>0.092742</td>\n",
       "      <td>7.562097</td>\n",
       "      <td>2.398387</td>\n",
       "      <td>0.000000</td>\n",
       "      <td>0.000000</td>\n",
       "      <td>0.000000</td>\n",
       "      <td>0.077419</td>\n",
       "      <td>0.019355</td>\n",
       "      <td>0.010484</td>\n",
       "      <td>0.115323</td>\n",
       "      <td>0.213710</td>\n",
       "      <td>0.730645</td>\n",
       "      <td>2.285484</td>\n",
       "      <td>0.740000</td>\n",
       "      <td>1</td>\n",
       "    </tr>\n",
       "    <tr>\n",
       "      <th>4</th>\n",
       "      <td>AL</td>\n",
       "      <td>0.113527</td>\n",
       "      <td>0.014108</td>\n",
       "      <td>47.983154</td>\n",
       "      <td>0.208465</td>\n",
       "      <td>1.013859</td>\n",
       "      <td>5.917510</td>\n",
       "      <td>2.130207</td>\n",
       "      <td>0.007137</td>\n",
       "      <td>0.000000</td>\n",
       "      <td>0.148714</td>\n",
       "      <td>0.046639</td>\n",
       "      <td>0.113693</td>\n",
       "      <td>0.035353</td>\n",
       "      <td>0.585062</td>\n",
       "      <td>0.941660</td>\n",
       "      <td>0.880913</td>\n",
       "      <td>2.040664</td>\n",
       "      <td>1.112195</td>\n",
       "      <td>1</td>\n",
       "    </tr>\n",
       "  </tbody>\n",
       "</table>\n",
       "</div>"
      ],
      "text/plain": [
       "  STATE  A03210Scaled  N02300Scaled  A00200Scaled  A00300Scaled  A01000Scaled  \\\n",
       "0    AL      0.070485      0.018460     42.665998      0.428274      2.366758   \n",
       "1    AL      0.119038      0.015385     47.295962      0.183269      0.509423   \n",
       "2    AL      0.070533      0.018809     33.784013      0.113166      0.106897   \n",
       "3    AL      0.029839      0.016129     40.854032      0.092742      0.092742   \n",
       "4    AL      0.113527      0.014108     47.983154      0.208465      1.013859   \n",
       "\n",
       "   A01750Scaled  A02500Scaled  A03220Scaled  A03300Scaled  A03270Scaled  \\\n",
       "0      7.018818      2.291165      0.005317      0.055716      0.141113   \n",
       "1      5.191346      1.922692      0.005577      0.000000      0.051731   \n",
       "2      4.774922      1.503448      0.003762      0.000000      0.000000   \n",
       "3      7.562097      2.398387      0.000000      0.000000      0.000000   \n",
       "4      5.917510      2.130207      0.007137      0.000000      0.148714   \n",
       "\n",
       "   A03150Scaled  A18500Scaled  A18800Scaled  A19300Scaled  A19700Scaled  \\\n",
       "0      0.045952      0.165551      0.024255      0.620069      1.169139   \n",
       "1      0.034231      0.058269      0.015962      0.412885      0.838654   \n",
       "2      0.025392      0.066144      0.036050      0.323197      0.571160   \n",
       "3      0.077419      0.019355      0.010484      0.115323      0.213710   \n",
       "4      0.046639      0.113693      0.035353      0.585062      0.941660   \n",
       "\n",
       "   A07100Scaled  A11900Scaled  A03210Bonus  N02300ScaledBinary  \n",
       "0      0.717486      2.614869     1.074143                   1  \n",
       "1      0.844808      2.140577     1.067241                   1  \n",
       "2      0.588088      2.378997     1.125000                   1  \n",
       "3      0.730645      2.285484     0.740000                   1  \n",
       "4      0.880913      2.040664     1.112195                   1  "
      ]
     },
     "execution_count": 35,
     "metadata": {},
     "output_type": "execute_result"
    }
   ],
   "source": [
    "df.head(5)"
   ]
  },
  {
   "cell_type": "code",
   "execution_count": 36,
   "metadata": {},
   "outputs": [],
   "source": [
    "from sklearn.preprocessing import MinMaxScaler"
   ]
  },
  {
   "cell_type": "code",
   "execution_count": 37,
   "metadata": {},
   "outputs": [],
   "source": [
    "\n",
    "from sklearn.preprocessing import StandardScaler"
   ]
  },
  {
   "cell_type": "code",
   "execution_count": 38,
   "metadata": {},
   "outputs": [
    {
     "data": {
      "text/plain": [
       "StandardScaler()"
      ]
     },
     "execution_count": 38,
     "metadata": {},
     "output_type": "execute_result"
    }
   ],
   "source": [
    "\n",
    "scaler=StandardScaler()\n",
    "scaler.fit(df[n1ScaledVars])"
   ]
  },
  {
   "cell_type": "code",
   "execution_count": 39,
   "metadata": {},
   "outputs": [],
   "source": [
    "scaled_data=scaler.transform(df[n1ScaledVars])\n"
   ]
  },
  {
   "cell_type": "code",
   "execution_count": 40,
   "metadata": {},
   "outputs": [
    {
     "data": {
      "text/plain": [
       "array([[ 0.06391727, -0.31752116, -0.07655265, ...,  0.16757445,\n",
       "        -0.01980898,  0.02838587],\n",
       "       [ 1.15225151, -0.42913018,  0.12519127, ...,  0.04024371,\n",
       "         0.24538646, -0.16125734],\n",
       "       [ 0.06500121, -0.30486537, -0.46357221, ..., -0.06281738,\n",
       "        -0.28933048, -0.06592641],\n",
       "       ...,\n",
       "       [-0.00593083,  0.92258353,  0.2086615 , ...,  0.24638222,\n",
       "         0.32526535,  1.69968343],\n",
       "       [-1.51599189, -0.98744672,  1.36797099, ...,  1.51455655,\n",
       "         1.16632967,  4.89880633],\n",
       "       [-0.71120666,  0.25129604, -0.04319516, ...,  0.02854141,\n",
       "        -0.24582284,  0.83618242]])"
      ]
     },
     "execution_count": 40,
     "metadata": {},
     "output_type": "execute_result"
    }
   ],
   "source": [
    "scaled_data"
   ]
  },
  {
   "cell_type": "code",
   "execution_count": 41,
   "metadata": {},
   "outputs": [],
   "source": [
    "from sklearn.decomposition import PCA"
   ]
  },
  {
   "cell_type": "markdown",
   "metadata": {},
   "source": [
    "# PCA"
   ]
  },
  {
   "cell_type": "code",
   "execution_count": 42,
   "metadata": {},
   "outputs": [],
   "source": [
    "pca=PCA(n_components=2)"
   ]
  },
  {
   "cell_type": "code",
   "execution_count": 43,
   "metadata": {},
   "outputs": [
    {
     "data": {
      "text/plain": [
       "PCA(n_components=2)"
      ]
     },
     "execution_count": 43,
     "metadata": {},
     "output_type": "execute_result"
    }
   ],
   "source": [
    "\n",
    "pca.fit(scaled_data)"
   ]
  },
  {
   "cell_type": "code",
   "execution_count": 44,
   "metadata": {},
   "outputs": [],
   "source": [
    "x_pca=pca.transform(scaled_data)"
   ]
  },
  {
   "cell_type": "code",
   "execution_count": 45,
   "metadata": {},
   "outputs": [
    {
     "data": {
      "text/plain": [
       "(27658, 17)"
      ]
     },
     "execution_count": 45,
     "metadata": {},
     "output_type": "execute_result"
    }
   ],
   "source": [
    "\n",
    "scaled_data.shape"
   ]
  },
  {
   "cell_type": "code",
   "execution_count": 46,
   "metadata": {},
   "outputs": [
    {
     "data": {
      "text/plain": [
       "(27658, 2)"
      ]
     },
     "execution_count": 46,
     "metadata": {},
     "output_type": "execute_result"
    }
   ],
   "source": [
    "\n",
    "x_pca.shape"
   ]
  },
  {
   "cell_type": "code",
   "execution_count": 47,
   "metadata": {},
   "outputs": [
    {
     "data": {
      "text/plain": [
       "array([[ 0.06391727, -0.31752116, -0.07655265, ...,  0.16757445,\n",
       "        -0.01980898,  0.02838587],\n",
       "       [ 1.15225151, -0.42913018,  0.12519127, ...,  0.04024371,\n",
       "         0.24538646, -0.16125734],\n",
       "       [ 0.06500121, -0.30486537, -0.46357221, ..., -0.06281738,\n",
       "        -0.28933048, -0.06592641],\n",
       "       ...,\n",
       "       [-0.00593083,  0.92258353,  0.2086615 , ...,  0.24638222,\n",
       "         0.32526535,  1.69968343],\n",
       "       [-1.51599189, -0.98744672,  1.36797099, ...,  1.51455655,\n",
       "         1.16632967,  4.89880633],\n",
       "       [-0.71120666,  0.25129604, -0.04319516, ...,  0.02854141,\n",
       "        -0.24582284,  0.83618242]])"
      ]
     },
     "execution_count": 47,
     "metadata": {},
     "output_type": "execute_result"
    }
   ],
   "source": [
    "scaled_data"
   ]
  },
  {
   "cell_type": "code",
   "execution_count": 48,
   "metadata": {
    "scrolled": true
   },
   "outputs": [
    {
     "data": {
      "text/plain": [
       "array([[-0.07538008, -0.13077031],\n",
       "       [-0.4970597 , -0.24479758],\n",
       "       [-1.0558744 ,  0.2374307 ],\n",
       "       ...,\n",
       "       [ 2.28442281,  0.23131404],\n",
       "       [ 7.3654708 ,  2.50834441],\n",
       "       [ 0.41279031,  0.53500026]])"
      ]
     },
     "execution_count": 48,
     "metadata": {},
     "output_type": "execute_result"
    }
   ],
   "source": [
    "x_pca"
   ]
  },
  {
   "cell_type": "code",
   "execution_count": 49,
   "metadata": {},
   "outputs": [
    {
     "data": {
      "text/plain": [
       "Text(0, 0.5, 'Second principle component')"
      ]
     },
     "execution_count": 49,
     "metadata": {},
     "output_type": "execute_result"
    },
    {
     "data": {
      "image/png": "[encoded data removed]",
      "text/plain": [
       "<Figure size 576x432 with 1 Axes>"
      ]
     },
     "metadata": {
      "needs_background": "light"
     },
     "output_type": "display_data"
    }
   ],
   "source": [
    "plt.figure(figsize=(8,6))\n",
    "plt.scatter(x_pca[:,0],x_pca[:,1],c=df['A03210Scaled'])\n",
    "plt.xlabel('First principle component')\n",
    "plt.ylabel('Second principle component')"
   ]
  },
  {
   "cell_type": "code",
   "execution_count": 50,
   "metadata": {
    "scrolled": true
   },
   "outputs": [
    {
     "data": {
      "text/html": [
       "<div>\n",
       "<style scoped>\n",
       "    .dataframe tbody tr th:only-of-type {\n",
       "        vertical-align: middle;\n",
       "    }\n",
       "\n",
       "    .dataframe tbody tr th {\n",
       "        vertical-align: top;\n",
       "    }\n",
       "\n",
       "    .dataframe thead th {\n",
       "        text-align: right;\n",
       "    }\n",
       "</style>\n",
       "<table border=\"1\" class=\"dataframe\">\n",
       "  <thead>\n",
       "    <tr style=\"text-align: right;\">\n",
       "      <th></th>\n",
       "      <th>A03210Scaled</th>\n",
       "      <th>A00200Scaled</th>\n",
       "      <th>A00300Scaled</th>\n",
       "      <th>A01000Scaled</th>\n",
       "      <th>A01750Scaled</th>\n",
       "      <th>A02500Scaled</th>\n",
       "      <th>A03220Scaled</th>\n",
       "      <th>A03300Scaled</th>\n",
       "      <th>A03270Scaled</th>\n",
       "      <th>A03150Scaled</th>\n",
       "      <th>A18500Scaled</th>\n",
       "      <th>A18800Scaled</th>\n",
       "      <th>A19300Scaled</th>\n",
       "      <th>A19700Scaled</th>\n",
       "      <th>A07100Scaled</th>\n",
       "      <th>A11900Scaled</th>\n",
       "      <th>A03210Bonus</th>\n",
       "    </tr>\n",
       "  </thead>\n",
       "  <tbody>\n",
       "    <tr>\n",
       "      <th>A03210Scaled</th>\n",
       "      <td>1.000000</td>\n",
       "      <td>0.241012</td>\n",
       "      <td>0.008831</td>\n",
       "      <td>0.002110</td>\n",
       "      <td>0.061772</td>\n",
       "      <td>0.004824</td>\n",
       "      <td>0.470188</td>\n",
       "      <td>0.079015</td>\n",
       "      <td>0.205226</td>\n",
       "      <td>0.395568</td>\n",
       "      <td>0.112737</td>\n",
       "      <td>0.155524</td>\n",
       "      <td>0.159651</td>\n",
       "      <td>0.046402</td>\n",
       "      <td>0.122609</td>\n",
       "      <td>-0.029844</td>\n",
       "      <td>0.546177</td>\n",
       "    </tr>\n",
       "    <tr>\n",
       "      <th>A00200Scaled</th>\n",
       "      <td>0.241012</td>\n",
       "      <td>1.000000</td>\n",
       "      <td>0.482396</td>\n",
       "      <td>0.525856</td>\n",
       "      <td>0.368484</td>\n",
       "      <td>0.294192</td>\n",
       "      <td>0.326023</td>\n",
       "      <td>0.811609</td>\n",
       "      <td>0.648460</td>\n",
       "      <td>0.505807</td>\n",
       "      <td>0.846428</td>\n",
       "      <td>0.503472</td>\n",
       "      <td>0.815447</td>\n",
       "      <td>0.603247</td>\n",
       "      <td>0.742773</td>\n",
       "      <td>0.540161</td>\n",
       "      <td>0.298634</td>\n",
       "    </tr>\n",
       "    <tr>\n",
       "      <th>A00300Scaled</th>\n",
       "      <td>0.008831</td>\n",
       "      <td>0.482396</td>\n",
       "      <td>1.000000</td>\n",
       "      <td>0.921700</td>\n",
       "      <td>0.327927</td>\n",
       "      <td>0.258918</td>\n",
       "      <td>0.039797</td>\n",
       "      <td>0.456280</td>\n",
       "      <td>0.425170</td>\n",
       "      <td>0.196439</td>\n",
       "      <td>0.649649</td>\n",
       "      <td>0.177645</td>\n",
       "      <td>0.356567</td>\n",
       "      <td>0.770672</td>\n",
       "      <td>0.742018</td>\n",
       "      <td>0.923493</td>\n",
       "      <td>0.121503</td>\n",
       "    </tr>\n",
       "    <tr>\n",
       "      <th>A01000Scaled</th>\n",
       "      <td>0.002110</td>\n",
       "      <td>0.525856</td>\n",
       "      <td>0.921700</td>\n",
       "      <td>1.000000</td>\n",
       "      <td>0.336336</td>\n",
       "      <td>0.255977</td>\n",
       "      <td>0.028770</td>\n",
       "      <td>0.488300</td>\n",
       "      <td>0.437304</td>\n",
       "      <td>0.196898</td>\n",
       "      <td>0.667137</td>\n",
       "      <td>0.212305</td>\n",
       "      <td>0.382325</td>\n",
       "      <td>0.825573</td>\n",
       "      <td>0.749796</td>\n",
       "      <td>0.945707</td>\n",
       "      <td>0.121935</td>\n",
       "    </tr>\n",
       "    <tr>\n",
       "      <th>A01750Scaled</th>\n",
       "      <td>0.061772</td>\n",
       "      <td>0.368484</td>\n",
       "      <td>0.327927</td>\n",
       "      <td>0.336336</td>\n",
       "      <td>1.000000</td>\n",
       "      <td>0.881345</td>\n",
       "      <td>0.199971</td>\n",
       "      <td>0.384065</td>\n",
       "      <td>0.433792</td>\n",
       "      <td>0.365027</td>\n",
       "      <td>0.504733</td>\n",
       "      <td>0.318831</td>\n",
       "      <td>0.491711</td>\n",
       "      <td>0.330970</td>\n",
       "      <td>0.279606</td>\n",
       "      <td>0.278119</td>\n",
       "      <td>0.207956</td>\n",
       "    </tr>\n",
       "    <tr>\n",
       "      <th>A02500Scaled</th>\n",
       "      <td>0.004824</td>\n",
       "      <td>0.294192</td>\n",
       "      <td>0.258918</td>\n",
       "      <td>0.255977</td>\n",
       "      <td>0.881345</td>\n",
       "      <td>1.000000</td>\n",
       "      <td>0.099746</td>\n",
       "      <td>0.331234</td>\n",
       "      <td>0.474867</td>\n",
       "      <td>0.320292</td>\n",
       "      <td>0.420139</td>\n",
       "      <td>0.209398</td>\n",
       "      <td>0.379732</td>\n",
       "      <td>0.261000</td>\n",
       "      <td>0.211085</td>\n",
       "      <td>0.188742</td>\n",
       "      <td>0.174436</td>\n",
       "    </tr>\n",
       "    <tr>\n",
       "      <th>A03220Scaled</th>\n",
       "      <td>0.470188</td>\n",
       "      <td>0.326023</td>\n",
       "      <td>0.039797</td>\n",
       "      <td>0.028770</td>\n",
       "      <td>0.199971</td>\n",
       "      <td>0.099746</td>\n",
       "      <td>1.000000</td>\n",
       "      <td>0.206886</td>\n",
       "      <td>0.280631</td>\n",
       "      <td>0.531207</td>\n",
       "      <td>0.306709</td>\n",
       "      <td>0.284782</td>\n",
       "      <td>0.368240</td>\n",
       "      <td>0.100443</td>\n",
       "      <td>0.197921</td>\n",
       "      <td>0.038843</td>\n",
       "      <td>0.294062</td>\n",
       "    </tr>\n",
       "    <tr>\n",
       "      <th>A03300Scaled</th>\n",
       "      <td>0.079015</td>\n",
       "      <td>0.811609</td>\n",
       "      <td>0.456280</td>\n",
       "      <td>0.488300</td>\n",
       "      <td>0.384065</td>\n",
       "      <td>0.331234</td>\n",
       "      <td>0.206886</td>\n",
       "      <td>1.000000</td>\n",
       "      <td>0.695610</td>\n",
       "      <td>0.460941</td>\n",
       "      <td>0.815101</td>\n",
       "      <td>0.423082</td>\n",
       "      <td>0.746153</td>\n",
       "      <td>0.574005</td>\n",
       "      <td>0.607815</td>\n",
       "      <td>0.518121</td>\n",
       "      <td>0.245543</td>\n",
       "    </tr>\n",
       "    <tr>\n",
       "      <th>A03270Scaled</th>\n",
       "      <td>0.205226</td>\n",
       "      <td>0.648460</td>\n",
       "      <td>0.425170</td>\n",
       "      <td>0.437304</td>\n",
       "      <td>0.433792</td>\n",
       "      <td>0.474867</td>\n",
       "      <td>0.280631</td>\n",
       "      <td>0.695610</td>\n",
       "      <td>1.000000</td>\n",
       "      <td>0.599279</td>\n",
       "      <td>0.692576</td>\n",
       "      <td>0.405403</td>\n",
       "      <td>0.665514</td>\n",
       "      <td>0.469612</td>\n",
       "      <td>0.540244</td>\n",
       "      <td>0.424367</td>\n",
       "      <td>0.209256</td>\n",
       "    </tr>\n",
       "    <tr>\n",
       "      <th>A03150Scaled</th>\n",
       "      <td>0.395568</td>\n",
       "      <td>0.505807</td>\n",
       "      <td>0.196439</td>\n",
       "      <td>0.196898</td>\n",
       "      <td>0.365027</td>\n",
       "      <td>0.320292</td>\n",
       "      <td>0.531207</td>\n",
       "      <td>0.460941</td>\n",
       "      <td>0.599279</td>\n",
       "      <td>1.000000</td>\n",
       "      <td>0.510126</td>\n",
       "      <td>0.419019</td>\n",
       "      <td>0.600862</td>\n",
       "      <td>0.261630</td>\n",
       "      <td>0.328594</td>\n",
       "      <td>0.167223</td>\n",
       "      <td>0.319651</td>\n",
       "    </tr>\n",
       "    <tr>\n",
       "      <th>A18500Scaled</th>\n",
       "      <td>0.112737</td>\n",
       "      <td>0.846428</td>\n",
       "      <td>0.649649</td>\n",
       "      <td>0.667137</td>\n",
       "      <td>0.504733</td>\n",
       "      <td>0.420139</td>\n",
       "      <td>0.306709</td>\n",
       "      <td>0.815101</td>\n",
       "      <td>0.692576</td>\n",
       "      <td>0.510126</td>\n",
       "      <td>1.000000</td>\n",
       "      <td>0.463861</td>\n",
       "      <td>0.846238</td>\n",
       "      <td>0.666719</td>\n",
       "      <td>0.727561</td>\n",
       "      <td>0.676544</td>\n",
       "      <td>0.287588</td>\n",
       "    </tr>\n",
       "    <tr>\n",
       "      <th>A18800Scaled</th>\n",
       "      <td>0.155524</td>\n",
       "      <td>0.503472</td>\n",
       "      <td>0.177645</td>\n",
       "      <td>0.212305</td>\n",
       "      <td>0.318831</td>\n",
       "      <td>0.209398</td>\n",
       "      <td>0.284782</td>\n",
       "      <td>0.423082</td>\n",
       "      <td>0.405403</td>\n",
       "      <td>0.419019</td>\n",
       "      <td>0.463861</td>\n",
       "      <td>1.000000</td>\n",
       "      <td>0.684471</td>\n",
       "      <td>0.315882</td>\n",
       "      <td>0.348414</td>\n",
       "      <td>0.202535</td>\n",
       "      <td>0.180968</td>\n",
       "    </tr>\n",
       "    <tr>\n",
       "      <th>A19300Scaled</th>\n",
       "      <td>0.159651</td>\n",
       "      <td>0.815447</td>\n",
       "      <td>0.356567</td>\n",
       "      <td>0.382325</td>\n",
       "      <td>0.491711</td>\n",
       "      <td>0.379732</td>\n",
       "      <td>0.368240</td>\n",
       "      <td>0.746153</td>\n",
       "      <td>0.665514</td>\n",
       "      <td>0.600862</td>\n",
       "      <td>0.846238</td>\n",
       "      <td>0.684471</td>\n",
       "      <td>1.000000</td>\n",
       "      <td>0.467342</td>\n",
       "      <td>0.552349</td>\n",
       "      <td>0.377855</td>\n",
       "      <td>0.287304</td>\n",
       "    </tr>\n",
       "    <tr>\n",
       "      <th>A19700Scaled</th>\n",
       "      <td>0.046402</td>\n",
       "      <td>0.603247</td>\n",
       "      <td>0.770672</td>\n",
       "      <td>0.825573</td>\n",
       "      <td>0.330970</td>\n",
       "      <td>0.261000</td>\n",
       "      <td>0.100443</td>\n",
       "      <td>0.574005</td>\n",
       "      <td>0.469612</td>\n",
       "      <td>0.261630</td>\n",
       "      <td>0.666719</td>\n",
       "      <td>0.315882</td>\n",
       "      <td>0.467342</td>\n",
       "      <td>1.000000</td>\n",
       "      <td>0.763526</td>\n",
       "      <td>0.836349</td>\n",
       "      <td>0.135948</td>\n",
       "    </tr>\n",
       "    <tr>\n",
       "      <th>A07100Scaled</th>\n",
       "      <td>0.122609</td>\n",
       "      <td>0.742773</td>\n",
       "      <td>0.742018</td>\n",
       "      <td>0.749796</td>\n",
       "      <td>0.279606</td>\n",
       "      <td>0.211085</td>\n",
       "      <td>0.197921</td>\n",
       "      <td>0.607815</td>\n",
       "      <td>0.540244</td>\n",
       "      <td>0.328594</td>\n",
       "      <td>0.727561</td>\n",
       "      <td>0.348414</td>\n",
       "      <td>0.552349</td>\n",
       "      <td>0.763526</td>\n",
       "      <td>1.000000</td>\n",
       "      <td>0.784757</td>\n",
       "      <td>0.136669</td>\n",
       "    </tr>\n",
       "    <tr>\n",
       "      <th>A11900Scaled</th>\n",
       "      <td>-0.029844</td>\n",
       "      <td>0.540161</td>\n",
       "      <td>0.923493</td>\n",
       "      <td>0.945707</td>\n",
       "      <td>0.278119</td>\n",
       "      <td>0.188742</td>\n",
       "      <td>0.038843</td>\n",
       "      <td>0.518121</td>\n",
       "      <td>0.424367</td>\n",
       "      <td>0.167223</td>\n",
       "      <td>0.676544</td>\n",
       "      <td>0.202535</td>\n",
       "      <td>0.377855</td>\n",
       "      <td>0.836349</td>\n",
       "      <td>0.784757</td>\n",
       "      <td>1.000000</td>\n",
       "      <td>0.096353</td>\n",
       "    </tr>\n",
       "    <tr>\n",
       "      <th>A03210Bonus</th>\n",
       "      <td>0.546177</td>\n",
       "      <td>0.298634</td>\n",
       "      <td>0.121503</td>\n",
       "      <td>0.121935</td>\n",
       "      <td>0.207956</td>\n",
       "      <td>0.174436</td>\n",
       "      <td>0.294062</td>\n",
       "      <td>0.245543</td>\n",
       "      <td>0.209256</td>\n",
       "      <td>0.319651</td>\n",
       "      <td>0.287588</td>\n",
       "      <td>0.180968</td>\n",
       "      <td>0.287304</td>\n",
       "      <td>0.135948</td>\n",
       "      <td>0.136669</td>\n",
       "      <td>0.096353</td>\n",
       "      <td>1.000000</td>\n",
       "    </tr>\n",
       "  </tbody>\n",
       "</table>\n",
       "</div>"
      ],
      "text/plain": [
       "              A03210Scaled  A00200Scaled  A00300Scaled  A01000Scaled  \\\n",
       "A03210Scaled      1.000000      0.241012      0.008831      0.002110   \n",
       "A00200Scaled      0.241012      1.000000      0.482396      0.525856   \n",
       "A00300Scaled      0.008831      0.482396      1.000000      0.921700   \n",
       "A01000Scaled      0.002110      0.525856      0.921700      1.000000   \n",
       "A01750Scaled      0.061772      0.368484      0.327927      0.336336   \n",
       "A02500Scaled      0.004824      0.294192      0.258918      0.255977   \n",
       "A03220Scaled      0.470188      0.326023      0.039797      0.028770   \n",
       "A03300Scaled      0.079015      0.811609      0.456280      0.488300   \n",
       "A03270Scaled      0.205226      0.648460      0.425170      0.437304   \n",
       "A03150Scaled      0.395568      0.505807      0.196439      0.196898   \n",
       "A18500Scaled      0.112737      0.846428      0.649649      0.667137   \n",
       "A18800Scaled      0.155524      0.503472      0.177645      0.212305   \n",
       "A19300Scaled      0.159651      0.815447      0.356567      0.382325   \n",
       "A19700Scaled      0.046402      0.603247      0.770672      0.825573   \n",
       "A07100Scaled      0.122609      0.742773      0.742018      0.749796   \n",
       "A11900Scaled     -0.029844      0.540161      0.923493      0.945707   \n",
       "A03210Bonus       0.546177      0.298634      0.121503      0.121935   \n",
       "\n",
       "              A01750Scaled  A02500Scaled  A03220Scaled  A03300Scaled  \\\n",
       "A03210Scaled      0.061772      0.004824      0.470188      0.079015   \n",
       "A00200Scaled      0.368484      0.294192      0.326023      0.811609   \n",
       "A00300Scaled      0.327927      0.258918      0.039797      0.456280   \n",
       "A01000Scaled      0.336336      0.255977      0.028770      0.488300   \n",
       "A01750Scaled      1.000000      0.881345      0.199971      0.384065   \n",
       "A02500Scaled      0.881345      1.000000      0.099746      0.331234   \n",
       "A03220Scaled      0.199971      0.099746      1.000000      0.206886   \n",
       "A03300Scaled      0.384065      0.331234      0.206886      1.000000   \n",
       "A03270Scaled      0.433792      0.474867      0.280631      0.695610   \n",
       "A03150Scaled      0.365027      0.320292      0.531207      0.460941   \n",
       "A18500Scaled      0.504733      0.420139      0.306709      0.815101   \n",
       "A18800Scaled      0.318831      0.209398      0.284782      0.423082   \n",
       "A19300Scaled      0.491711      0.379732      0.368240      0.746153   \n",
       "A19700Scaled      0.330970      0.261000      0.100443      0.574005   \n",
       "A07100Scaled      0.279606      0.211085      0.197921      0.607815   \n",
       "A11900Scaled      0.278119      0.188742      0.038843      0.518121   \n",
       "A03210Bonus       0.207956      0.174436      0.294062      0.245543   \n",
       "\n",
       "              A03270Scaled  A03150Scaled  A18500Scaled  A18800Scaled  \\\n",
       "A03210Scaled      0.205226      0.395568      0.112737      0.155524   \n",
       "A00200Scaled      0.648460      0.505807      0.846428      0.503472   \n",
       "A00300Scaled      0.425170      0.196439      0.649649      0.177645   \n",
       "A01000Scaled      0.437304      0.196898      0.667137      0.212305   \n",
       "A01750Scaled      0.433792      0.365027      0.504733      0.318831   \n",
       "A02500Scaled      0.474867      0.320292      0.420139      0.209398   \n",
       "A03220Scaled      0.280631      0.531207      0.306709      0.284782   \n",
       "A03300Scaled      0.695610      0.460941      0.815101      0.423082   \n",
       "A03270Scaled      1.000000      0.599279      0.692576      0.405403   \n",
       "A03150Scaled      0.599279      1.000000      0.510126      0.419019   \n",
       "A18500Scaled      0.692576      0.510126      1.000000      0.463861   \n",
       "A18800Scaled      0.405403      0.419019      0.463861      1.000000   \n",
       "A19300Scaled      0.665514      0.600862      0.846238      0.684471   \n",
       "A19700Scaled      0.469612      0.261630      0.666719      0.315882   \n",
       "A07100Scaled      0.540244      0.328594      0.727561      0.348414   \n",
       "A11900Scaled      0.424367      0.167223      0.676544      0.202535   \n",
       "A03210Bonus       0.209256      0.319651      0.287588      0.180968   \n",
       "\n",
       "              A19300Scaled  A19700Scaled  A07100Scaled  A11900Scaled  \\\n",
       "A03210Scaled      0.159651      0.046402      0.122609     -0.029844   \n",
       "A00200Scaled      0.815447      0.603247      0.742773      0.540161   \n",
       "A00300Scaled      0.356567      0.770672      0.742018      0.923493   \n",
       "A01000Scaled      0.382325      0.825573      0.749796      0.945707   \n",
       "A01750Scaled      0.491711      0.330970      0.279606      0.278119   \n",
       "A02500Scaled      0.379732      0.261000      0.211085      0.188742   \n",
       "A03220Scaled      0.368240      0.100443      0.197921      0.038843   \n",
       "A03300Scaled      0.746153      0.574005      0.607815      0.518121   \n",
       "A03270Scaled      0.665514      0.469612      0.540244      0.424367   \n",
       "A03150Scaled      0.600862      0.261630      0.328594      0.167223   \n",
       "A18500Scaled      0.846238      0.666719      0.727561      0.676544   \n",
       "A18800Scaled      0.684471      0.315882      0.348414      0.202535   \n",
       "A19300Scaled      1.000000      0.467342      0.552349      0.377855   \n",
       "A19700Scaled      0.467342      1.000000      0.763526      0.836349   \n",
       "A07100Scaled      0.552349      0.763526      1.000000      0.784757   \n",
       "A11900Scaled      0.377855      0.836349      0.784757      1.000000   \n",
       "A03210Bonus       0.287304      0.135948      0.136669      0.096353   \n",
       "\n",
       "              A03210Bonus  \n",
       "A03210Scaled     0.546177  \n",
       "A00200Scaled     0.298634  \n",
       "A00300Scaled     0.121503  \n",
       "A01000Scaled     0.121935  \n",
       "A01750Scaled     0.207956  \n",
       "A02500Scaled     0.174436  \n",
       "A03220Scaled     0.294062  \n",
       "A03300Scaled     0.245543  \n",
       "A03270Scaled     0.209256  \n",
       "A03150Scaled     0.319651  \n",
       "A18500Scaled     0.287588  \n",
       "A18800Scaled     0.180968  \n",
       "A19300Scaled     0.287304  \n",
       "A19700Scaled     0.135948  \n",
       "A07100Scaled     0.136669  \n",
       "A11900Scaled     0.096353  \n",
       "A03210Bonus      1.000000  "
      ]
     },
     "execution_count": 50,
     "metadata": {},
     "output_type": "execute_result"
    }
   ],
   "source": [
    "# Check for multicollinearity between predictive variables.\n",
    "# Also check correlations to continuous targets.\n",
    "corrMatrixVars = list(df.columns)\n",
    "corrMatrixVars.remove('N02300ScaledBinary')\n",
    "corrMatrixVars.remove('N02300Scaled')\n",
    "\n",
    "df[corrMatrixVars].corr()"
   ]
  },
  {
   "cell_type": "code",
   "execution_count": 51,
   "metadata": {},
   "outputs": [
    {
     "name": "stdout",
     "output_type": "stream",
     "text": [
      "predictor is ['A00200Scaled', 'A00300Scaled', 'A01000Scaled', 'A01750Scaled', 'A02500Scaled', 'A03220Scaled', 'A03300Scaled', 'A03270Scaled', 'A03150Scaled', 'A18500Scaled', 'A18800Scaled', 'A19300Scaled', 'A19700Scaled', 'A07100Scaled', 'A11900Scaled'] and target is A03210Scaled\n",
      "Coefficients: \n",
      " [ 1.04131317e-03  1.66395476e-03  2.08726070e-03  1.58101131e-03\n",
      " -1.93608008e-02  3.27195197e+00 -4.47915085e-02  4.30575854e-02\n",
      "  1.92588548e-01 -2.78021581e-02  4.13161767e-01 -2.81789234e-03\n",
      "  5.09766395e-03 -4.53056402e-03 -1.57835275e-02]\n",
      "Mean squared error: 0.00\n",
      "Variance score: 0.62\n"
     ]
    },
    {
     "data": {
      "image/png": "[encoded data removed]",
      "text/plain": [
       "<Figure size 432x288 with 1 Axes>"
      ]
     },
     "metadata": {},
     "output_type": "display_data"
    },
    {
     "data": {
      "image/png": "[encoded data removed]",
      "text/plain": [
       "<Figure size 432x288 with 1 Axes>"
      ]
     },
     "metadata": {},
     "output_type": "display_data"
    },
    {
     "data": {
      "image/png": "[encoded data removed]",
      "text/plain": [
       "<Figure size 432x288 with 1 Axes>"
      ]
     },
     "metadata": {},
     "output_type": "display_data"
    },
    {
     "data": {
      "image/png": "[encoded data removed]",
      "text/plain": [
       "<Figure size 432x288 with 1 Axes>"
      ]
     },
     "metadata": {},
     "output_type": "display_data"
    },
    {
     "data": {
      "image/png": "[encoded data removed]",
      "text/plain": [
       "<Figure size 432x288 with 1 Axes>"
      ]
     },
     "metadata": {},
     "output_type": "display_data"
    },
    {
     "data": {
      "image/png": "[encoded data removed]",
      "text/plain": [
       "<Figure size 432x288 with 1 Axes>"
      ]
     },
     "metadata": {},
     "output_type": "display_data"
    },
    {
     "data": {
      "image/png": "[encoded data removed]",
      "text/plain": [
       "<Figure size 432x288 with 1 Axes>"
      ]
     },
     "metadata": {},
     "output_type": "display_data"
    },
    {
     "data": {
      "image/png": "[encoded data removed]",
      "text/plain": [
       "<Figure size 432x288 with 1 Axes>"
      ]
     },
     "metadata": {},
     "output_type": "display_data"
    },
    {
     "data": {
      "image/png": "[encoded data removed]",
      "text/plain": [
       "<Figure size 432x288 with 1 Axes>"
      ]
     },
     "metadata": {},
     "output_type": "display_data"
    },
    {
     "data": {
      "image/png": "[encoded data removed]",
      "text/plain": [
       "<Figure size 432x288 with 1 Axes>"
      ]
     },
     "metadata": {},
     "output_type": "display_data"
    },
    {
     "data": {
      "image/png": "[encoded data removed]",
      "text/plain": [
       "<Figure size 432x288 with 1 Axes>"
      ]
     },
     "metadata": {},
     "output_type": "display_data"
    },
    {
     "data": {
      "image/png": "[encoded data removed]",
      "text/plain": [
       "<Figure size 432x288 with 1 Axes>"
      ]
     },
     "metadata": {},
     "output_type": "display_data"
    },
    {
     "data": {
      "image/png": "[encoded data removed]",
      "text/plain": [
       "<Figure size 432x288 with 1 Axes>"
      ]
     },
     "metadata": {},
     "output_type": "display_data"
    },
    {
     "data": {
      "image/png": "[encoded data removed]",
      "text/plain": [
       "<Figure size 432x288 with 1 Axes>"
      ]
     },
     "metadata": {},
     "output_type": "display_data"
    },
    {
     "data": {
      "image/png": "[encoded data removed]",
      "text/plain": [
       "<Figure size 432x288 with 1 Axes>"
      ]
     },
     "metadata": {},
     "output_type": "display_data"
    }
   ],
   "source": [
    "from distutils.version import LooseVersion\n",
    "# Plot outputs\n",
    "# 'normed' is being deprecated in favor of `density` in histograms\n",
    "if LooseVersion(matplotlib.__version__) >= '2.1':\n",
    "    density_param = {'density': True}\n",
    "else:\n",
    "    density_param = {'normed': True}\n",
    "    \n",
    "#the number of observations that you will run your regression.\n",
    "numobs = 700\n",
    "# plot x （the ith predictor), y, y_pred, x_label, y_label \n",
    "def myPlot(predictors, target, x, y, y_pred):\n",
    "    for i in range(len(predictors)):\n",
    "        plt.figure(i)\n",
    "        #plt.hist(x, bins=10, range=(20., 80.), edgecolor='k', **density_param)\n",
    "#         print(x[:numobs,i].flatten().shape)\n",
    "#         print(x[:numobs,i].shape)\n",
    "#         print(y[:numobs].flatten().shape)\n",
    "#         print(y[:numobs].shape)\n",
    "        \n",
    "#         plt.scatter(x[:numobs,i].flatten(), y[:numobs].flatten(),  color='black')\n",
    "#         plt.plot(x[:numobs,i].flatten(), y_pred[:numobs].flatten(), color='blue', linewidth=3)\n",
    "#         #plt.scatter(x[5], y[5],  color='black')\n",
    "        plt.scatter(x[:numobs,i], y[:numobs],  color='black')\n",
    "        plt.plot(x[:numobs,i], y_pred[:numobs], color='blue', linewidth=3)\n",
    "        #plt.scatter(x[5], y[5],  color='black')\n",
    "        plt.xticks(())\n",
    "        plt.yticks(())\n",
    "        plt.xlabel(predictors[i])\n",
    "        plt.ylabel(target)\n",
    "        plt.title(\"Relation between %s and %s observations\" %(predictors[i], target)    )\n",
    "       \n",
    "        plt.show()\n",
    "        plt.close(i)\n",
    "    return\n",
    "\n",
    "# my prective model\n",
    "def myPredictiveModel(predictors, target):\n",
    "    print(\"predictor is %s and target is %s\" %(predictors, target))\n",
    "    x = df[predictors].head(numobs).values\n",
    "    y = df[target].head(numobs).values\n",
    "    \n",
    "    # first regression method using sklearn\n",
    "    # Create linear regression object\n",
    "    regr = linear_model.LinearRegression()\n",
    "    # Train the model\n",
    "    regrResult = regr.fit(x, y)\n",
    "    \n",
    "    # Make predictions\n",
    "    y_pred = regr.predict(x)\n",
    "\n",
    "    \n",
    "   \n",
    "    # The coefficients\n",
    "    print('Coefficients: \\n', regr.coef_)\n",
    "    # The mean squared error\n",
    "    print(\"Mean squared error: %.2f\"\n",
    "          % mean_squared_error(y, y_pred))\n",
    "    # Explained variance score: 1 is perfect prediction\n",
    "    print('Variance score: %.2f' % r2_score(y, y_pred))\n",
    "\n",
    "    # Plot outputs\n",
    "    #plt.scatter(x, y,  color='black')\n",
    "    #plt.plot(x, y_pred, color='blue', linewidth=3)\n",
    "       \n",
    "   \n",
    "   \n",
    "    myPlot(predictors, target, x, y, y_pred)\n",
    "\n",
    "# one predictor\n",
    "#myPredictiveModel([\"AGE\"], \"BILL_AMT1\")\n",
    "# three predictors\n",
    "myPredictiveModel(['A00200Scaled', 'A00300Scaled',\n",
    "       'A01000Scaled', 'A01750Scaled', 'A02500Scaled', 'A03220Scaled',\n",
    "       'A03300Scaled', 'A03270Scaled', 'A03150Scaled', 'A18500Scaled',\n",
    "       'A18800Scaled', 'A19300Scaled', 'A19700Scaled', 'A07100Scaled',\n",
    "       'A11900Scaled'], 'A03210Scaled')"
   ]
  },
  {
   "cell_type": "code",
   "execution_count": 52,
   "metadata": {},
   "outputs": [],
   "source": [
    "\n",
    "X = df[['A00200Scaled', 'A00300Scaled',\n",
    "       'A01000Scaled', 'A01750Scaled', 'A02500Scaled', 'A03220Scaled',\n",
    "       'A03300Scaled', 'A03270Scaled', 'A03150Scaled', 'A18500Scaled',\n",
    "       'A18800Scaled', 'A19300Scaled', 'A19700Scaled', 'A07100Scaled',\n",
    "       'A11900Scaled']]\n",
    "y =  df['N02300ScaledBinary']\n",
    "myPredictiveModel=(['A00200Scaled', 'A00300Scaled',\n",
    "       'A01000Scaled', 'A01750Scaled', 'A02500Scaled', 'A03220Scaled',\n",
    "       'A03300Scaled', 'A03270Scaled', 'A03150Scaled', 'A18500Scaled',\n",
    "       'A18800Scaled', 'A19300Scaled', 'A19700Scaled', 'A07100Scaled',\n",
    "       'A11900Scaled'], 'A03210Scaled')"
   ]
  },
  {
   "cell_type": "code",
   "execution_count": 53,
   "metadata": {},
   "outputs": [],
   "source": [
    "# split dataset into train and test\n",
    "from sklearn.model_selection import train_test_split\n",
    "X_train, X_test, y_train, y_test = train_test_split(X, y, test_size = 0.2, random_state= 5)"
   ]
  },
  {
   "cell_type": "code",
   "execution_count": 54,
   "metadata": {},
   "outputs": [],
   "source": [
    "# Feature scaling\n",
    "from sklearn.preprocessing import StandardScaler\n",
    "sc = StandardScaler()\n",
    "X_train_sc = sc.fit_transform(X_train)\n",
    "X_test_sc = sc.transform(X_test)"
   ]
  },
  {
   "cell_type": "code",
   "execution_count": 55,
   "metadata": {
    "scrolled": true
   },
   "outputs": [
    {
     "name": "stdout",
     "output_type": "stream",
     "text": [
      "[1 1 1 ... 0 1 0]\n",
      "binary\n",
      "binary\n",
      "binary\n"
     ]
    }
   ],
   "source": [
    "from sklearn import preprocessing\n",
    "from sklearn import utils\n",
    "\n",
    "lab_enc = preprocessing.LabelEncoder()\n",
    "training_scores_encoded = lab_enc.fit_transform(y)\n",
    "print(training_scores_encoded)\n",
    "print(utils.multiclass.type_of_target(y))\n",
    "print(utils.multiclass.type_of_target(y.astype('int')))\n",
    "print(utils.multiclass.type_of_target(training_scores_encoded))"
   ]
  },
  {
   "cell_type": "code",
   "execution_count": 56,
   "metadata": {},
   "outputs": [],
   "source": [
    "\n",
    "from sklearn.metrics import confusion_matrix, classification_report, accuracy_score"
   ]
  },
  {
   "cell_type": "code",
   "execution_count": 57,
   "metadata": {},
   "outputs": [
    {
     "data": {
      "text/plain": [
       "0.6182212581344902"
      ]
     },
     "execution_count": 57,
     "metadata": {},
     "output_type": "execute_result"
    }
   ],
   "source": [
    "# Support vector classifier\n",
    "from sklearn.svm import SVC\n",
    "svc_classifier = SVC()\n",
    "svc_classifier.fit(X_train, y_train)\n",
    "y_pred_scv = svc_classifier.predict(X_test)\n",
    "accuracy_score(y_test, y_pred_scv)"
   ]
  },
  {
   "cell_type": "code",
   "execution_count": 58,
   "metadata": {
    "scrolled": false
   },
   "outputs": [
    {
     "data": {
      "text/plain": [
       "0.6514822848879248"
      ]
     },
     "execution_count": 58,
     "metadata": {},
     "output_type": "execute_result"
    }
   ],
   "source": [
    "# K – Nearest Neighbor Classifier\n",
    "from sklearn.neighbors import KNeighborsClassifier\n",
    "knn_classifier = KNeighborsClassifier(n_neighbors = 5, metric = 'minkowski', p = 2)\n",
    "knn_classifier.fit(X_train, y_train)\n",
    "y_pred_knn = knn_classifier.predict(X_test)\n",
    "accuracy_score(y_test, y_pred_knn)"
   ]
  },
  {
   "cell_type": "code",
   "execution_count": 59,
   "metadata": {},
   "outputs": [],
   "source": [
    "import xgboost as xgb\n",
    "from xgboost import XGBClassifier"
   ]
  },
  {
   "cell_type": "code",
   "execution_count": 60,
   "metadata": {},
   "outputs": [],
   "source": [
    "# XGBoost classifier most required parameters\n",
    "params={\n",
    " \"learning_rate\"    : [0.05, 0.10, 0.15, 0.20, 0.25, 0.30 ] ,\n",
    " \"max_depth\"        : [ 3, 4, 5, 6, 8, 10, 12, 15],\n",
    " \"min_child_weight\" : [ 1, 3, 5, 7 ],\n",
    " \"gamma\"            : [ 0.0, 0.1, 0.2 , 0.3, 0.4 ],\n",
    " \"colsample_bytree\" : [ 0.3, 0.4, 0.5 , 0.7 ] \n",
    "}"
   ]
  },
  {
   "cell_type": "code",
   "execution_count": 61,
   "metadata": {
    "scrolled": true
   },
   "outputs": [
    {
     "name": "stderr",
     "output_type": "stream",
     "text": [
      "C:\\Users\\US\\anaconda3\\lib\\site-packages\\xgboost\\sklearn.py:1146: UserWarning: The use of label encoder in XGBClassifier is deprecated and will be removed in a future release. To remove this warning, do the following: 1) Pass option use_label_encoder=False when constructing XGBClassifier object; and 2) Encode your labels (y) as integers starting with 0, i.e. 0, 1, 2, ..., [num_class - 1].\n",
      "  warnings.warn(label_encoder_deprecation_msg, UserWarning)\n"
     ]
    },
    {
     "name": "stdout",
     "output_type": "stream",
     "text": [
      "[13:16:27] WARNING: C:/Users/Administrator/workspace/xgboost-win64_release_1.4.0/src/learner.cc:1095: Starting in XGBoost 1.3.0, the default evaluation metric used with the objective 'binary:logistic' was changed from 'error' to 'logloss'. Explicitly set eval_metric if you'd like to restore the old behavior.\n"
     ]
    },
    {
     "data": {
      "text/plain": [
       "0.7481923355025307"
      ]
     },
     "execution_count": 61,
     "metadata": {},
     "output_type": "execute_result"
    }
   ],
   "source": [
    "# XGBoost Classifier\n",
    "from xgboost import XGBClassifier\n",
    "xgb_classifier = XGBClassifier()\n",
    "xgb_classifier.fit(X_train, y_train)\n",
    "y_pred_xgb = xgb_classifier.predict(X_test)\n",
    "accuracy_score(y_test, y_pred_xgb)"
   ]
  },
  {
   "cell_type": "code",
   "execution_count": 62,
   "metadata": {},
   "outputs": [
    {
     "name": "stderr",
     "output_type": "stream",
     "text": [
      "C:\\Users\\US\\anaconda3\\lib\\site-packages\\xgboost\\sklearn.py:1146: UserWarning: The use of label encoder in XGBClassifier is deprecated and will be removed in a future release. To remove this warning, do the following: 1) Pass option use_label_encoder=False when constructing XGBClassifier object; and 2) Encode your labels (y) as integers starting with 0, i.e. 0, 1, 2, ..., [num_class - 1].\n",
      "  warnings.warn(label_encoder_deprecation_msg, UserWarning)\n"
     ]
    },
    {
     "name": "stdout",
     "output_type": "stream",
     "text": [
      "[13:16:32] WARNING: C:/Users/Administrator/workspace/xgboost-win64_release_1.4.0/src/learner.cc:1095: Starting in XGBoost 1.3.0, the default evaluation metric used with the objective 'binary:logistic' was changed from 'error' to 'logloss'. Explicitly set eval_metric if you'd like to restore the old behavior.\n"
     ]
    },
    {
     "data": {
      "text/plain": [
       "0.7481923355025307"
      ]
     },
     "execution_count": 62,
     "metadata": {},
     "output_type": "execute_result"
    }
   ],
   "source": [
    "# Train with Standard scaled Data\n",
    "xgb_classifier2 = XGBClassifier()\n",
    "xgb_classifier2.fit(X_train_sc, y_train)\n",
    "y_pred_xgb_sc = xgb_classifier2.predict(X_test_sc)\n",
    "accuracy_score(y_test, y_pred_xgb_sc)"
   ]
  },
  {
   "cell_type": "code",
   "execution_count": 63,
   "metadata": {
    "scrolled": false
   },
   "outputs": [
    {
     "name": "stdout",
     "output_type": "stream",
     "text": [
      "Fitting 5 folds for each of 10 candidates, totalling 50 fits\n"
     ]
    },
    {
     "name": "stderr",
     "output_type": "stream",
     "text": [
      "C:\\Users\\US\\anaconda3\\lib\\site-packages\\xgboost\\sklearn.py:1146: UserWarning: The use of label encoder in XGBClassifier is deprecated and will be removed in a future release. To remove this warning, do the following: 1) Pass option use_label_encoder=False when constructing XGBClassifier object; and 2) Encode your labels (y) as integers starting with 0, i.e. 0, 1, 2, ..., [num_class - 1].\n",
      "  warnings.warn(label_encoder_deprecation_msg, UserWarning)\n"
     ]
    },
    {
     "name": "stdout",
     "output_type": "stream",
     "text": [
      "[13:18:39] WARNING: C:/Users/Administrator/workspace/xgboost-win64_release_1.4.0/src/learner.cc:1095: Starting in XGBoost 1.3.0, the default evaluation metric used with the objective 'binary:logistic' was changed from 'error' to 'logloss'. Explicitly set eval_metric if you'd like to restore the old behavior.\n"
     ]
    },
    {
     "data": {
      "text/plain": [
       "RandomizedSearchCV(estimator=XGBClassifier(base_score=0.5, booster='gbtree',\n",
       "                                           colsample_bylevel=1,\n",
       "                                           colsample_bynode=1,\n",
       "                                           colsample_bytree=1, gamma=0,\n",
       "                                           gpu_id=-1, importance_type='gain',\n",
       "                                           interaction_constraints='',\n",
       "                                           learning_rate=0.300000012,\n",
       "                                           max_delta_step=0, max_depth=6,\n",
       "                                           min_child_weight=1, missing=nan,\n",
       "                                           monotone_constraints='()',\n",
       "                                           n_estimators=100, n_jobs=4,\n",
       "                                           num_paralle...0,\n",
       "                                           reg_alpha=0, reg_lambda=1,\n",
       "                                           scale_pos_weight=1, subsample=1,\n",
       "                                           tree_method='exact',\n",
       "                                           validate_parameters=1,\n",
       "                                           verbosity=None),\n",
       "                   n_jobs=-1,\n",
       "                   param_distributions={'colsample_bytree': [0.3, 0.4, 0.5,\n",
       "                                                             0.7],\n",
       "                                        'gamma': [0.0, 0.1, 0.2, 0.3, 0.4],\n",
       "                                        'learning_rate': [0.05, 0.1, 0.15, 0.2,\n",
       "                                                          0.25, 0.3],\n",
       "                                        'max_depth': [3, 4, 5, 6, 8, 10, 12,\n",
       "                                                      15],\n",
       "                                        'min_child_weight': [1, 3, 5, 7]},\n",
       "                   scoring='roc_auc', verbose=3)"
      ]
     },
     "execution_count": 63,
     "metadata": {},
     "output_type": "execute_result"
    }
   ],
   "source": [
    "\n",
    "# Randomized Search\n",
    "from sklearn.model_selection import RandomizedSearchCV\n",
    "random_search = RandomizedSearchCV(xgb_classifier, param_distributions=params, scoring= 'roc_auc', n_jobs= -1, verbose= 3)\n",
    "random_search.fit(X_train, y_train)"
   ]
  },
  {
   "cell_type": "code",
   "execution_count": 64,
   "metadata": {
    "scrolled": true
   },
   "outputs": [
    {
     "data": {
      "text/plain": [
       "{'min_child_weight': 1,\n",
       " 'max_depth': 15,\n",
       " 'learning_rate': 0.1,\n",
       " 'gamma': 0.2,\n",
       " 'colsample_bytree': 0.7}"
      ]
     },
     "execution_count": 64,
     "metadata": {},
     "output_type": "execute_result"
    }
   ],
   "source": [
    "random_search.best_params_"
   ]
  },
  {
   "cell_type": "code",
   "execution_count": 65,
   "metadata": {},
   "outputs": [
    {
     "data": {
      "text/plain": [
       "XGBClassifier(base_score=0.5, booster='gbtree', colsample_bylevel=1,\n",
       "              colsample_bynode=1, colsample_bytree=0.7, gamma=0.2, gpu_id=-1,\n",
       "              importance_type='gain', interaction_constraints='',\n",
       "              learning_rate=0.1, max_delta_step=0, max_depth=15,\n",
       "              min_child_weight=1, missing=nan, monotone_constraints='()',\n",
       "              n_estimators=100, n_jobs=4, num_parallel_tree=1, random_state=0,\n",
       "              reg_alpha=0, reg_lambda=1, scale_pos_weight=1, subsample=1,\n",
       "              tree_method='exact', validate_parameters=1, verbosity=None)"
      ]
     },
     "execution_count": 65,
     "metadata": {},
     "output_type": "execute_result"
    }
   ],
   "source": [
    "random_search.best_estimator_"
   ]
  },
  {
   "cell_type": "code",
   "execution_count": 66,
   "metadata": {
    "scrolled": true
   },
   "outputs": [],
   "source": [
    "import sklearn_crfsuite\n",
    "from sklearn.model_selection import RandomizedSearchCV"
   ]
  },
  {
   "cell_type": "code",
   "execution_count": 67,
   "metadata": {},
   "outputs": [
    {
     "name": "stdout",
     "output_type": "stream",
     "text": [
      "[13:18:50] WARNING: C:/Users/Administrator/workspace/xgboost-win64_release_1.4.0/src/learner.cc:1095: Starting in XGBoost 1.3.0, the default evaluation metric used with the objective 'binary:logistic' was changed from 'error' to 'logloss'. Explicitly set eval_metric if you'd like to restore the old behavior.\n"
     ]
    }
   ],
   "source": [
    "# training XGBoost classifier with best parameters\n",
    "xgb_classifier_pt = XGBClassifier(base_score=0.5, booster='gbtree', colsample_bylevel=1,\n",
    "       colsample_bynode=1, colsample_bytree=0.4, gamma=0.2,\n",
    "       learning_rate=0.1, max_delta_step=0, max_depth=15,\n",
    "       min_child_weight=1, missing=1, n_estimators=100, n_jobs=1,\n",
    "       nthread=None, objective='binary:logistic', random_state=0,\n",
    "       reg_alpha=0, reg_lambda=1, scale_pos_weight=1, seed=None,\n",
    "       silent=None, subsample=1, verbosity=1)\n",
    " \n",
    "xgb_classifier_pt.fit(X_train, y_train)\n",
    "y_pred_xgb_pt = xgb_classifier_pt.predict(X_test)"
   ]
  },
  {
   "cell_type": "code",
   "execution_count": 68,
   "metadata": {
    "scrolled": false
   },
   "outputs": [
    {
     "data": {
      "image/png": "[encoded data removed]",
      "text/plain": [
       "<Figure size 432x288 with 2 Axes>"
      ]
     },
     "metadata": {
      "needs_background": "light"
     },
     "output_type": "display_data"
    }
   ],
   "source": [
    "import seaborn as sns\n",
    "cm = confusion_matrix(y_test, y_pred_xgb_pt)\n",
    "plt.title('Heatmap of Confusion Matrix', fontsize = 15)\n",
    "sns.heatmap(cm, annot = True)\n",
    "plt.show()"
   ]
  },
  {
   "cell_type": "code",
   "execution_count": 69,
   "metadata": {
    "scrolled": true
   },
   "outputs": [
    {
     "name": "stdout",
     "output_type": "stream",
     "text": [
      "              precision    recall  f1-score   support\n",
      "\n",
      "           0       0.75      0.81      0.78      2978\n",
      "           1       0.75      0.69      0.72      2554\n",
      "\n",
      "    accuracy                           0.75      5532\n",
      "   macro avg       0.75      0.75      0.75      5532\n",
      "weighted avg       0.75      0.75      0.75      5532\n",
      "\n"
     ]
    }
   ],
   "source": [
    "print(classification_report(y_test, y_pred_xgb_pt))"
   ]
  },
  {
   "cell_type": "markdown",
   "metadata": {},
   "source": [
    "# Random Forest"
   ]
  },
  {
   "cell_type": "code",
   "execution_count": 70,
   "metadata": {},
   "outputs": [
    {
     "data": {
      "text/plain": [
       "RandomForestClassifier()"
      ]
     },
     "execution_count": 70,
     "metadata": {},
     "output_type": "execute_result"
    }
   ],
   "source": [
    "#make the imports\n",
    "from sklearn.ensemble import RandomForestClassifier\n",
    "from sklearn.model_selection import train_test_split\n",
    "from sklearn.metrics import confusion_matrix, classification_report\n",
    "\n",
    "#doing the train test split (80% training data and 20% test data)\n",
    "X_train, X_test, y_train, y_test = train_test_split(X, y, test_size=0.20, random_state=101)\n",
    " \n",
    "#fit the data to default Random Forest classifier.\n",
    "rfc = RandomForestClassifier()\n",
    "rfc.fit(X_train,y_train)"
   ]
  },
  {
   "cell_type": "code",
   "execution_count": 72,
   "metadata": {},
   "outputs": [
    {
     "data": {
      "text/plain": [
       "RandomForestClassifier()"
      ]
     },
     "execution_count": 72,
     "metadata": {},
     "output_type": "execute_result"
    }
   ],
   "source": [
    "#make the imports\n",
    "from sklearn.ensemble import RandomForestClassifier\n",
    "from sklearn.model_selection import train_test_split\n",
    "from sklearn.metrics import confusion_matrix, classification_report\n",
    "\n",
    "#doing the train test split (80% training data and 20% test data)\n",
    "X_train, X_test, y_train, y_test = train_test_split(X, y, test_size=0.20, random_state=101)\n",
    " \n",
    "#fit the data to default Random Forest classifier.\n",
    "rfc = RandomForestClassifier()\n",
    "rfc.fit(X_train,y_train)\n",
    " "
   ]
  },
  {
   "cell_type": "code",
   "execution_count": 73,
   "metadata": {
    "scrolled": true
   },
   "outputs": [
    {
     "name": "stdout",
     "output_type": "stream",
     "text": [
      "Precision Score: 0.7631247375052499\n",
      "\n",
      "Recall Score: 0.713668499607227\n",
      "\n",
      "Accuracy Score: 0.7662689804772235\n",
      "\n"
     ]
    },
    {
     "data": {
      "image/png": "[encoded data removed]",
      "text/plain": [
       "<Figure size 576x432 with 2 Axes>"
      ]
     },
     "metadata": {
      "needs_background": "light"
     },
     "output_type": "display_data"
    }
   ],
   "source": [
    "#get the predictions\n",
    "pred_Random_Forest = rfc.predict(X_test)\n",
    " \n",
    "#function for plotting confusion matrix\n",
    "import itertools\n",
    "\n",
    "def plot_confusion_matrix(cm, classes,\n",
    "                          normalize=False,\n",
    "                          title='Confusion matrix',\n",
    "                          cmap=plt.cm.coolwarm):\n",
    "    \n",
    "    plt.imshow(cm, interpolation='nearest', cmap=cmap)\n",
    "    plt.title(title, fontsize = 20)\n",
    "    plt.colorbar()\n",
    "    tick_marks = np.arange(len(classes))\n",
    "    plt.xticks(tick_marks, classes, rotation=0, fontsize = 20)\n",
    "    plt.yticks(tick_marks, classes, fontsize = 20)\n",
    "\n",
    "    if normalize:\n",
    "        cm = cm.astype('float') / cm.sum(axis=1)[:, np.newaxis]\n",
    "        #print(\"Normalized confusion matrix\")\n",
    "    else:\n",
    "        1#print('Confusion matrix, without normalization')\n",
    "        #print(cm)\n",
    "\n",
    "    thresh = cm.max() / 2.\n",
    "    for i, j in itertools.product(range(cm.shape[0]), range(cm.shape[1])):\n",
    "        plt.text(j, i, cm[i, j],\n",
    "                 horizontalalignment=\"center\",\n",
    "                 color=\"white\" if cm[i, j] > thresh else \"black\",\n",
    "                 fontsize=25)\n",
    "\n",
    "    plt.tight_layout()\n",
    "    plt.ylabel('True label', fontsize = 20)\n",
    "    plt.xlabel('Predicted label', fontsize = 20) \n",
    " \n",
    "#confusion matrix\n",
    "cnf_matrix = confusion_matrix(y_test,pred_Random_Forest)\n",
    "np.set_printoptions(precision=2)\n",
    "#print the precision, recall , accuracy and confusion matrix\n",
    "\n",
    "from sklearn.metrics import precision_score, recall_score, accuracy_score\n",
    "\n",
    "print('Precision Score: {}\\n'.format(precision_score(y_test,pred_Random_Forest)))\n",
    "print('Recall Score: {}\\n'.format(recall_score(y_test,pred_Random_Forest)))\n",
    "print('Accuracy Score: {}\\n'.format(accuracy_score(y_test,pred_Random_Forest)))\n",
    "\n",
    "# Plot non-normalized confusion matrix\n",
    "class_names = [0,1]\n",
    "plt.figure(figsize = (8,6))\n",
    "plot_confusion_matrix(cnf_matrix\n",
    "                      , classes=class_names\n",
    "                      , title='CONF MATRIX')\n",
    "plt.show()"
   ]
  },
  {
   "cell_type": "markdown",
   "metadata": {},
   "source": [
    "# Grid Search CV"
   ]
  },
  {
   "cell_type": "code",
   "execution_count": 74,
   "metadata": {},
   "outputs": [
    {
     "name": "stdout",
     "output_type": "stream",
     "text": [
      "Fitting 3 folds for each of 9 candidates, totalling 27 fits\n"
     ]
    },
    {
     "data": {
      "text/plain": [
       "GridSearchCV(cv=KFold(n_splits=3, random_state=42, shuffle=True),\n",
       "             estimator=RandomForestClassifier(), n_jobs=-1,\n",
       "             param_grid={'max_depth': [8, 10, 12],\n",
       "                         'min_samples_leaf': range(100, 200, 300),\n",
       "                         'min_samples_split': range(200, 300, 400),\n",
       "                         'n_estimators': [50, 100, 200]},\n",
       "             verbose=1)"
      ]
     },
     "execution_count": 74,
     "metadata": {},
     "output_type": "execute_result"
    }
   ],
   "source": [
    "# import and instantiate the grid search cv\n",
    "from sklearn.model_selection import GridSearchCV\n",
    "from sklearn.model_selection import KFold\n",
    "\n",
    "fold = KFold(n_splits= 3, shuffle= True, random_state= 42)\n",
    "\n",
    "param_grid = {\n",
    "    'max_depth': [8,10,12],\n",
    "    'min_samples_leaf': range(100, 200, 300),\n",
    "    'min_samples_split': range(200, 300, 400),\n",
    "    'n_estimators': [50,100,200]\n",
    "}\n",
    "# Create a base model\n",
    "rf = RandomForestClassifier()\n",
    "# Instantiate the grid search model\n",
    "grid_search = GridSearchCV(estimator = rf, param_grid = param_grid, \n",
    "                          cv = fold, n_jobs = -1,verbose = 1)\n",
    " \n",
    "#fit the grid (will take some time)\n",
    "grid_search.fit(X_train, y_train)"
   ]
  },
  {
   "cell_type": "code",
   "execution_count": 76,
   "metadata": {},
   "outputs": [
    {
     "name": "stdout",
     "output_type": "stream",
     "text": [
      "We can get accuracy of 0.7167585695552532 using {'max_depth': 12, 'min_samples_leaf': 100, 'min_samples_split': 200, 'n_estimators': 200}\n"
     ]
    },
    {
     "data": {
      "text/plain": [
       "RandomForestClassifier(max_depth=12, min_samples_leaf=100,\n",
       "                       min_samples_split=200, n_estimators=50)"
      ]
     },
     "execution_count": 76,
     "metadata": {},
     "output_type": "execute_result"
    }
   ],
   "source": [
    "# printing the optimal accuracy score and hyperparameters\n",
    "print('We can get accuracy of',grid_search.best_score_,'using',grid_search.best_params_)\n",
    "#We can get accuracy of 0.9990212644560995 using {'max_depth': 12, 'min_samples_leaf': 100, 'min_samples_split': 200, 'n_estimators': 100}\n",
    "#lets predict with these parameters\n",
    "\n",
    "random_final = RandomForestClassifier(bootstrap= True, \n",
    "                                      max_depth=12,\n",
    "                                      min_samples_leaf=100, \n",
    "                                      min_samples_split=200,\n",
    "                                      n_estimators=50)\n",
    "\n",
    "random_final.fit(X_train,y_train)"
   ]
  },
  {
   "cell_type": "code",
   "execution_count": 77,
   "metadata": {},
   "outputs": [
    {
     "name": "stdout",
     "output_type": "stream",
     "text": [
      "Precision Score: 0.731390134529148\n",
      "\n",
      "Recall Score: 0.6406127258444619\n",
      "\n",
      "Accuracy Score: 0.7263195950831526\n",
      "\n"
     ]
    },
    {
     "data": {
      "image/png": "[encoded data removed]",
      "text/plain": [
       "<Figure size 576x432 with 2 Axes>"
      ]
     },
     "metadata": {
      "needs_background": "light"
     },
     "output_type": "display_data"
    }
   ],
   "source": [
    "#make predictions with this model\n",
    "pred_3 = random_final.predict(X_test)\n",
    " \n",
    "#confusion matrix\n",
    "conf_matt = confusion_matrix(y_test,pred_3)\n",
    "#print the precision, recall , accuracy and confusion matrix\n",
    "\n",
    "print('Precision Score: {}\\n'.format(precision_score(y_test,pred_3)))\n",
    "print('Recall Score: {}\\n'.format(recall_score(y_test,pred_3)))\n",
    "print('Accuracy Score: {}\\n'.format(accuracy_score(y_test,pred_3)))\n",
    "\n",
    "# Plot non-normalized confusion matrix\n",
    "class_names = [0,1]\n",
    "plt.figure(figsize = (8,6))\n",
    "plot_confusion_matrix(conf_matt\n",
    "                      , classes=class_names\n",
    "                      , title='CONF MATRIX')\n",
    "plt.show()\n",
    " \n"
   ]
  },
  {
   "cell_type": "markdown",
   "metadata": {},
   "source": [
    "# Logistic Regression"
   ]
  },
  {
   "cell_type": "code",
   "execution_count": 78,
   "metadata": {},
   "outputs": [
    {
     "name": "stderr",
     "output_type": "stream",
     "text": [
      "C:\\Users\\US\\anaconda3\\lib\\site-packages\\sklearn\\linear_model\\_logistic.py:763: ConvergenceWarning: lbfgs failed to converge (status=1):\n",
      "STOP: TOTAL NO. of ITERATIONS REACHED LIMIT.\n",
      "\n",
      "Increase the number of iterations (max_iter) or scale the data as shown in:\n",
      "    https://scikit-learn.org/stable/modules/preprocessing.html\n",
      "Please also refer to the documentation for alternative solver options:\n",
      "    https://scikit-learn.org/stable/modules/linear_model.html#logistic-regression\n",
      "  n_iter_i = _check_optimize_result(\n"
     ]
    },
    {
     "name": "stdout",
     "output_type": "stream",
     "text": [
      "Precision Score: 0.683625730994152\n",
      "\n",
      "Recall Score: 0.4591516103692066\n",
      "\n",
      "Accuracy Score: 0.6532899493853941\n",
      "\n"
     ]
    },
    {
     "data": {
      "image/png": "[encoded data removed]",
      "text/plain": [
       "<Figure size 576x432 with 2 Axes>"
      ]
     },
     "metadata": {
      "needs_background": "light"
     },
     "output_type": "display_data"
    }
   ],
   "source": [
    "#lets use logistic regression model\n",
    "\n",
    "from sklearn.linear_model import LogisticRegression\n",
    "\n",
    "#after multiple runs below parameters seem to give the best restult. \n",
    "\n",
    "log_reg = LogisticRegression(C = 0.01, penalty= 'l2')\n",
    "\n",
    "log_reg.fit(X_train,y_train)\n",
    "\n",
    "pred_log_reg = log_reg.predict(X_test)\n",
    "\n",
    "conf_mat = confusion_matrix(y_test,pred_log_reg)\n",
    "\n",
    "\n",
    "#print the precision, recall , accuracy and confusion matrix\n",
    "\n",
    "print('Precision Score: {}\\n'.format(precision_score(y_test,pred_log_reg)))\n",
    "print('Recall Score: {}\\n'.format(recall_score(y_test,pred_log_reg)))\n",
    "print('Accuracy Score: {}\\n'.format(accuracy_score(y_test,pred_log_reg)))\n",
    "\n",
    "# Plot non-normalized confusion matrix\n",
    "class_names = [0,1]\n",
    "plt.figure(figsize = (8,6))\n",
    "plot_confusion_matrix(conf_mat\n",
    "                      , classes=class_names\n",
    "                      , title='CONF MATRIX')\n",
    "plt.show()"
   ]
  },
  {
   "cell_type": "markdown",
   "metadata": {},
   "source": [
    "# XGBoost"
   ]
  },
  {
   "cell_type": "code",
   "execution_count": 79,
   "metadata": {},
   "outputs": [
    {
     "name": "stderr",
     "output_type": "stream",
     "text": [
      "C:\\Users\\US\\anaconda3\\lib\\site-packages\\xgboost\\sklearn.py:1146: UserWarning: The use of label encoder in XGBClassifier is deprecated and will be removed in a future release. To remove this warning, do the following: 1) Pass option use_label_encoder=False when constructing XGBClassifier object; and 2) Encode your labels (y) as integers starting with 0, i.e. 0, 1, 2, ..., [num_class - 1].\n",
      "  warnings.warn(label_encoder_deprecation_msg, UserWarning)\n"
     ]
    },
    {
     "name": "stdout",
     "output_type": "stream",
     "text": [
      "[13:21:48] WARNING: C:/Users/Administrator/workspace/xgboost-win64_release_1.4.0/src/learner.cc:1095: Starting in XGBoost 1.3.0, the default evaluation metric used with the objective 'binary:logistic' was changed from 'error' to 'logloss'. Explicitly set eval_metric if you'd like to restore the old behavior.\n",
      "Precision Score: 0.7446893787575151\n",
      "\n",
      "Recall Score: 0.7297721916732128\n",
      "\n",
      "Accuracy Score: 0.7604844540853217\n",
      "\n"
     ]
    },
    {
     "data": {
      "image/png": "[encoded data removed]",
      "text/plain": [
       "<Figure size 576x432 with 2 Axes>"
      ]
     },
     "metadata": {
      "needs_background": "light"
     },
     "output_type": "display_data"
    }
   ],
   "source": [
    "#making the imports\n",
    "import xgboost as xgb\n",
    "from xgboost import XGBClassifier\n",
    "from xgboost import plot_importance\n",
    "\n",
    "#try xgboost with default parameters\n",
    "xgb_model = XGBClassifier()\n",
    "xgb_model.fit(X_train,y_train)\n",
    "xgb_pred = xgb_model.predict(X_test)\n",
    "\n",
    "conf_mat = confusion_matrix(y_test,xgb_pred)\n",
    "\n",
    "#print the precision, recall , accuracy and confusion matrix\n",
    "print('Precision Score: {}\\n'.format(precision_score(y_test,xgb_pred)))\n",
    "print('Recall Score: {}\\n'.format(recall_score(y_test,xgb_pred)))\n",
    "print('Accuracy Score: {}\\n'.format(accuracy_score(y_test,xgb_pred)))\n",
    "\n",
    "# Plot non-normalized confusion matrix\n",
    "class_names = [0,1]\n",
    "plt.figure(figsize = (8,6))\n",
    "plot_confusion_matrix(conf_mat\n",
    "                      , classes=class_names\n",
    "                      , title='CONF MATRIX')\n",
    "plt.show()"
   ]
  },
  {
   "cell_type": "markdown",
   "metadata": {},
   "source": [
    "# Hyper Parameter tuning for Xgboost"
   ]
  },
  {
   "cell_type": "code",
   "execution_count": 80,
   "metadata": {},
   "outputs": [
    {
     "name": "stdout",
     "output_type": "stream",
     "text": [
      "Fitting 3 folds for each of 9 candidates, totalling 27 fits\n"
     ]
    },
    {
     "name": "stderr",
     "output_type": "stream",
     "text": [
      "C:\\Users\\US\\anaconda3\\lib\\site-packages\\xgboost\\sklearn.py:1146: UserWarning: The use of label encoder in XGBClassifier is deprecated and will be removed in a future release. To remove this warning, do the following: 1) Pass option use_label_encoder=False when constructing XGBClassifier object; and 2) Encode your labels (y) as integers starting with 0, i.e. 0, 1, 2, ..., [num_class - 1].\n",
      "  warnings.warn(label_encoder_deprecation_msg, UserWarning)\n"
     ]
    },
    {
     "name": "stdout",
     "output_type": "stream",
     "text": [
      "[13:22:45] WARNING: C:/Users/Administrator/workspace/xgboost-win64_release_1.4.0/src/learner.cc:1095: Starting in XGBoost 1.3.0, the default evaluation metric used with the objective 'binary:logistic' was changed from 'error' to 'logloss'. Explicitly set eval_metric if you'd like to restore the old behavior.\n"
     ]
    },
    {
     "data": {
      "text/plain": [
       "GridSearchCV(cv=KFold(n_splits=3, random_state=101, shuffle=True),\n",
       "             estimator=XGBClassifier(base_score=None, booster=None,\n",
       "                                     colsample_bylevel=None,\n",
       "                                     colsample_bynode=None,\n",
       "                                     colsample_bytree=None, gamma=None,\n",
       "                                     gpu_id=None, importance_type='gain',\n",
       "                                     interaction_constraints=None,\n",
       "                                     learning_rate=None, max_delta_step=None,\n",
       "                                     max_depth=2, min_child_weight=None,\n",
       "                                     missing=nan, monotone_constraints=None,\n",
       "                                     n_estimators=200, n_jobs=None,\n",
       "                                     num_parallel_tree=None, random_state=None,\n",
       "                                     reg_alpha=None, reg_lambda=None,\n",
       "                                     scale_pos_weight=None, subsample=None,\n",
       "                                     tree_method=None, validate_parameters=None,\n",
       "                                     verbosity=None),\n",
       "             n_jobs=-1,\n",
       "             param_grid={'learning_rate': [0.1, 0.2, 0.6],\n",
       "                         'subsample': [0.3, 0.6, 0.9]},\n",
       "             return_train_score=True, scoring='roc_auc', verbose=1)"
      ]
     },
     "execution_count": 80,
     "metadata": {},
     "output_type": "execute_result"
    }
   ],
   "source": [
    "# hyperparameter tuning with XGBoost (will take some time to run)\n",
    "\n",
    "# creating a KFold object \n",
    "folds = KFold(n_splits= 3, shuffle= True, random_state= 101)\n",
    "\n",
    "# specify range of hyperparameters\n",
    "param_grid = {'learning_rate': [0.1,0.2, 0.6], \n",
    "             'subsample': [0.3, 0.6, 0.9]}          \n",
    "\n",
    "\n",
    "# specify model\n",
    "xgb_model = XGBClassifier(max_depth=2, n_estimators=200)\n",
    "\n",
    "# set up GridSearchCV()\n",
    "model_cv = GridSearchCV(estimator = xgb_model, \n",
    "                        param_grid = param_grid, \n",
    "                        scoring= 'roc_auc', \n",
    "                        cv = folds, \n",
    "                        verbose = 1,\n",
    "                        return_train_score=True, \n",
    "                       n_jobs= -1)\n",
    "#fit the model\n",
    "model_cv.fit(X_train,y_train)"
   ]
  },
  {
   "cell_type": "code",
   "execution_count": 81,
   "metadata": {},
   "outputs": [
    {
     "name": "stdout",
     "output_type": "stream",
     "text": [
      "We can get accuracy of 0.8246585330892856 using {'learning_rate': 0.6, 'subsample': 0.9}\n"
     ]
    }
   ],
   "source": [
    "# printing the optimal accuracy score and hyperparameters\n",
    "print('We can get accuracy of',model_cv.best_score_,'using',model_cv.best_params_)"
   ]
  },
  {
   "cell_type": "code",
   "execution_count": 82,
   "metadata": {},
   "outputs": [
    {
     "name": "stdout",
     "output_type": "stream",
     "text": [
      "[13:22:49] WARNING: C:/Users/Administrator/workspace/xgboost-win64_release_1.4.0/src/learner.cc:1095: Starting in XGBoost 1.3.0, the default evaluation metric used with the objective 'binary:logistic' was changed from 'error' to 'logloss'. Explicitly set eval_metric if you'd like to restore the old behavior.\n"
     ]
    },
    {
     "name": "stderr",
     "output_type": "stream",
     "text": [
      "C:\\Users\\US\\anaconda3\\lib\\site-packages\\xgboost\\sklearn.py:1146: UserWarning: The use of label encoder in XGBClassifier is deprecated and will be removed in a future release. To remove this warning, do the following: 1) Pass option use_label_encoder=False when constructing XGBClassifier object; and 2) Encode your labels (y) as integers starting with 0, i.e. 0, 1, 2, ..., [num_class - 1].\n",
      "  warnings.warn(label_encoder_deprecation_msg, UserWarning)\n"
     ]
    },
    {
     "name": "stdout",
     "output_type": "stream",
     "text": [
      "Precision Score: 0.7189487070792708\n",
      "\n",
      "Recall Score: 0.6661429693637078\n",
      "\n",
      "Accuracy Score: 0.7265003615328995\n",
      "\n"
     ]
    },
    {
     "data": {
      "image/png": "[encoded data removed]",
      "text/plain": [
       "<Figure size 576x432 with 2 Axes>"
      ]
     },
     "metadata": {
      "needs_background": "light"
     },
     "output_type": "display_data"
    }
   ],
   "source": [
    "#lets use model with these parameters\n",
    "xgb_model_2 = XGBClassifier(max_depth=2, n_estimators=200, learning_rate= 0.1, subsample= 0.6)\n",
    " \n",
    "#lets make predictions using this model\n",
    "xgb_model_2.fit(X_train,y_train)\n",
    "\n",
    "xgb_pred = xgb_model_2.predict(X_test)\n",
    "\n",
    "conf_mat = confusion_matrix(y_test,xgb_pred)\n",
    "\n",
    "\n",
    "#print the precision, recall , accuracy and confusion matrix\n",
    "\n",
    "print('Precision Score: {}\\n'.format(precision_score(y_test,xgb_pred)))\n",
    "print('Recall Score: {}\\n'.format(recall_score(y_test,xgb_pred)))\n",
    "print('Accuracy Score: {}\\n'.format(accuracy_score(y_test,xgb_pred)))\n",
    "\n",
    "# Plot non-normalized confusion matrix\n",
    "class_names = [0,1]\n",
    "plt.figure(figsize = (8,6))\n",
    "plot_confusion_matrix(conf_mat\n",
    "                      , classes=class_names\n",
    "                      , title='CONF MATRIX')\n",
    "plt.show()"
   ]
  },
  {
   "cell_type": "code",
   "execution_count": null,
   "metadata": {},
   "outputs": [],
   "source": []
  }
 ],
 "metadata": {
  "kernelspec": {
   "display_name": "Python 3",
   "language": "python",
   "name": "python3"
  },
  "language_info": {
   "codemirror_mode": {
    "name": "ipython",
    "version": 3
   },
   "file_extension": ".py",
   "mimetype": "text/x-python",
   "name": "python",
   "nbconvert_exporter": "python",
   "pygments_lexer": "ipython3",
   "version": "3.8.8"
  }
 },
 "nbformat": 4,
 "nbformat_minor": 2
}
