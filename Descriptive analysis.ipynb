{
 "cells": [
  {
   "cell_type": "markdown",
   "id": "92db52f6",
   "metadata": {},
   "source": [
    "#                           DESCRIPTIVE ANALYTICS ASSIGNMENT 1"
   ]
  },
  {
   "cell_type": "markdown",
   "id": "3758c9b5",
   "metadata": {},
   "source": [
    "### Import Libraries"
   ]
  },
  {
   "cell_type": "code",
   "execution_count": 1,
   "id": "de0d3e83",
   "metadata": {},
   "outputs": [],
   "source": [
    "# import the pacakges\n",
    "import pandas as pd # for data manupulation or analysis\n",
    "import numpy as np # for numeric calculation\n",
    "import matplotlib.pyplot as plt # for data visualization\n",
    "import seaborn as sns # for data visualization"
   ]
  },
  {
   "cell_type": "markdown",
   "id": "38df6b14",
   "metadata": {},
   "source": [
    "### Load Data into Jupyter Notebook"
   ]
  },
  {
   "cell_type": "code",
   "execution_count": 2,
   "id": "ece1b4cc",
   "metadata": {
    "scrolled": true
   },
   "outputs": [
    {
     "data": {
      "text/html": [
       "<div>\n",
       "<style scoped>\n",
       "    .dataframe tbody tr th:only-of-type {\n",
       "        vertical-align: middle;\n",
       "    }\n",
       "\n",
       "    .dataframe tbody tr th {\n",
       "        vertical-align: top;\n",
       "    }\n",
       "\n",
       "    .dataframe thead th {\n",
       "        text-align: right;\n",
       "    }\n",
       "</style>\n",
       "<table border=\"1\" class=\"dataframe\">\n",
       "  <thead>\n",
       "    <tr style=\"text-align: right;\">\n",
       "      <th></th>\n",
       "      <th>Student ID</th>\n",
       "      <th>Program ID</th>\n",
       "      <th>CLASS</th>\n",
       "      <th>Chem.CA</th>\n",
       "      <th>Chem.TEST1</th>\n",
       "      <th>Chem.TEST2</th>\n",
       "      <th>Chem.TEST3</th>\n",
       "      <th>Chem.SemMark</th>\n",
       "      <th>Chem.SemGrade</th>\n",
       "      <th>Physics.CA1</th>\n",
       "      <th>...</th>\n",
       "      <th>English.ASG2</th>\n",
       "      <th>English.CA1</th>\n",
       "      <th>English.CA2</th>\n",
       "      <th>English.SemMark</th>\n",
       "      <th>English.SemGrade</th>\n",
       "      <th>Geo.CA1</th>\n",
       "      <th>Geo.CA2</th>\n",
       "      <th>Geo.ASG1</th>\n",
       "      <th>Geo.SemMark</th>\n",
       "      <th>Geo.Sem Grade</th>\n",
       "    </tr>\n",
       "  </thead>\n",
       "  <tbody>\n",
       "    <tr>\n",
       "      <th>0</th>\n",
       "      <td>198</td>\n",
       "      <td>Prog_B</td>\n",
       "      <td>A</td>\n",
       "      <td>85</td>\n",
       "      <td>68</td>\n",
       "      <td>100</td>\n",
       "      <td>90</td>\n",
       "      <td>86</td>\n",
       "      <td>A+</td>\n",
       "      <td>80.9</td>\n",
       "      <td>...</td>\n",
       "      <td>78.0</td>\n",
       "      <td>79.0</td>\n",
       "      <td>70.0</td>\n",
       "      <td>77.0</td>\n",
       "      <td>B+</td>\n",
       "      <td>100.0</td>\n",
       "      <td>75.0</td>\n",
       "      <td>71.5</td>\n",
       "      <td>81.0</td>\n",
       "      <td>A</td>\n",
       "    </tr>\n",
       "    <tr>\n",
       "      <th>1</th>\n",
       "      <td>199</td>\n",
       "      <td>Prog_B</td>\n",
       "      <td>A</td>\n",
       "      <td>90</td>\n",
       "      <td>95</td>\n",
       "      <td>100</td>\n",
       "      <td>88</td>\n",
       "      <td>93</td>\n",
       "      <td>A+</td>\n",
       "      <td>84.8</td>\n",
       "      <td>...</td>\n",
       "      <td>80.0</td>\n",
       "      <td>86.0</td>\n",
       "      <td>85.0</td>\n",
       "      <td>84.0</td>\n",
       "      <td>A</td>\n",
       "      <td>85.0</td>\n",
       "      <td>65.0</td>\n",
       "      <td>55.0</td>\n",
       "      <td>67.0</td>\n",
       "      <td>C+</td>\n",
       "    </tr>\n",
       "    <tr>\n",
       "      <th>2</th>\n",
       "      <td>200</td>\n",
       "      <td>Prog_B</td>\n",
       "      <td>A</td>\n",
       "      <td>79</td>\n",
       "      <td>53</td>\n",
       "      <td>29</td>\n",
       "      <td>75</td>\n",
       "      <td>63</td>\n",
       "      <td>C</td>\n",
       "      <td>80.9</td>\n",
       "      <td>...</td>\n",
       "      <td>80.5</td>\n",
       "      <td>78.0</td>\n",
       "      <td>60.0</td>\n",
       "      <td>79.0</td>\n",
       "      <td>B+</td>\n",
       "      <td>95.0</td>\n",
       "      <td>43.3</td>\n",
       "      <td>58.5</td>\n",
       "      <td>65.0</td>\n",
       "      <td>C+</td>\n",
       "    </tr>\n",
       "    <tr>\n",
       "      <th>3</th>\n",
       "      <td>201</td>\n",
       "      <td>Prog_B</td>\n",
       "      <td>A</td>\n",
       "      <td>85</td>\n",
       "      <td>100</td>\n",
       "      <td>93</td>\n",
       "      <td>58</td>\n",
       "      <td>84</td>\n",
       "      <td>A</td>\n",
       "      <td>85.0</td>\n",
       "      <td>...</td>\n",
       "      <td>74.0</td>\n",
       "      <td>88.0</td>\n",
       "      <td>85.0</td>\n",
       "      <td>78.0</td>\n",
       "      <td>B+</td>\n",
       "      <td>83.3</td>\n",
       "      <td>66.7</td>\n",
       "      <td>68.5</td>\n",
       "      <td>72.0</td>\n",
       "      <td>B</td>\n",
       "    </tr>\n",
       "    <tr>\n",
       "      <th>4</th>\n",
       "      <td>202</td>\n",
       "      <td>Prog_B</td>\n",
       "      <td>A</td>\n",
       "      <td>90</td>\n",
       "      <td>93</td>\n",
       "      <td>93</td>\n",
       "      <td>68</td>\n",
       "      <td>87</td>\n",
       "      <td>A+</td>\n",
       "      <td>85.9</td>\n",
       "      <td>...</td>\n",
       "      <td>84.4</td>\n",
       "      <td>95.0</td>\n",
       "      <td>85.0</td>\n",
       "      <td>88.0</td>\n",
       "      <td>AD</td>\n",
       "      <td>98.3</td>\n",
       "      <td>85.0</td>\n",
       "      <td>96.0</td>\n",
       "      <td>93.0</td>\n",
       "      <td>A+</td>\n",
       "    </tr>\n",
       "    <tr>\n",
       "      <th>...</th>\n",
       "      <td>...</td>\n",
       "      <td>...</td>\n",
       "      <td>...</td>\n",
       "      <td>...</td>\n",
       "      <td>...</td>\n",
       "      <td>...</td>\n",
       "      <td>...</td>\n",
       "      <td>...</td>\n",
       "      <td>...</td>\n",
       "      <td>...</td>\n",
       "      <td>...</td>\n",
       "      <td>...</td>\n",
       "      <td>...</td>\n",
       "      <td>...</td>\n",
       "      <td>...</td>\n",
       "      <td>...</td>\n",
       "      <td>...</td>\n",
       "      <td>...</td>\n",
       "      <td>...</td>\n",
       "      <td>...</td>\n",
       "      <td>...</td>\n",
       "    </tr>\n",
       "    <tr>\n",
       "      <th>330</th>\n",
       "      <td>145</td>\n",
       "      <td>Prog_D</td>\n",
       "      <td>N</td>\n",
       "      <td>96</td>\n",
       "      <td>100</td>\n",
       "      <td>100</td>\n",
       "      <td>80</td>\n",
       "      <td>94</td>\n",
       "      <td>A+</td>\n",
       "      <td>77.5</td>\n",
       "      <td>...</td>\n",
       "      <td>74.5</td>\n",
       "      <td>95.0</td>\n",
       "      <td>85.0</td>\n",
       "      <td>81.0</td>\n",
       "      <td>A</td>\n",
       "      <td>100.0</td>\n",
       "      <td>70.0</td>\n",
       "      <td>77.5</td>\n",
       "      <td>82.0</td>\n",
       "      <td>A</td>\n",
       "    </tr>\n",
       "    <tr>\n",
       "      <th>331</th>\n",
       "      <td>146</td>\n",
       "      <td>Prog_D</td>\n",
       "      <td>N</td>\n",
       "      <td>82</td>\n",
       "      <td>83</td>\n",
       "      <td>95</td>\n",
       "      <td>95</td>\n",
       "      <td>87</td>\n",
       "      <td>A+</td>\n",
       "      <td>78.9</td>\n",
       "      <td>...</td>\n",
       "      <td>77.0</td>\n",
       "      <td>95.0</td>\n",
       "      <td>90.0</td>\n",
       "      <td>83.0</td>\n",
       "      <td>A</td>\n",
       "      <td>100.0</td>\n",
       "      <td>86.7</td>\n",
       "      <td>85.0</td>\n",
       "      <td>90.0</td>\n",
       "      <td>A+</td>\n",
       "    </tr>\n",
       "    <tr>\n",
       "      <th>332</th>\n",
       "      <td>147</td>\n",
       "      <td>Prog_D</td>\n",
       "      <td>N</td>\n",
       "      <td>85</td>\n",
       "      <td>68</td>\n",
       "      <td>70</td>\n",
       "      <td>55</td>\n",
       "      <td>73</td>\n",
       "      <td>B</td>\n",
       "      <td>78.9</td>\n",
       "      <td>...</td>\n",
       "      <td>79.5</td>\n",
       "      <td>84.0</td>\n",
       "      <td>80.0</td>\n",
       "      <td>81.0</td>\n",
       "      <td>A</td>\n",
       "      <td>90.0</td>\n",
       "      <td>61.7</td>\n",
       "      <td>57.0</td>\n",
       "      <td>68.0</td>\n",
       "      <td>C+</td>\n",
       "    </tr>\n",
       "    <tr>\n",
       "      <th>333</th>\n",
       "      <td>148</td>\n",
       "      <td>Prog_D</td>\n",
       "      <td>N</td>\n",
       "      <td>88</td>\n",
       "      <td>95</td>\n",
       "      <td>100</td>\n",
       "      <td>78</td>\n",
       "      <td>90</td>\n",
       "      <td>A+</td>\n",
       "      <td>78.0</td>\n",
       "      <td>...</td>\n",
       "      <td>80.5</td>\n",
       "      <td>98.0</td>\n",
       "      <td>85.0</td>\n",
       "      <td>83.0</td>\n",
       "      <td>A</td>\n",
       "      <td>90.0</td>\n",
       "      <td>58.3</td>\n",
       "      <td>60.0</td>\n",
       "      <td>68.0</td>\n",
       "      <td>C+</td>\n",
       "    </tr>\n",
       "    <tr>\n",
       "      <th>334</th>\n",
       "      <td>149</td>\n",
       "      <td>Prog_D</td>\n",
       "      <td>N</td>\n",
       "      <td>81</td>\n",
       "      <td>100</td>\n",
       "      <td>97</td>\n",
       "      <td>78</td>\n",
       "      <td>87</td>\n",
       "      <td>A+</td>\n",
       "      <td>80.2</td>\n",
       "      <td>...</td>\n",
       "      <td>74.5</td>\n",
       "      <td>90.0</td>\n",
       "      <td>80.0</td>\n",
       "      <td>78.0</td>\n",
       "      <td>B+</td>\n",
       "      <td>96.7</td>\n",
       "      <td>70.0</td>\n",
       "      <td>65.0</td>\n",
       "      <td>76.0</td>\n",
       "      <td>B+</td>\n",
       "    </tr>\n",
       "  </tbody>\n",
       "</table>\n",
       "<p>335 rows × 25 columns</p>\n",
       "</div>"
      ],
      "text/plain": [
       "     Student ID Program ID CLASS  Chem.CA  Chem.TEST1  Chem.TEST2  Chem.TEST3  \\\n",
       "0           198     Prog_B     A       85          68         100          90   \n",
       "1           199     Prog_B     A       90          95         100          88   \n",
       "2           200     Prog_B     A       79          53          29          75   \n",
       "3           201     Prog_B     A       85         100          93          58   \n",
       "4           202     Prog_B     A       90          93          93          68   \n",
       "..          ...        ...   ...      ...         ...         ...         ...   \n",
       "330         145     Prog_D     N       96         100         100          80   \n",
       "331         146     Prog_D     N       82          83          95          95   \n",
       "332         147     Prog_D     N       85          68          70          55   \n",
       "333         148     Prog_D     N       88          95         100          78   \n",
       "334         149     Prog_D     N       81         100          97          78   \n",
       "\n",
       "     Chem.SemMark Chem.SemGrade  Physics.CA1  ...  English.ASG2  English.CA1  \\\n",
       "0              86            A+         80.9  ...          78.0         79.0   \n",
       "1              93            A+         84.8  ...          80.0         86.0   \n",
       "2              63             C         80.9  ...          80.5         78.0   \n",
       "3              84             A         85.0  ...          74.0         88.0   \n",
       "4              87            A+         85.9  ...          84.4         95.0   \n",
       "..            ...           ...          ...  ...           ...          ...   \n",
       "330            94            A+         77.5  ...          74.5         95.0   \n",
       "331            87            A+         78.9  ...          77.0         95.0   \n",
       "332            73             B         78.9  ...          79.5         84.0   \n",
       "333            90            A+         78.0  ...          80.5         98.0   \n",
       "334            87            A+         80.2  ...          74.5         90.0   \n",
       "\n",
       "     English.CA2 English.SemMark  English.SemGrade  Geo.CA1  Geo.CA2  \\\n",
       "0           70.0            77.0                B+    100.0     75.0   \n",
       "1           85.0            84.0                 A     85.0     65.0   \n",
       "2           60.0            79.0                B+     95.0     43.3   \n",
       "3           85.0            78.0                B+     83.3     66.7   \n",
       "4           85.0            88.0                AD     98.3     85.0   \n",
       "..           ...             ...               ...      ...      ...   \n",
       "330         85.0            81.0                 A    100.0     70.0   \n",
       "331         90.0            83.0                 A    100.0     86.7   \n",
       "332         80.0            81.0                 A     90.0     61.7   \n",
       "333         85.0            83.0                 A     90.0     58.3   \n",
       "334         80.0            78.0                B+     96.7     70.0   \n",
       "\n",
       "     Geo.ASG1  Geo.SemMark Geo.Sem Grade  \n",
       "0        71.5         81.0             A  \n",
       "1        55.0         67.0            C+  \n",
       "2        58.5         65.0            C+  \n",
       "3        68.5         72.0             B  \n",
       "4        96.0         93.0            A+  \n",
       "..        ...          ...           ...  \n",
       "330      77.5         82.0             A  \n",
       "331      85.0         90.0            A+  \n",
       "332      57.0         68.0            C+  \n",
       "333      60.0         68.0            C+  \n",
       "334      65.0         76.0            B+  \n",
       "\n",
       "[335 rows x 25 columns]"
      ]
     },
     "execution_count": 2,
     "metadata": {},
     "output_type": "execute_result"
    }
   ],
   "source": [
    "df = pd.read_csv('student-grades_1021.csv')\n",
    "df"
   ]
  },
  {
   "cell_type": "code",
   "execution_count": 3,
   "id": "39bcee7a",
   "metadata": {},
   "outputs": [
    {
     "data": {
      "text/html": [
       "<div>\n",
       "<style scoped>\n",
       "    .dataframe tbody tr th:only-of-type {\n",
       "        vertical-align: middle;\n",
       "    }\n",
       "\n",
       "    .dataframe tbody tr th {\n",
       "        vertical-align: top;\n",
       "    }\n",
       "\n",
       "    .dataframe thead th {\n",
       "        text-align: right;\n",
       "    }\n",
       "</style>\n",
       "<table border=\"1\" class=\"dataframe\">\n",
       "  <thead>\n",
       "    <tr style=\"text-align: right;\">\n",
       "      <th></th>\n",
       "      <th>Student ID</th>\n",
       "      <th>Program ID</th>\n",
       "      <th>CLASS</th>\n",
       "      <th>Chem.CA</th>\n",
       "      <th>Chem.TEST1</th>\n",
       "      <th>Chem.TEST2</th>\n",
       "      <th>Chem.TEST3</th>\n",
       "      <th>Chem.SemMark</th>\n",
       "      <th>Chem.SemGrade</th>\n",
       "      <th>Physics.CA1</th>\n",
       "      <th>Physics.CA2</th>\n",
       "      <th>Physics.ASG1</th>\n",
       "      <th>Physics.SemMark</th>\n",
       "      <th>Physics.SemGrade</th>\n",
       "      <th>English.ASG1</th>\n",
       "      <th>English.ASG2</th>\n",
       "      <th>English.CA1</th>\n",
       "      <th>English.CA2</th>\n",
       "      <th>English.SemMark</th>\n",
       "      <th>English.SemGrade</th>\n",
       "      <th>Geo.CA1</th>\n",
       "      <th>Geo.CA2</th>\n",
       "      <th>Geo.ASG1</th>\n",
       "      <th>Geo.SemMark</th>\n",
       "      <th>Geo.Sem Grade</th>\n",
       "    </tr>\n",
       "  </thead>\n",
       "  <tbody>\n",
       "    <tr>\n",
       "      <th>0</th>\n",
       "      <td>198</td>\n",
       "      <td>Prog_B</td>\n",
       "      <td>A</td>\n",
       "      <td>85</td>\n",
       "      <td>68</td>\n",
       "      <td>100</td>\n",
       "      <td>90</td>\n",
       "      <td>86</td>\n",
       "      <td>A+</td>\n",
       "      <td>80.9</td>\n",
       "      <td>100.0</td>\n",
       "      <td>68.7</td>\n",
       "      <td>79.0</td>\n",
       "      <td>B+</td>\n",
       "      <td>77.0</td>\n",
       "      <td>78.0</td>\n",
       "      <td>79.0</td>\n",
       "      <td>70.0</td>\n",
       "      <td>77.0</td>\n",
       "      <td>B+</td>\n",
       "      <td>100.0</td>\n",
       "      <td>75.0</td>\n",
       "      <td>71.5</td>\n",
       "      <td>81.0</td>\n",
       "      <td>A</td>\n",
       "    </tr>\n",
       "    <tr>\n",
       "      <th>1</th>\n",
       "      <td>199</td>\n",
       "      <td>Prog_B</td>\n",
       "      <td>A</td>\n",
       "      <td>90</td>\n",
       "      <td>95</td>\n",
       "      <td>100</td>\n",
       "      <td>88</td>\n",
       "      <td>93</td>\n",
       "      <td>A+</td>\n",
       "      <td>84.8</td>\n",
       "      <td>80.0</td>\n",
       "      <td>77.6</td>\n",
       "      <td>81.0</td>\n",
       "      <td>A</td>\n",
       "      <td>89.0</td>\n",
       "      <td>80.0</td>\n",
       "      <td>86.0</td>\n",
       "      <td>85.0</td>\n",
       "      <td>84.0</td>\n",
       "      <td>A</td>\n",
       "      <td>85.0</td>\n",
       "      <td>65.0</td>\n",
       "      <td>55.0</td>\n",
       "      <td>67.0</td>\n",
       "      <td>C+</td>\n",
       "    </tr>\n",
       "    <tr>\n",
       "      <th>2</th>\n",
       "      <td>200</td>\n",
       "      <td>Prog_B</td>\n",
       "      <td>A</td>\n",
       "      <td>79</td>\n",
       "      <td>53</td>\n",
       "      <td>29</td>\n",
       "      <td>75</td>\n",
       "      <td>63</td>\n",
       "      <td>C</td>\n",
       "      <td>80.9</td>\n",
       "      <td>62.5</td>\n",
       "      <td>73.9</td>\n",
       "      <td>75.0</td>\n",
       "      <td>B+</td>\n",
       "      <td>87.0</td>\n",
       "      <td>80.5</td>\n",
       "      <td>78.0</td>\n",
       "      <td>60.0</td>\n",
       "      <td>79.0</td>\n",
       "      <td>B+</td>\n",
       "      <td>95.0</td>\n",
       "      <td>43.3</td>\n",
       "      <td>58.5</td>\n",
       "      <td>65.0</td>\n",
       "      <td>C+</td>\n",
       "    </tr>\n",
       "    <tr>\n",
       "      <th>3</th>\n",
       "      <td>201</td>\n",
       "      <td>Prog_B</td>\n",
       "      <td>A</td>\n",
       "      <td>85</td>\n",
       "      <td>100</td>\n",
       "      <td>93</td>\n",
       "      <td>58</td>\n",
       "      <td>84</td>\n",
       "      <td>A</td>\n",
       "      <td>85.0</td>\n",
       "      <td>62.5</td>\n",
       "      <td>71.1</td>\n",
       "      <td>76.0</td>\n",
       "      <td>B+</td>\n",
       "      <td>75.0</td>\n",
       "      <td>74.0</td>\n",
       "      <td>88.0</td>\n",
       "      <td>85.0</td>\n",
       "      <td>78.0</td>\n",
       "      <td>B+</td>\n",
       "      <td>83.3</td>\n",
       "      <td>66.7</td>\n",
       "      <td>68.5</td>\n",
       "      <td>72.0</td>\n",
       "      <td>B</td>\n",
       "    </tr>\n",
       "    <tr>\n",
       "      <th>4</th>\n",
       "      <td>202</td>\n",
       "      <td>Prog_B</td>\n",
       "      <td>A</td>\n",
       "      <td>90</td>\n",
       "      <td>93</td>\n",
       "      <td>93</td>\n",
       "      <td>68</td>\n",
       "      <td>87</td>\n",
       "      <td>A+</td>\n",
       "      <td>85.9</td>\n",
       "      <td>97.5</td>\n",
       "      <td>86.4</td>\n",
       "      <td>88.0</td>\n",
       "      <td>AD</td>\n",
       "      <td>91.0</td>\n",
       "      <td>84.4</td>\n",
       "      <td>95.0</td>\n",
       "      <td>85.0</td>\n",
       "      <td>88.0</td>\n",
       "      <td>AD</td>\n",
       "      <td>98.3</td>\n",
       "      <td>85.0</td>\n",
       "      <td>96.0</td>\n",
       "      <td>93.0</td>\n",
       "      <td>A+</td>\n",
       "    </tr>\n",
       "  </tbody>\n",
       "</table>\n",
       "</div>"
      ],
      "text/plain": [
       "   Student ID Program ID CLASS  Chem.CA  Chem.TEST1  Chem.TEST2  Chem.TEST3  \\\n",
       "0         198     Prog_B     A       85          68         100          90   \n",
       "1         199     Prog_B     A       90          95         100          88   \n",
       "2         200     Prog_B     A       79          53          29          75   \n",
       "3         201     Prog_B     A       85         100          93          58   \n",
       "4         202     Prog_B     A       90          93          93          68   \n",
       "\n",
       "   Chem.SemMark Chem.SemGrade  Physics.CA1  Physics.CA2  Physics.ASG1  \\\n",
       "0            86            A+         80.9        100.0          68.7   \n",
       "1            93            A+         84.8         80.0          77.6   \n",
       "2            63             C         80.9         62.5          73.9   \n",
       "3            84             A         85.0         62.5          71.1   \n",
       "4            87            A+         85.9         97.5          86.4   \n",
       "\n",
       "   Physics.SemMark Physics.SemGrade  English.ASG1  English.ASG2  English.CA1  \\\n",
       "0             79.0               B+          77.0          78.0         79.0   \n",
       "1             81.0                A          89.0          80.0         86.0   \n",
       "2             75.0               B+          87.0          80.5         78.0   \n",
       "3             76.0               B+          75.0          74.0         88.0   \n",
       "4             88.0               AD          91.0          84.4         95.0   \n",
       "\n",
       "   English.CA2  English.SemMark English.SemGrade  Geo.CA1  Geo.CA2  Geo.ASG1  \\\n",
       "0         70.0             77.0               B+    100.0     75.0      71.5   \n",
       "1         85.0             84.0                A     85.0     65.0      55.0   \n",
       "2         60.0             79.0               B+     95.0     43.3      58.5   \n",
       "3         85.0             78.0               B+     83.3     66.7      68.5   \n",
       "4         85.0             88.0               AD     98.3     85.0      96.0   \n",
       "\n",
       "   Geo.SemMark Geo.Sem Grade  \n",
       "0         81.0             A  \n",
       "1         67.0            C+  \n",
       "2         65.0            C+  \n",
       "3         72.0             B  \n",
       "4         93.0            A+  "
      ]
     },
     "execution_count": 3,
     "metadata": {},
     "output_type": "execute_result"
    }
   ],
   "source": [
    "#display maximum columns\n",
    "pd.set_option('display.max_columns',None)\n",
    "#display maximum rows\n",
    "pd.set_option('display.max_rows',None)\n",
    "df.head(5)"
   ]
  },
  {
   "cell_type": "markdown",
   "id": "438ccd9a",
   "metadata": {},
   "source": [
    "### Question 1: Is there a correlation between good performance in one module and  another?"
   ]
  },
  {
   "cell_type": "code",
   "execution_count": 4,
   "id": "e7cc29ce",
   "metadata": {
    "scrolled": true
   },
   "outputs": [
    {
     "data": {
      "text/plain": [
       "Student ID          0\n",
       "Program ID          0\n",
       "CLASS               0\n",
       "Chem.CA             0\n",
       "Chem.TEST1          0\n",
       "Chem.TEST2          0\n",
       "Chem.TEST3          0\n",
       "Chem.SemMark        0\n",
       "Chem.SemGrade       0\n",
       "Physics.CA1         2\n",
       "Physics.CA2         2\n",
       "Physics.ASG1        2\n",
       "Physics.SemMark     2\n",
       "Physics.SemGrade    2\n",
       "English.ASG1        3\n",
       "English.ASG2        3\n",
       "English.CA1         3\n",
       "English.CA2         3\n",
       "English.SemMark     3\n",
       "English.SemGrade    3\n",
       "Geo.CA1             3\n",
       "Geo.CA2             3\n",
       "Geo.ASG1            3\n",
       "Geo.SemMark         3\n",
       "Geo.Sem Grade       3\n",
       "dtype: int64"
      ]
     },
     "execution_count": 4,
     "metadata": {},
     "output_type": "execute_result"
    }
   ],
   "source": [
    "#check missing value \n",
    "df.isna().sum()"
   ]
  },
  {
   "cell_type": "code",
   "execution_count": 5,
   "id": "7a3a9cb0",
   "metadata": {
    "scrolled": true
   },
   "outputs": [
    {
     "data": {
      "text/plain": [
       "(335, 25)"
      ]
     },
     "execution_count": 5,
     "metadata": {},
     "output_type": "execute_result"
    }
   ],
   "source": [
    "#display no. of rows and columns in dataset\n",
    "df.shape"
   ]
  },
  {
   "cell_type": "markdown",
   "id": "2e4f7af1",
   "metadata": {},
   "source": [
    "the dataset have 335 rows and 25 columns"
   ]
  },
  {
   "cell_type": "code",
   "execution_count": 6,
   "id": "9ef2782d",
   "metadata": {
    "scrolled": false
   },
   "outputs": [
    {
     "name": "stdout",
     "output_type": "stream",
     "text": [
      "<class 'pandas.core.frame.DataFrame'>\n",
      "RangeIndex: 335 entries, 0 to 334\n",
      "Data columns (total 25 columns):\n",
      " #   Column            Non-Null Count  Dtype  \n",
      "---  ------            --------------  -----  \n",
      " 0   Student ID        335 non-null    int64  \n",
      " 1   Program ID        335 non-null    object \n",
      " 2   CLASS             335 non-null    object \n",
      " 3   Chem.CA           335 non-null    int64  \n",
      " 4   Chem.TEST1        335 non-null    int64  \n",
      " 5   Chem.TEST2        335 non-null    int64  \n",
      " 6   Chem.TEST3        335 non-null    int64  \n",
      " 7   Chem.SemMark      335 non-null    int64  \n",
      " 8   Chem.SemGrade     335 non-null    object \n",
      " 9   Physics.CA1       333 non-null    float64\n",
      " 10  Physics.CA2       333 non-null    float64\n",
      " 11  Physics.ASG1      333 non-null    float64\n",
      " 12  Physics.SemMark   333 non-null    float64\n",
      " 13  Physics.SemGrade  333 non-null    object \n",
      " 14  English.ASG1      332 non-null    float64\n",
      " 15  English.ASG2      332 non-null    float64\n",
      " 16  English.CA1       332 non-null    float64\n",
      " 17  English.CA2       332 non-null    float64\n",
      " 18  English.SemMark   332 non-null    float64\n",
      " 19  English.SemGrade  332 non-null    object \n",
      " 20  Geo.CA1           332 non-null    float64\n",
      " 21  Geo.CA2           332 non-null    float64\n",
      " 22  Geo.ASG1          332 non-null    float64\n",
      " 23  Geo.SemMark       332 non-null    float64\n",
      " 24  Geo.Sem Grade     332 non-null    object \n",
      "dtypes: float64(13), int64(6), object(6)\n",
      "memory usage: 65.6+ KB\n"
     ]
    }
   ],
   "source": [
    "#check data type of column\n",
    "df.info()"
   ]
  },
  {
   "cell_type": "markdown",
   "id": "4ff1eb0c",
   "metadata": {},
   "source": [
    "the resut show :\n",
    " numerical columns=19\n",
    "categorical columns=6\n",
    "memory usage=65KB"
   ]
  },
  {
   "cell_type": "code",
   "execution_count": 7,
   "id": "9d961722",
   "metadata": {},
   "outputs": [
    {
     "data": {
      "text/plain": [
       "Index(['Student ID', 'Chem.CA', 'Chem.TEST1', 'Chem.TEST2', 'Chem.TEST3',\n",
       "       'Chem.SemMark', 'Physics.CA1', 'Physics.CA2', 'Physics.ASG1',\n",
       "       'Physics.SemMark', 'English.ASG1', 'English.ASG2', 'English.CA1',\n",
       "       'English.CA2', 'English.SemMark', 'Geo.CA1', 'Geo.CA2', 'Geo.ASG1',\n",
       "       'Geo.SemMark'],\n",
       "      dtype='object')"
      ]
     },
     "execution_count": 7,
     "metadata": {},
     "output_type": "execute_result"
    }
   ],
   "source": [
    "#dispplay numerical columns\n",
    "num_vars=df.select_dtypes(include=[\"int64\",\"float64\"]).columns\n",
    "num_vars"
   ]
  },
  {
   "cell_type": "code",
   "execution_count": 8,
   "id": "e897b559",
   "metadata": {},
   "outputs": [
    {
     "data": {
      "text/plain": [
       "['Physics.CA1',\n",
       " 'Physics.CA2',\n",
       " 'Physics.ASG1',\n",
       " 'Physics.SemMark',\n",
       " 'Physics.SemGrade',\n",
       " 'English.ASG1',\n",
       " 'English.ASG2',\n",
       " 'English.CA1',\n",
       " 'English.CA2',\n",
       " 'English.SemMark',\n",
       " 'English.SemGrade',\n",
       " 'Geo.CA1',\n",
       " 'Geo.CA2',\n",
       " 'Geo.ASG1',\n",
       " 'Geo.SemMark',\n",
       " 'Geo.Sem Grade']"
      ]
     },
     "execution_count": 8,
     "metadata": {},
     "output_type": "execute_result"
    }
   ],
   "source": [
    "#display the numerical column that have missing value\n",
    "missing_num_var = [var for var in df.columns if df[var].isnull().sum()>0]\n",
    "missing_num_var"
   ]
  },
  {
   "cell_type": "code",
   "execution_count": 9,
   "id": "71bfddb6",
   "metadata": {},
   "outputs": [
    {
     "data": {
      "text/plain": [
       "Student ID         0\n",
       "Chem.CA            0\n",
       "Chem.TEST1         0\n",
       "Chem.TEST2         0\n",
       "Chem.TEST3         0\n",
       "Chem.SemMark       0\n",
       "Physics.CA1        2\n",
       "Physics.CA2        2\n",
       "Physics.ASG1       2\n",
       "Physics.SemMark    2\n",
       "English.ASG1       3\n",
       "English.ASG2       3\n",
       "English.CA1        3\n",
       "English.CA2        3\n",
       "English.SemMark    3\n",
       "Geo.CA1            3\n",
       "Geo.CA2            3\n",
       "Geo.ASG1           3\n",
       "Geo.SemMark        3\n",
       "dtype: int64"
      ]
     },
     "execution_count": 9,
     "metadata": {},
     "output_type": "execute_result"
    }
   ],
   "source": [
    "#check total number of entities missing in each column\n",
    "df[num_vars].isnull().sum()"
   ]
  },
  {
   "cell_type": "markdown",
   "id": "a57c4958",
   "metadata": {},
   "source": [
    "I used mean to fill numerical missing value because  replacing missing values by the mean and the median are equivalent. Replacing missing data by the mode is not common practice for numerical variables.Therefore, the mean is a better representation of the majority of the values in the variable"
   ]
  },
  {
   "cell_type": "code",
   "execution_count": 10,
   "id": "8aed2c5f",
   "metadata": {},
   "outputs": [],
   "source": [
    "#handling numerical missing value with mean\n",
    "df = df.fillna(df[num_vars].mean())"
   ]
  },
  {
   "cell_type": "code",
   "execution_count": 11,
   "id": "001d637f",
   "metadata": {},
   "outputs": [
    {
     "data": {
      "text/plain": [
       "Student ID         0\n",
       "Chem.CA            0\n",
       "Chem.TEST1         0\n",
       "Chem.TEST2         0\n",
       "Chem.TEST3         0\n",
       "Chem.SemMark       0\n",
       "Physics.CA1        0\n",
       "Physics.CA2        0\n",
       "Physics.ASG1       0\n",
       "Physics.SemMark    0\n",
       "English.ASG1       0\n",
       "English.ASG2       0\n",
       "English.CA1        0\n",
       "English.CA2        0\n",
       "English.SemMark    0\n",
       "Geo.CA1            0\n",
       "Geo.CA2            0\n",
       "Geo.ASG1           0\n",
       "Geo.SemMark        0\n",
       "dtype: int64"
      ]
     },
     "execution_count": 11,
     "metadata": {},
     "output_type": "execute_result"
    }
   ],
   "source": [
    "#all numerical missing  values are filled \n",
    "df[num_vars].isnull().sum()"
   ]
  },
  {
   "cell_type": "code",
   "execution_count": 12,
   "id": "93eb2f69",
   "metadata": {},
   "outputs": [
    {
     "data": {
      "text/plain": [
       "['Program ID',\n",
       " 'CLASS',\n",
       " 'Chem.SemGrade',\n",
       " 'Physics.SemGrade',\n",
       " 'English.SemGrade',\n",
       " 'Geo.Sem Grade']"
      ]
     },
     "execution_count": 12,
     "metadata": {},
     "output_type": "execute_result"
    }
   ],
   "source": [
    "#dispplay categorical columns\n",
    "cat_col = []\n",
    "for x in df.dtypes.index:\n",
    "    if df.dtypes[x] == 'object':\n",
    "        cat_col.append(x)\n",
    "cat_col"
   ]
  },
  {
   "cell_type": "code",
   "execution_count": 13,
   "id": "c6a5aaa5",
   "metadata": {},
   "outputs": [
    {
     "data": {
      "text/plain": [
       "Program ID          0\n",
       "CLASS               0\n",
       "Chem.SemGrade       0\n",
       "Physics.SemGrade    2\n",
       "English.SemGrade    3\n",
       "Geo.Sem Grade       3\n",
       "dtype: int64"
      ]
     },
     "execution_count": 13,
     "metadata": {},
     "output_type": "execute_result"
    }
   ],
   "source": [
    "#check total number of entities missing in each  categorical column\n",
    "df[cat_col].isnull().sum()"
   ]
  },
  {
   "cell_type": "markdown",
   "id": "b82ea8bb",
   "metadata": {},
   "source": [
    "I Used mode to fill categorical variable because Generally, replacing the missing values with the mode is a crude way of treating missing values. Depending on the context, like if the variation is low or if the variable has low leverage over the response, such a rough approximation is acceptable and could give satisfactory results. "
   ]
  },
  {
   "cell_type": "code",
   "execution_count": 14,
   "id": "bd38e304",
   "metadata": {},
   "outputs": [],
   "source": [
    "#handle categorical variable with mode\n",
    "df = df.fillna(df[cat_col].mode().iloc[0])"
   ]
  },
  {
   "cell_type": "code",
   "execution_count": 15,
   "id": "31947179",
   "metadata": {},
   "outputs": [
    {
     "data": {
      "text/plain": [
       "Program ID          0\n",
       "CLASS               0\n",
       "Chem.SemGrade       0\n",
       "Physics.SemGrade    0\n",
       "English.SemGrade    0\n",
       "Geo.Sem Grade       0\n",
       "dtype: int64"
      ]
     },
     "execution_count": 15,
     "metadata": {},
     "output_type": "execute_result"
    }
   ],
   "source": [
    "#all categorical missing  values are filled \n",
    "df[cat_col].isnull().sum()"
   ]
  },
  {
   "cell_type": "code",
   "execution_count": 16,
   "id": "b5070e42",
   "metadata": {
    "scrolled": false
   },
   "outputs": [
    {
     "data": {
      "text/plain": [
       "Student ID          0\n",
       "Program ID          0\n",
       "CLASS               0\n",
       "Chem.CA             0\n",
       "Chem.TEST1          0\n",
       "Chem.TEST2          0\n",
       "Chem.TEST3          0\n",
       "Chem.SemMark        0\n",
       "Chem.SemGrade       0\n",
       "Physics.CA1         0\n",
       "Physics.CA2         0\n",
       "Physics.ASG1        0\n",
       "Physics.SemMark     0\n",
       "Physics.SemGrade    0\n",
       "English.ASG1        0\n",
       "English.ASG2        0\n",
       "English.CA1         0\n",
       "English.CA2         0\n",
       "English.SemMark     0\n",
       "English.SemGrade    0\n",
       "Geo.CA1             0\n",
       "Geo.CA2             0\n",
       "Geo.ASG1            0\n",
       "Geo.SemMark         0\n",
       "Geo.Sem Grade       0\n",
       "dtype: int64"
      ]
     },
     "execution_count": 16,
     "metadata": {},
     "output_type": "execute_result"
    }
   ],
   "source": [
    "#all missing value are filled  in dataset\n",
    "df.isna().sum()"
   ]
  },
  {
   "cell_type": "code",
   "execution_count": 17,
   "id": "dae2b2db",
   "metadata": {
    "scrolled": true
   },
   "outputs": [
    {
     "data": {
      "text/plain": [
       "<AxesSubplot:>"
      ]
     },
     "execution_count": 17,
     "metadata": {},
     "output_type": "execute_result"
    },
    {
     "data": {
      "image/png": "[encoded data removed]",
      "text/plain": [
       "<Figure size 1152x648 with 2 Axes>"
      ]
     },
     "metadata": {
      "needs_background": "light"
     },
     "output_type": "display_data"
    }
   ],
   "source": [
    "# visualize missing value using heatmap to get idea where is the value missing\n",
    "plt.figure(figsize=(16,9))\n",
    "sns.heatmap(df.isnull())"
   ]
  },
  {
   "cell_type": "markdown",
   "id": "77b4f2df",
   "metadata": {},
   "source": [
    "##### group of students to determine if there is a correlation between the results of two modules of your \n",
    "choice"
   ]
  },
  {
   "cell_type": "markdown",
   "id": "74df7b1a",
   "metadata": {},
   "source": [
    "Correlation heatmap is graphical representation of correlation matrix representing correlation between different variables. The value of correlation can take any values from -1 to 1. Correlation between two random variables or bivariate data does not necessary imply causal relationship."
   ]
  },
  {
   "cell_type": "code",
   "execution_count": 18,
   "id": "5d64de5d",
   "metadata": {
    "scrolled": true
   },
   "outputs": [
    {
     "data": {
      "text/html": [
       "<style  type=\"text/css\" >\n",
       "#T_7eb6a_row0_col0,#T_7eb6a_row1_col1,#T_7eb6a_row2_col2,#T_7eb6a_row3_col3,#T_7eb6a_row4_col4,#T_7eb6a_row5_col5,#T_7eb6a_row6_col6,#T_7eb6a_row7_col7,#T_7eb6a_row8_col8,#T_7eb6a_row9_col9,#T_7eb6a_row10_col10,#T_7eb6a_row11_col11,#T_7eb6a_row12_col12,#T_7eb6a_row13_col13,#T_7eb6a_row14_col14,#T_7eb6a_row15_col15,#T_7eb6a_row16_col16,#T_7eb6a_row17_col17,#T_7eb6a_row18_col18{\n",
       "            background-color:  #b40426;\n",
       "            color:  #f1f1f1;\n",
       "        }#T_7eb6a_row0_col1,#T_7eb6a_row0_col2,#T_7eb6a_row0_col3,#T_7eb6a_row0_col4,#T_7eb6a_row0_col5,#T_7eb6a_row0_col6,#T_7eb6a_row0_col8,#T_7eb6a_row0_col9,#T_7eb6a_row0_col11,#T_7eb6a_row0_col12,#T_7eb6a_row0_col13,#T_7eb6a_row0_col14,#T_7eb6a_row0_col15,#T_7eb6a_row0_col16,#T_7eb6a_row0_col17,#T_7eb6a_row0_col18,#T_7eb6a_row2_col0,#T_7eb6a_row7_col10,#T_7eb6a_row10_col7{\n",
       "            background-color:  #3b4cc0;\n",
       "            color:  #f1f1f1;\n",
       "        }#T_7eb6a_row0_col7{\n",
       "            background-color:  #455cce;\n",
       "            color:  #f1f1f1;\n",
       "        }#T_7eb6a_row0_col10{\n",
       "            background-color:  #4257c9;\n",
       "            color:  #f1f1f1;\n",
       "        }#T_7eb6a_row1_col0{\n",
       "            background-color:  #5673e0;\n",
       "            color:  #000000;\n",
       "        }#T_7eb6a_row1_col2,#T_7eb6a_row4_col3{\n",
       "            background-color:  #f5c0a7;\n",
       "            color:  #000000;\n",
       "        }#T_7eb6a_row1_col3{\n",
       "            background-color:  #f5c4ac;\n",
       "            color:  #000000;\n",
       "        }#T_7eb6a_row1_col4,#T_7eb6a_row6_col5,#T_7eb6a_row9_col5{\n",
       "            background-color:  #e2dad5;\n",
       "            color:  #000000;\n",
       "        }#T_7eb6a_row1_col5,#T_7eb6a_row8_col9{\n",
       "            background-color:  #e46e56;\n",
       "            color:  #000000;\n",
       "        }#T_7eb6a_row1_col6,#T_7eb6a_row2_col15,#T_7eb6a_row3_col17,#T_7eb6a_row8_col11,#T_7eb6a_row11_col16,#T_7eb6a_row16_col14{\n",
       "            background-color:  #cbd8ee;\n",
       "            color:  #000000;\n",
       "        }#T_7eb6a_row1_col7{\n",
       "            background-color:  #6e90f2;\n",
       "            color:  #000000;\n",
       "        }#T_7eb6a_row1_col8{\n",
       "            background-color:  #a5c3fe;\n",
       "            color:  #000000;\n",
       "        }#T_7eb6a_row1_col9,#T_7eb6a_row4_col13,#T_7eb6a_row6_col16,#T_7eb6a_row8_col5,#T_7eb6a_row13_col4{\n",
       "            background-color:  #c5d6f2;\n",
       "            color:  #000000;\n",
       "        }#T_7eb6a_row1_col10,#T_7eb6a_row5_col8,#T_7eb6a_row12_col15,#T_7eb6a_row18_col12{\n",
       "            background-color:  #c4d5f3;\n",
       "            color:  #000000;\n",
       "        }#T_7eb6a_row1_col11,#T_7eb6a_row4_col8,#T_7eb6a_row13_col2,#T_7eb6a_row13_col17{\n",
       "            background-color:  #c1d4f4;\n",
       "            color:  #000000;\n",
       "        }#T_7eb6a_row1_col12,#T_7eb6a_row5_col12,#T_7eb6a_row11_col17,#T_7eb6a_row12_col11,#T_7eb6a_row13_col1{\n",
       "            background-color:  #bcd2f7;\n",
       "            color:  #000000;\n",
       "        }#T_7eb6a_row1_col13,#T_7eb6a_row6_col17,#T_7eb6a_row11_col6{\n",
       "            background-color:  #afcafc;\n",
       "            color:  #000000;\n",
       "        }#T_7eb6a_row1_col14,#T_7eb6a_row4_col9,#T_7eb6a_row4_col15,#T_7eb6a_row13_col9,#T_7eb6a_row18_col2,#T_7eb6a_row18_col8{\n",
       "            background-color:  #dddcdc;\n",
       "            color:  #000000;\n",
       "        }#T_7eb6a_row1_col15,#T_7eb6a_row15_col17,#T_7eb6a_row16_col4,#T_7eb6a_row18_col14{\n",
       "            background-color:  #e3d9d3;\n",
       "            color:  #000000;\n",
       "        }#T_7eb6a_row1_col16{\n",
       "            background-color:  #f0cdbb;\n",
       "            color:  #000000;\n",
       "        }#T_7eb6a_row1_col17,#T_7eb6a_row8_col17{\n",
       "            background-color:  #c3d5f4;\n",
       "            color:  #000000;\n",
       "        }#T_7eb6a_row1_col18,#T_7eb6a_row4_col2,#T_7eb6a_row4_col16,#T_7eb6a_row5_col15,#T_7eb6a_row10_col14,#T_7eb6a_row13_col14,#T_7eb6a_row14_col13{\n",
       "            background-color:  #eed0c0;\n",
       "            color:  #000000;\n",
       "        }#T_7eb6a_row2_col1,#T_7eb6a_row4_col18{\n",
       "            background-color:  #f2cbb7;\n",
       "            color:  #000000;\n",
       "        }#T_7eb6a_row2_col3,#T_7eb6a_row14_col12{\n",
       "            background-color:  #f7bca1;\n",
       "            color:  #000000;\n",
       "        }#T_7eb6a_row2_col4,#T_7eb6a_row3_col15,#T_7eb6a_row9_col16,#T_7eb6a_row11_col8,#T_7eb6a_row17_col4{\n",
       "            background-color:  #dedcdb;\n",
       "            color:  #000000;\n",
       "        }#T_7eb6a_row2_col5{\n",
       "            background-color:  #eb7d62;\n",
       "            color:  #000000;\n",
       "        }#T_7eb6a_row2_col6,#T_7eb6a_row6_col8,#T_7eb6a_row9_col15,#T_7eb6a_row12_col9,#T_7eb6a_row15_col14,#T_7eb6a_row16_col2{\n",
       "            background-color:  #d5dbe5;\n",
       "            color:  #000000;\n",
       "        }#T_7eb6a_row2_col7{\n",
       "            background-color:  #5d7ce6;\n",
       "            color:  #000000;\n",
       "        }#T_7eb6a_row2_col8,#T_7eb6a_row2_col13,#T_7eb6a_row7_col15,#T_7eb6a_row12_col4,#T_7eb6a_row18_col10{\n",
       "            background-color:  #9fbfff;\n",
       "            color:  #000000;\n",
       "        }#T_7eb6a_row2_col9,#T_7eb6a_row6_col4,#T_7eb6a_row6_col12,#T_7eb6a_row12_col18{\n",
       "            background-color:  #c0d4f5;\n",
       "            color:  #000000;\n",
       "        }#T_7eb6a_row2_col10,#T_7eb6a_row3_col11,#T_7eb6a_row10_col6{\n",
       "            background-color:  #98b9ff;\n",
       "            color:  #000000;\n",
       "        }#T_7eb6a_row2_col11,#T_7eb6a_row7_col5{\n",
       "            background-color:  #92b4fe;\n",
       "            color:  #000000;\n",
       "        }#T_7eb6a_row2_col12,#T_7eb6a_row16_col10{\n",
       "            background-color:  #96b7ff;\n",
       "            color:  #000000;\n",
       "        }#T_7eb6a_row2_col14,#T_7eb6a_row7_col6,#T_7eb6a_row8_col2,#T_7eb6a_row8_col4,#T_7eb6a_row16_col11{\n",
       "            background-color:  #aec9fc;\n",
       "            color:  #000000;\n",
       "        }#T_7eb6a_row2_col16,#T_7eb6a_row18_col13{\n",
       "            background-color:  #cedaeb;\n",
       "            color:  #000000;\n",
       "        }#T_7eb6a_row2_col17,#T_7eb6a_row10_col18{\n",
       "            background-color:  #a6c4fe;\n",
       "            color:  #000000;\n",
       "        }#T_7eb6a_row2_col18,#T_7eb6a_row11_col13,#T_7eb6a_row13_col3{\n",
       "            background-color:  #cfdaea;\n",
       "            color:  #000000;\n",
       "        }#T_7eb6a_row3_col0,#T_7eb6a_row9_col0,#T_7eb6a_row16_col0{\n",
       "            background-color:  #465ecf;\n",
       "            color:  #f1f1f1;\n",
       "        }#T_7eb6a_row3_col1,#T_7eb6a_row16_col15,#T_7eb6a_row17_col15{\n",
       "            background-color:  #f2c9b4;\n",
       "            color:  #000000;\n",
       "        }#T_7eb6a_row3_col2{\n",
       "            background-color:  #f7b79b;\n",
       "            color:  #000000;\n",
       "        }#T_7eb6a_row3_col4,#T_7eb6a_row15_col16{\n",
       "            background-color:  #f1ccb8;\n",
       "            color:  #000000;\n",
       "        }#T_7eb6a_row3_col5,#T_7eb6a_row5_col3{\n",
       "            background-color:  #e0654f;\n",
       "            color:  #000000;\n",
       "        }#T_7eb6a_row3_col6,#T_7eb6a_row11_col15,#T_7eb6a_row11_col18,#T_7eb6a_row13_col5{\n",
       "            background-color:  #dbdcde;\n",
       "            color:  #000000;\n",
       "        }#T_7eb6a_row3_col7,#T_7eb6a_row7_col18{\n",
       "            background-color:  #85a8fc;\n",
       "            color:  #000000;\n",
       "        }#T_7eb6a_row3_col8,#T_7eb6a_row5_col11,#T_7eb6a_row6_col1,#T_7eb6a_row10_col15,#T_7eb6a_row11_col3{\n",
       "            background-color:  #bbd1f8;\n",
       "            color:  #000000;\n",
       "        }#T_7eb6a_row3_col9,#T_7eb6a_row8_col6,#T_7eb6a_row9_col3,#T_7eb6a_row14_col16,#T_7eb6a_row18_col6{\n",
       "            background-color:  #dcdddd;\n",
       "            color:  #000000;\n",
       "        }#T_7eb6a_row3_col10{\n",
       "            background-color:  #90b2fe;\n",
       "            color:  #000000;\n",
       "        }#T_7eb6a_row3_col12{\n",
       "            background-color:  #9dbdff;\n",
       "            color:  #000000;\n",
       "        }#T_7eb6a_row3_col13,#T_7eb6a_row9_col1{\n",
       "            background-color:  #bad0f8;\n",
       "            color:  #000000;\n",
       "        }#T_7eb6a_row3_col14,#T_7eb6a_row8_col12,#T_7eb6a_row10_col5,#T_7eb6a_row12_col13,#T_7eb6a_row16_col13{\n",
       "            background-color:  #b6cefa;\n",
       "            color:  #000000;\n",
       "        }#T_7eb6a_row3_col16,#T_7eb6a_row9_col18,#T_7eb6a_row14_col5,#T_7eb6a_row16_col3{\n",
       "            background-color:  #e6d7cf;\n",
       "            color:  #000000;\n",
       "        }#T_7eb6a_row3_col18,#T_7eb6a_row18_col9{\n",
       "            background-color:  #ebd3c6;\n",
       "            color:  #000000;\n",
       "        }#T_7eb6a_row4_col0{\n",
       "            background-color:  #6788ee;\n",
       "            color:  #000000;\n",
       "        }#T_7eb6a_row4_col1{\n",
       "            background-color:  #e9d5cb;\n",
       "            color:  #000000;\n",
       "        }#T_7eb6a_row4_col5{\n",
       "            background-color:  #e97a5f;\n",
       "            color:  #000000;\n",
       "        }#T_7eb6a_row4_col6,#T_7eb6a_row6_col2,#T_7eb6a_row10_col11,#T_7eb6a_row11_col9{\n",
       "            background-color:  #d7dce3;\n",
       "            color:  #000000;\n",
       "        }#T_7eb6a_row4_col7,#T_7eb6a_row6_col11{\n",
       "            background-color:  #84a7fc;\n",
       "            color:  #000000;\n",
       "        }#T_7eb6a_row4_col10,#T_7eb6a_row7_col14{\n",
       "            background-color:  #6a8bef;\n",
       "            color:  #000000;\n",
       "        }#T_7eb6a_row4_col11,#T_7eb6a_row7_col12{\n",
       "            background-color:  #97b8ff;\n",
       "            color:  #000000;\n",
       "        }#T_7eb6a_row4_col12{\n",
       "            background-color:  #b2ccfb;\n",
       "            color:  #000000;\n",
       "        }#T_7eb6a_row4_col14,#T_7eb6a_row6_col13,#T_7eb6a_row8_col13,#T_7eb6a_row12_col1,#T_7eb6a_row14_col4,#T_7eb6a_row16_col12{\n",
       "            background-color:  #b7cff9;\n",
       "            color:  #000000;\n",
       "        }#T_7eb6a_row4_col17,#T_7eb6a_row6_col3,#T_7eb6a_row8_col14,#T_7eb6a_row13_col18,#T_7eb6a_row17_col8{\n",
       "            background-color:  #d8dce2;\n",
       "            color:  #000000;\n",
       "        }#T_7eb6a_row5_col0{\n",
       "            background-color:  #4b64d5;\n",
       "            color:  #f1f1f1;\n",
       "        }#T_7eb6a_row5_col1{\n",
       "            background-color:  #e67259;\n",
       "            color:  #000000;\n",
       "        }#T_7eb6a_row5_col2{\n",
       "            background-color:  #e9785d;\n",
       "            color:  #000000;\n",
       "        }#T_7eb6a_row5_col4{\n",
       "            background-color:  #ec8165;\n",
       "            color:  #000000;\n",
       "        }#T_7eb6a_row5_col6,#T_7eb6a_row14_col15{\n",
       "            background-color:  #e7d7ce;\n",
       "            color:  #000000;\n",
       "        }#T_7eb6a_row5_col7,#T_7eb6a_row10_col12{\n",
       "            background-color:  #81a4fb;\n",
       "            color:  #000000;\n",
       "        }#T_7eb6a_row5_col9,#T_7eb6a_row14_col1,#T_7eb6a_row14_col8{\n",
       "            background-color:  #e4d9d2;\n",
       "            color:  #000000;\n",
       "        }#T_7eb6a_row5_col10,#T_7eb6a_row10_col16,#T_7eb6a_row15_col13{\n",
       "            background-color:  #a9c6fd;\n",
       "            color:  #000000;\n",
       "        }#T_7eb6a_row5_col13,#T_7eb6a_row14_col2,#T_7eb6a_row15_col2,#T_7eb6a_row17_col2{\n",
       "            background-color:  #cdd9ec;\n",
       "            color:  #000000;\n",
       "        }#T_7eb6a_row5_col14,#T_7eb6a_row8_col18,#T_7eb6a_row9_col14,#T_7eb6a_row15_col1{\n",
       "            background-color:  #d9dce1;\n",
       "            color:  #000000;\n",
       "        }#T_7eb6a_row5_col16{\n",
       "            background-color:  #f5c1a9;\n",
       "            color:  #000000;\n",
       "        }#T_7eb6a_row5_col17,#T_7eb6a_row17_col3,#T_7eb6a_row17_col9{\n",
       "            background-color:  #e1dad6;\n",
       "            color:  #000000;\n",
       "        }#T_7eb6a_row5_col18{\n",
       "            background-color:  #f7ba9f;\n",
       "            color:  #000000;\n",
       "        }#T_7eb6a_row6_col0{\n",
       "            background-color:  #3f53c6;\n",
       "            color:  #f1f1f1;\n",
       "        }#T_7eb6a_row6_col7,#T_7eb6a_row12_col17{\n",
       "            background-color:  #94b6ff;\n",
       "            color:  #000000;\n",
       "        }#T_7eb6a_row6_col9{\n",
       "            background-color:  #f08b6e;\n",
       "            color:  #000000;\n",
       "        }#T_7eb6a_row6_col10,#T_7eb6a_row8_col10,#T_7eb6a_row18_col7{\n",
       "            background-color:  #7da0f9;\n",
       "            color:  #000000;\n",
       "        }#T_7eb6a_row6_col14{\n",
       "            background-color:  #b1cbfc;\n",
       "            color:  #000000;\n",
       "        }#T_7eb6a_row6_col15,#T_7eb6a_row11_col5,#T_7eb6a_row15_col6,#T_7eb6a_row17_col1{\n",
       "            background-color:  #d4dbe6;\n",
       "            color:  #000000;\n",
       "        }#T_7eb6a_row6_col18,#T_7eb6a_row11_col1,#T_7eb6a_row11_col12,#T_7eb6a_row13_col6,#T_7eb6a_row17_col6{\n",
       "            background-color:  #d2dbe8;\n",
       "            color:  #000000;\n",
       "        }#T_7eb6a_row7_col0,#T_7eb6a_row11_col7,#T_7eb6a_row13_col0,#T_7eb6a_row14_col0{\n",
       "            background-color:  #688aef;\n",
       "            color:  #000000;\n",
       "        }#T_7eb6a_row7_col1,#T_7eb6a_row17_col0{\n",
       "            background-color:  #7597f6;\n",
       "            color:  #000000;\n",
       "        }#T_7eb6a_row7_col2{\n",
       "            background-color:  #80a3fa;\n",
       "            color:  #000000;\n",
       "        }#T_7eb6a_row7_col3{\n",
       "            background-color:  #9abbff;\n",
       "            color:  #000000;\n",
       "        }#T_7eb6a_row7_col4{\n",
       "            background-color:  #7a9df8;\n",
       "            color:  #000000;\n",
       "        }#T_7eb6a_row7_col8{\n",
       "            background-color:  #8db0fe;\n",
       "            color:  #000000;\n",
       "        }#T_7eb6a_row7_col9{\n",
       "            background-color:  #f2cab5;\n",
       "            color:  #000000;\n",
       "        }#T_7eb6a_row7_col11{\n",
       "            background-color:  #536edd;\n",
       "            color:  #000000;\n",
       "        }#T_7eb6a_row7_col13{\n",
       "            background-color:  #7093f3;\n",
       "            color:  #000000;\n",
       "        }#T_7eb6a_row7_col16,#T_7eb6a_row10_col9{\n",
       "            background-color:  #8fb1fe;\n",
       "            color:  #000000;\n",
       "        }#T_7eb6a_row7_col17,#T_7eb6a_row10_col13,#T_7eb6a_row18_col0{\n",
       "            background-color:  #5470de;\n",
       "            color:  #000000;\n",
       "        }#T_7eb6a_row8_col0{\n",
       "            background-color:  #4c66d6;\n",
       "            color:  #000000;\n",
       "        }#T_7eb6a_row8_col1{\n",
       "            background-color:  #9ebeff;\n",
       "            color:  #000000;\n",
       "        }#T_7eb6a_row8_col3,#T_7eb6a_row11_col2,#T_7eb6a_row12_col5,#T_7eb6a_row15_col11{\n",
       "            background-color:  #bfd3f6;\n",
       "            color:  #000000;\n",
       "        }#T_7eb6a_row8_col7{\n",
       "            background-color:  #7ea1fa;\n",
       "            color:  #000000;\n",
       "        }#T_7eb6a_row8_col15,#T_7eb6a_row12_col8,#T_7eb6a_row15_col12{\n",
       "            background-color:  #b9d0f9;\n",
       "            color:  #000000;\n",
       "        }#T_7eb6a_row8_col16{\n",
       "            background-color:  #d6dce4;\n",
       "            color:  #000000;\n",
       "        }#T_7eb6a_row9_col2,#T_7eb6a_row10_col1,#T_7eb6a_row13_col12{\n",
       "            background-color:  #c7d7f0;\n",
       "            color:  #000000;\n",
       "        }#T_7eb6a_row9_col4,#T_7eb6a_row9_col13,#T_7eb6a_row13_col16,#T_7eb6a_row14_col3,#T_7eb6a_row14_col6,#T_7eb6a_row14_col17,#T_7eb6a_row18_col11{\n",
       "            background-color:  #ccd9ed;\n",
       "            color:  #000000;\n",
       "        }#T_7eb6a_row9_col6{\n",
       "            background-color:  #f08a6c;\n",
       "            color:  #000000;\n",
       "        }#T_7eb6a_row9_col7,#T_7eb6a_row18_col1,#T_7eb6a_row18_col4{\n",
       "            background-color:  #edd1c2;\n",
       "            color:  #000000;\n",
       "        }#T_7eb6a_row9_col8{\n",
       "            background-color:  #e57058;\n",
       "            color:  #000000;\n",
       "        }#T_7eb6a_row9_col10,#T_7eb6a_row16_col7{\n",
       "            background-color:  #799cf8;\n",
       "            color:  #000000;\n",
       "        }#T_7eb6a_row9_col11,#T_7eb6a_row12_col16,#T_7eb6a_row17_col11{\n",
       "            background-color:  #bed2f6;\n",
       "            color:  #000000;\n",
       "        }#T_7eb6a_row9_col12,#T_7eb6a_row15_col9{\n",
       "            background-color:  #d1dae9;\n",
       "            color:  #000000;\n",
       "        }#T_7eb6a_row9_col17,#T_7eb6a_row12_col6,#T_7eb6a_row13_col8,#T_7eb6a_row16_col6{\n",
       "            background-color:  #cad8ef;\n",
       "            color:  #000000;\n",
       "        }#T_7eb6a_row10_col0{\n",
       "            background-color:  #6687ed;\n",
       "            color:  #000000;\n",
       "        }#T_7eb6a_row10_col2{\n",
       "            background-color:  #b5cdfa;\n",
       "            color:  #000000;\n",
       "        }#T_7eb6a_row10_col3,#T_7eb6a_row12_col3,#T_7eb6a_row15_col10{\n",
       "            background-color:  #a3c2fe;\n",
       "            color:  #000000;\n",
       "        }#T_7eb6a_row10_col4{\n",
       "            background-color:  #5f7fe8;\n",
       "            color:  #000000;\n",
       "        }#T_7eb6a_row10_col8{\n",
       "            background-color:  #8caffe;\n",
       "            color:  #000000;\n",
       "        }#T_7eb6a_row10_col17,#T_7eb6a_row12_col10{\n",
       "            background-color:  #7295f4;\n",
       "            color:  #000000;\n",
       "        }#T_7eb6a_row11_col0,#T_7eb6a_row14_col7{\n",
       "            background-color:  #7396f5;\n",
       "            color:  #000000;\n",
       "        }#T_7eb6a_row11_col4{\n",
       "            background-color:  #a1c0ff;\n",
       "            color:  #000000;\n",
       "        }#T_7eb6a_row11_col10{\n",
       "            background-color:  #e0dbd8;\n",
       "            color:  #000000;\n",
       "        }#T_7eb6a_row11_col14,#T_7eb6a_row14_col11{\n",
       "            background-color:  #c83836;\n",
       "            color:  #f1f1f1;\n",
       "        }#T_7eb6a_row12_col0{\n",
       "            background-color:  #4f69d9;\n",
       "            color:  #000000;\n",
       "        }#T_7eb6a_row12_col2{\n",
       "            background-color:  #a7c5fe;\n",
       "            color:  #000000;\n",
       "        }#T_7eb6a_row12_col7{\n",
       "            background-color:  #89acfd;\n",
       "            color:  #000000;\n",
       "        }#T_7eb6a_row12_col14{\n",
       "            background-color:  #f4c6af;\n",
       "            color:  #000000;\n",
       "        }#T_7eb6a_row13_col7{\n",
       "            background-color:  #7b9ff9;\n",
       "            color:  #000000;\n",
       "        }#T_7eb6a_row13_col10{\n",
       "            background-color:  #5e7de7;\n",
       "            color:  #000000;\n",
       "        }#T_7eb6a_row13_col11,#T_7eb6a_row15_col4,#T_7eb6a_row17_col13{\n",
       "            background-color:  #c9d7f0;\n",
       "            color:  #000000;\n",
       "        }#T_7eb6a_row13_col15{\n",
       "            background-color:  #c6d6f1;\n",
       "            color:  #000000;\n",
       "        }#T_7eb6a_row14_col9{\n",
       "            background-color:  #e8d6cc;\n",
       "            color:  #000000;\n",
       "        }#T_7eb6a_row14_col10{\n",
       "            background-color:  #f1cdba;\n",
       "            color:  #000000;\n",
       "        }#T_7eb6a_row14_col18{\n",
       "            background-color:  #ead4c8;\n",
       "            color:  #000000;\n",
       "        }#T_7eb6a_row15_col0{\n",
       "            background-color:  #3e51c5;\n",
       "            color:  #f1f1f1;\n",
       "        }#T_7eb6a_row15_col3{\n",
       "            background-color:  #dadce0;\n",
       "            color:  #000000;\n",
       "        }#T_7eb6a_row15_col5{\n",
       "            background-color:  #ead5c9;\n",
       "            color:  #000000;\n",
       "        }#T_7eb6a_row15_col7{\n",
       "            background-color:  #82a6fb;\n",
       "            color:  #000000;\n",
       "        }#T_7eb6a_row15_col8{\n",
       "            background-color:  #adc9fd;\n",
       "            color:  #000000;\n",
       "        }#T_7eb6a_row15_col18{\n",
       "            background-color:  #f39577;\n",
       "            color:  #000000;\n",
       "        }#T_7eb6a_row16_col1{\n",
       "            background-color:  #edd2c3;\n",
       "            color:  #000000;\n",
       "        }#T_7eb6a_row16_col5{\n",
       "            background-color:  #f5c2aa;\n",
       "            color:  #000000;\n",
       "        }#T_7eb6a_row16_col8,#T_7eb6a_row17_col14{\n",
       "            background-color:  #d3dbe7;\n",
       "            color:  #000000;\n",
       "        }#T_7eb6a_row16_col9{\n",
       "            background-color:  #dfdbd9;\n",
       "            color:  #000000;\n",
       "        }#T_7eb6a_row16_col17{\n",
       "            background-color:  #f7b497;\n",
       "            color:  #000000;\n",
       "        }#T_7eb6a_row16_col18{\n",
       "            background-color:  #d95847;\n",
       "            color:  #000000;\n",
       "        }#T_7eb6a_row17_col5,#T_7eb6a_row18_col3{\n",
       "            background-color:  #efcfbf;\n",
       "            color:  #000000;\n",
       "        }#T_7eb6a_row17_col7{\n",
       "            background-color:  #6b8df0;\n",
       "            color:  #000000;\n",
       "        }#T_7eb6a_row17_col10{\n",
       "            background-color:  #88abfd;\n",
       "            color:  #000000;\n",
       "        }#T_7eb6a_row17_col12{\n",
       "            background-color:  #b3cdfb;\n",
       "            color:  #000000;\n",
       "        }#T_7eb6a_row17_col16{\n",
       "            background-color:  #f6a385;\n",
       "            color:  #000000;\n",
       "        }#T_7eb6a_row17_col18{\n",
       "            background-color:  #d0473d;\n",
       "            color:  #f1f1f1;\n",
       "        }#T_7eb6a_row18_col5{\n",
       "            background-color:  #f7b89c;\n",
       "            color:  #000000;\n",
       "        }#T_7eb6a_row18_col15{\n",
       "            background-color:  #f18d6f;\n",
       "            color:  #000000;\n",
       "        }#T_7eb6a_row18_col16{\n",
       "            background-color:  #d75445;\n",
       "            color:  #000000;\n",
       "        }#T_7eb6a_row18_col17{\n",
       "            background-color:  #d24b40;\n",
       "            color:  #f1f1f1;\n",
       "        }</style><table id=\"T_7eb6a_\" ><thead>    <tr>        <th class=\"blank level0\" ></th>        <th class=\"col_heading level0 col0\" >Student ID</th>        <th class=\"col_heading level0 col1\" >Chem.CA</th>        <th class=\"col_heading level0 col2\" >Chem.TEST1</th>        <th class=\"col_heading level0 col3\" >Chem.TEST2</th>        <th class=\"col_heading level0 col4\" >Chem.TEST3</th>        <th class=\"col_heading level0 col5\" >Chem.SemMark</th>        <th class=\"col_heading level0 col6\" >Physics.CA1</th>        <th class=\"col_heading level0 col7\" >Physics.CA2</th>        <th class=\"col_heading level0 col8\" >Physics.ASG1</th>        <th class=\"col_heading level0 col9\" >Physics.SemMark</th>        <th class=\"col_heading level0 col10\" >English.ASG1</th>        <th class=\"col_heading level0 col11\" >English.ASG2</th>        <th class=\"col_heading level0 col12\" >English.CA1</th>        <th class=\"col_heading level0 col13\" >English.CA2</th>        <th class=\"col_heading level0 col14\" >English.SemMark</th>        <th class=\"col_heading level0 col15\" >Geo.CA1</th>        <th class=\"col_heading level0 col16\" >Geo.CA2</th>        <th class=\"col_heading level0 col17\" >Geo.ASG1</th>        <th class=\"col_heading level0 col18\" >Geo.SemMark</th>    </tr></thead><tbody>\n",
       "                <tr>\n",
       "                        <th id=\"T_7eb6a_level0_row0\" class=\"row_heading level0 row0\" >Student ID</th>\n",
       "                        <td id=\"T_7eb6a_row0_col0\" class=\"data row0 col0\" >1.000000</td>\n",
       "                        <td id=\"T_7eb6a_row0_col1\" class=\"data row0 col1\" >-0.071423</td>\n",
       "                        <td id=\"T_7eb6a_row0_col2\" class=\"data row0 col2\" >-0.179694</td>\n",
       "                        <td id=\"T_7eb6a_row0_col3\" class=\"data row0 col3\" >-0.129839</td>\n",
       "                        <td id=\"T_7eb6a_row0_col4\" class=\"data row0 col4\" >-0.009241</td>\n",
       "                        <td id=\"T_7eb6a_row0_col5\" class=\"data row0 col5\" >-0.112572</td>\n",
       "                        <td id=\"T_7eb6a_row0_col6\" class=\"data row0 col6\" >-0.161187</td>\n",
       "                        <td id=\"T_7eb6a_row0_col7\" class=\"data row0 col7\" >-0.007232</td>\n",
       "                        <td id=\"T_7eb6a_row0_col8\" class=\"data row0 col8\" >-0.106910</td>\n",
       "                        <td id=\"T_7eb6a_row0_col9\" class=\"data row0 col9\" >-0.133152</td>\n",
       "                        <td id=\"T_7eb6a_row0_col10\" class=\"data row0 col10\" >-0.016303</td>\n",
       "                        <td id=\"T_7eb6a_row0_col11\" class=\"data row0 col11\" >0.029588</td>\n",
       "                        <td id=\"T_7eb6a_row0_col12\" class=\"data row0 col12\" >-0.099109</td>\n",
       "                        <td id=\"T_7eb6a_row0_col13\" class=\"data row0 col13\" >-0.006569</td>\n",
       "                        <td id=\"T_7eb6a_row0_col14\" class=\"data row0 col14\" >-0.007759</td>\n",
       "                        <td id=\"T_7eb6a_row0_col15\" class=\"data row0 col15\" >-0.164903</td>\n",
       "                        <td id=\"T_7eb6a_row0_col16\" class=\"data row0 col16\" >-0.131094</td>\n",
       "                        <td id=\"T_7eb6a_row0_col17\" class=\"data row0 col17\" >0.032814</td>\n",
       "                        <td id=\"T_7eb6a_row0_col18\" class=\"data row0 col18\" >-0.078348</td>\n",
       "            </tr>\n",
       "            <tr>\n",
       "                        <th id=\"T_7eb6a_level0_row1\" class=\"row_heading level0 row1\" >Chem.CA</th>\n",
       "                        <td id=\"T_7eb6a_row1_col0\" class=\"data row1 col0\" >-0.071423</td>\n",
       "                        <td id=\"T_7eb6a_row1_col1\" class=\"data row1 col1\" >1.000000</td>\n",
       "                        <td id=\"T_7eb6a_row1_col2\" class=\"data row1 col2\" >0.572687</td>\n",
       "                        <td id=\"T_7eb6a_row1_col3\" class=\"data row1 col3\" >0.580479</td>\n",
       "                        <td id=\"T_7eb6a_row1_col4\" class=\"data row1 col4\" >0.516797</td>\n",
       "                        <td id=\"T_7eb6a_row1_col5\" class=\"data row1 col5\" >0.827344</td>\n",
       "                        <td id=\"T_7eb6a_row1_col6\" class=\"data row1 col6\" >0.342517</td>\n",
       "                        <td id=\"T_7eb6a_row1_col7\" class=\"data row1 col7\" >0.124021</td>\n",
       "                        <td id=\"T_7eb6a_row1_col8\" class=\"data row1 col8\" >0.247153</td>\n",
       "                        <td id=\"T_7eb6a_row1_col9\" class=\"data row1 col9\" >0.336273</td>\n",
       "                        <td id=\"T_7eb6a_row1_col10\" class=\"data row1 col10\" >0.384577</td>\n",
       "                        <td id=\"T_7eb6a_row1_col11\" class=\"data row1 col11\" >0.421255</td>\n",
       "                        <td id=\"T_7eb6a_row1_col12\" class=\"data row1 col12\" >0.330114</td>\n",
       "                        <td id=\"T_7eb6a_row1_col13\" class=\"data row1 col13\" >0.344738</td>\n",
       "                        <td id=\"T_7eb6a_row1_col14\" class=\"data row1 col14\" >0.497059</td>\n",
       "                        <td id=\"T_7eb6a_row1_col15\" class=\"data row1 col15\" >0.449091</td>\n",
       "                        <td id=\"T_7eb6a_row1_col16\" class=\"data row1 col16\" >0.535758</td>\n",
       "                        <td id=\"T_7eb6a_row1_col17\" class=\"data row1 col17\" >0.427556</td>\n",
       "                        <td id=\"T_7eb6a_row1_col18\" class=\"data row1 col18\" >0.542817</td>\n",
       "            </tr>\n",
       "            <tr>\n",
       "                        <th id=\"T_7eb6a_level0_row2\" class=\"row_heading level0 row2\" >Chem.TEST1</th>\n",
       "                        <td id=\"T_7eb6a_row2_col0\" class=\"data row2 col0\" >-0.179694</td>\n",
       "                        <td id=\"T_7eb6a_row2_col1\" class=\"data row2 col1\" >0.572687</td>\n",
       "                        <td id=\"T_7eb6a_row2_col2\" class=\"data row2 col2\" >1.000000</td>\n",
       "                        <td id=\"T_7eb6a_row2_col3\" class=\"data row2 col3\" >0.611084</td>\n",
       "                        <td id=\"T_7eb6a_row2_col4\" class=\"data row2 col4\" >0.499642</td>\n",
       "                        <td id=\"T_7eb6a_row2_col5\" class=\"data row2 col5\" >0.795689</td>\n",
       "                        <td id=\"T_7eb6a_row2_col6\" class=\"data row2 col6\" >0.383364</td>\n",
       "                        <td id=\"T_7eb6a_row2_col7\" class=\"data row2 col7\" >0.071335</td>\n",
       "                        <td id=\"T_7eb6a_row2_col8\" class=\"data row2 col8\" >0.229110</td>\n",
       "                        <td id=\"T_7eb6a_row2_col9\" class=\"data row2 col9\" >0.320264</td>\n",
       "                        <td id=\"T_7eb6a_row2_col10\" class=\"data row2 col10\" >0.251368</td>\n",
       "                        <td id=\"T_7eb6a_row2_col11\" class=\"data row2 col11\" >0.287222</td>\n",
       "                        <td id=\"T_7eb6a_row2_col12\" class=\"data row2 col12\" >0.205075</td>\n",
       "                        <td id=\"T_7eb6a_row2_col13\" class=\"data row2 col13\" >0.297750</td>\n",
       "                        <td id=\"T_7eb6a_row2_col14\" class=\"data row2 col14\" >0.341196</td>\n",
       "                        <td id=\"T_7eb6a_row2_col15\" class=\"data row2 col15\" >0.344569</td>\n",
       "                        <td id=\"T_7eb6a_row2_col16\" class=\"data row2 col16\" >0.376398</td>\n",
       "                        <td id=\"T_7eb6a_row2_col17\" class=\"data row2 col17\" >0.344261</td>\n",
       "                        <td id=\"T_7eb6a_row2_col18\" class=\"data row2 col18\" >0.410208</td>\n",
       "            </tr>\n",
       "            <tr>\n",
       "                        <th id=\"T_7eb6a_level0_row3\" class=\"row_heading level0 row3\" >Chem.TEST2</th>\n",
       "                        <td id=\"T_7eb6a_row3_col0\" class=\"data row3 col0\" >-0.129839</td>\n",
       "                        <td id=\"T_7eb6a_row3_col1\" class=\"data row3 col1\" >0.580479</td>\n",
       "                        <td id=\"T_7eb6a_row3_col2\" class=\"data row3 col2\" >0.611084</td>\n",
       "                        <td id=\"T_7eb6a_row3_col3\" class=\"data row3 col3\" >1.000000</td>\n",
       "                        <td id=\"T_7eb6a_row3_col4\" class=\"data row3 col4\" >0.593755</td>\n",
       "                        <td id=\"T_7eb6a_row3_col5\" class=\"data row3 col5\" >0.848407</td>\n",
       "                        <td id=\"T_7eb6a_row3_col6\" class=\"data row3 col6\" >0.413835</td>\n",
       "                        <td id=\"T_7eb6a_row3_col7\" class=\"data row3 col7\" >0.194468</td>\n",
       "                        <td id=\"T_7eb6a_row3_col8\" class=\"data row3 col8\" >0.319154</td>\n",
       "                        <td id=\"T_7eb6a_row3_col9\" class=\"data row3 col9\" >0.431067</td>\n",
       "                        <td id=\"T_7eb6a_row3_col10\" class=\"data row3 col10\" >0.227154</td>\n",
       "                        <td id=\"T_7eb6a_row3_col11\" class=\"data row3 col11\" >0.302688</td>\n",
       "                        <td id=\"T_7eb6a_row3_col12\" class=\"data row3 col12\" >0.225865</td>\n",
       "                        <td id=\"T_7eb6a_row3_col13\" class=\"data row3 col13\" >0.377765</td>\n",
       "                        <td id=\"T_7eb6a_row3_col14\" class=\"data row3 col14\" >0.364990</td>\n",
       "                        <td id=\"T_7eb6a_row3_col15\" class=\"data row3 col15\" >0.425354</td>\n",
       "                        <td id=\"T_7eb6a_row3_col16\" class=\"data row3 col16\" >0.475032</td>\n",
       "                        <td id=\"T_7eb6a_row3_col17\" class=\"data row3 col17\" >0.453319</td>\n",
       "                        <td id=\"T_7eb6a_row3_col18\" class=\"data row3 col18\" >0.525138</td>\n",
       "            </tr>\n",
       "            <tr>\n",
       "                        <th id=\"T_7eb6a_level0_row4\" class=\"row_heading level0 row4\" >Chem.TEST3</th>\n",
       "                        <td id=\"T_7eb6a_row4_col0\" class=\"data row4 col0\" >-0.009241</td>\n",
       "                        <td id=\"T_7eb6a_row4_col1\" class=\"data row4 col1\" >0.516797</td>\n",
       "                        <td id=\"T_7eb6a_row4_col2\" class=\"data row4 col2\" >0.499642</td>\n",
       "                        <td id=\"T_7eb6a_row4_col3\" class=\"data row4 col3\" >0.593755</td>\n",
       "                        <td id=\"T_7eb6a_row4_col4\" class=\"data row4 col4\" >1.000000</td>\n",
       "                        <td id=\"T_7eb6a_row4_col5\" class=\"data row4 col5\" >0.803668</td>\n",
       "                        <td id=\"T_7eb6a_row4_col6\" class=\"data row4 col6\" >0.396606</td>\n",
       "                        <td id=\"T_7eb6a_row4_col7\" class=\"data row4 col7\" >0.190149</td>\n",
       "                        <td id=\"T_7eb6a_row4_col8\" class=\"data row4 col8\" >0.340047</td>\n",
       "                        <td id=\"T_7eb6a_row4_col9\" class=\"data row4 col9\" >0.435447</td>\n",
       "                        <td id=\"T_7eb6a_row4_col10\" class=\"data row4 col10\" >0.112295</td>\n",
       "                        <td id=\"T_7eb6a_row4_col11\" class=\"data row4 col11\" >0.301734</td>\n",
       "                        <td id=\"T_7eb6a_row4_col12\" class=\"data row4 col12\" >0.295249</td>\n",
       "                        <td id=\"T_7eb6a_row4_col13\" class=\"data row4 col13\" >0.412119</td>\n",
       "                        <td id=\"T_7eb6a_row4_col14\" class=\"data row4 col14\" >0.367236</td>\n",
       "                        <td id=\"T_7eb6a_row4_col15\" class=\"data row4 col15\" >0.421361</td>\n",
       "                        <td id=\"T_7eb6a_row4_col16\" class=\"data row4 col16\" >0.520762</td>\n",
       "                        <td id=\"T_7eb6a_row4_col17\" class=\"data row4 col17\" >0.501269</td>\n",
       "                        <td id=\"T_7eb6a_row4_col18\" class=\"data row4 col18\" >0.566657</td>\n",
       "            </tr>\n",
       "            <tr>\n",
       "                        <th id=\"T_7eb6a_level0_row5\" class=\"row_heading level0 row5\" >Chem.SemMark</th>\n",
       "                        <td id=\"T_7eb6a_row5_col0\" class=\"data row5 col0\" >-0.112572</td>\n",
       "                        <td id=\"T_7eb6a_row5_col1\" class=\"data row5 col1\" >0.827344</td>\n",
       "                        <td id=\"T_7eb6a_row5_col2\" class=\"data row5 col2\" >0.795689</td>\n",
       "                        <td id=\"T_7eb6a_row5_col3\" class=\"data row5 col3\" >0.848407</td>\n",
       "                        <td id=\"T_7eb6a_row5_col4\" class=\"data row5 col4\" >0.803668</td>\n",
       "                        <td id=\"T_7eb6a_row5_col5\" class=\"data row5 col5\" >1.000000</td>\n",
       "                        <td id=\"T_7eb6a_row5_col6\" class=\"data row5 col6\" >0.467679</td>\n",
       "                        <td id=\"T_7eb6a_row5_col7\" class=\"data row5 col7\" >0.180726</td>\n",
       "                        <td id=\"T_7eb6a_row5_col8\" class=\"data row5 col8\" >0.348149</td>\n",
       "                        <td id=\"T_7eb6a_row5_col9\" class=\"data row5 col9\" >0.466762</td>\n",
       "                        <td id=\"T_7eb6a_row5_col10\" class=\"data row5 col10\" >0.299916</td>\n",
       "                        <td id=\"T_7eb6a_row5_col11\" class=\"data row5 col11\" >0.404721</td>\n",
       "                        <td id=\"T_7eb6a_row5_col12\" class=\"data row5 col12\" >0.326750</td>\n",
       "                        <td id=\"T_7eb6a_row5_col13\" class=\"data row5 col13\" >0.438256</td>\n",
       "                        <td id=\"T_7eb6a_row5_col14\" class=\"data row5 col14\" >0.483782</td>\n",
       "                        <td id=\"T_7eb6a_row5_col15\" class=\"data row5 col15\" >0.504553</td>\n",
       "                        <td id=\"T_7eb6a_row5_col16\" class=\"data row5 col16\" >0.588411</td>\n",
       "                        <td id=\"T_7eb6a_row5_col17\" class=\"data row5 col17\" >0.531562</td>\n",
       "                        <td id=\"T_7eb6a_row5_col18\" class=\"data row5 col18\" >0.629858</td>\n",
       "            </tr>\n",
       "            <tr>\n",
       "                        <th id=\"T_7eb6a_level0_row6\" class=\"row_heading level0 row6\" >Physics.CA1</th>\n",
       "                        <td id=\"T_7eb6a_row6_col0\" class=\"data row6 col0\" >-0.161187</td>\n",
       "                        <td id=\"T_7eb6a_row6_col1\" class=\"data row6 col1\" >0.342517</td>\n",
       "                        <td id=\"T_7eb6a_row6_col2\" class=\"data row6 col2\" >0.383364</td>\n",
       "                        <td id=\"T_7eb6a_row6_col3\" class=\"data row6 col3\" >0.413835</td>\n",
       "                        <td id=\"T_7eb6a_row6_col4\" class=\"data row6 col4\" >0.396606</td>\n",
       "                        <td id=\"T_7eb6a_row6_col5\" class=\"data row6 col5\" >0.467679</td>\n",
       "                        <td id=\"T_7eb6a_row6_col6\" class=\"data row6 col6\" >1.000000</td>\n",
       "                        <td id=\"T_7eb6a_row6_col7\" class=\"data row6 col7\" >0.239389</td>\n",
       "                        <td id=\"T_7eb6a_row6_col8\" class=\"data row6 col8\" >0.416074</td>\n",
       "                        <td id=\"T_7eb6a_row6_col9\" class=\"data row6 col9\" >0.754316</td>\n",
       "                        <td id=\"T_7eb6a_row6_col10\" class=\"data row6 col10\" >0.168995</td>\n",
       "                        <td id=\"T_7eb6a_row6_col11\" class=\"data row6 col11\" >0.246286</td>\n",
       "                        <td id=\"T_7eb6a_row6_col12\" class=\"data row6 col12\" >0.341289</td>\n",
       "                        <td id=\"T_7eb6a_row6_col13\" class=\"data row6 col13\" >0.370551</td>\n",
       "                        <td id=\"T_7eb6a_row6_col14\" class=\"data row6 col14\" >0.347191</td>\n",
       "                        <td id=\"T_7eb6a_row6_col15\" class=\"data row6 col15\" >0.379416</td>\n",
       "                        <td id=\"T_7eb6a_row6_col16\" class=\"data row6 col16\" >0.340850</td>\n",
       "                        <td id=\"T_7eb6a_row6_col17\" class=\"data row6 col17\" >0.370017</td>\n",
       "                        <td id=\"T_7eb6a_row6_col18\" class=\"data row6 col18\" >0.418215</td>\n",
       "            </tr>\n",
       "            <tr>\n",
       "                        <th id=\"T_7eb6a_level0_row7\" class=\"row_heading level0 row7\" >Physics.CA2</th>\n",
       "                        <td id=\"T_7eb6a_row7_col0\" class=\"data row7 col0\" >-0.007232</td>\n",
       "                        <td id=\"T_7eb6a_row7_col1\" class=\"data row7 col1\" >0.124021</td>\n",
       "                        <td id=\"T_7eb6a_row7_col2\" class=\"data row7 col2\" >0.071335</td>\n",
       "                        <td id=\"T_7eb6a_row7_col3\" class=\"data row7 col3\" >0.194468</td>\n",
       "                        <td id=\"T_7eb6a_row7_col4\" class=\"data row7 col4\" >0.190149</td>\n",
       "                        <td id=\"T_7eb6a_row7_col5\" class=\"data row7 col5\" >0.180726</td>\n",
       "                        <td id=\"T_7eb6a_row7_col6\" class=\"data row7 col6\" >0.239389</td>\n",
       "                        <td id=\"T_7eb6a_row7_col7\" class=\"data row7 col7\" >1.000000</td>\n",
       "                        <td id=\"T_7eb6a_row7_col8\" class=\"data row7 col8\" >0.172716</td>\n",
       "                        <td id=\"T_7eb6a_row7_col9\" class=\"data row7 col9\" >0.551350</td>\n",
       "                        <td id=\"T_7eb6a_row7_col10\" class=\"data row7 col10\" >-0.044509</td>\n",
       "                        <td id=\"T_7eb6a_row7_col11\" class=\"data row7 col11\" >0.108124</td>\n",
       "                        <td id=\"T_7eb6a_row7_col12\" class=\"data row7 col12\" >0.206763</td>\n",
       "                        <td id=\"T_7eb6a_row7_col13\" class=\"data row7 col13\" >0.164881</td>\n",
       "                        <td id=\"T_7eb6a_row7_col14\" class=\"data row7 col14\" >0.142398</td>\n",
       "                        <td id=\"T_7eb6a_row7_col15\" class=\"data row7 col15\" >0.185564</td>\n",
       "                        <td id=\"T_7eb6a_row7_col16\" class=\"data row7 col16\" >0.156646</td>\n",
       "                        <td id=\"T_7eb6a_row7_col17\" class=\"data row7 col17\" >0.115221</td>\n",
       "                        <td id=\"T_7eb6a_row7_col18\" class=\"data row7 col18\" >0.167979</td>\n",
       "            </tr>\n",
       "            <tr>\n",
       "                        <th id=\"T_7eb6a_level0_row8\" class=\"row_heading level0 row8\" >Physics.ASG1</th>\n",
       "                        <td id=\"T_7eb6a_row8_col0\" class=\"data row8 col0\" >-0.106910</td>\n",
       "                        <td id=\"T_7eb6a_row8_col1\" class=\"data row8 col1\" >0.247153</td>\n",
       "                        <td id=\"T_7eb6a_row8_col2\" class=\"data row8 col2\" >0.229110</td>\n",
       "                        <td id=\"T_7eb6a_row8_col3\" class=\"data row8 col3\" >0.319154</td>\n",
       "                        <td id=\"T_7eb6a_row8_col4\" class=\"data row8 col4\" >0.340047</td>\n",
       "                        <td id=\"T_7eb6a_row8_col5\" class=\"data row8 col5\" >0.348149</td>\n",
       "                        <td id=\"T_7eb6a_row8_col6\" class=\"data row8 col6\" >0.416074</td>\n",
       "                        <td id=\"T_7eb6a_row8_col7\" class=\"data row8 col7\" >0.172716</td>\n",
       "                        <td id=\"T_7eb6a_row8_col8\" class=\"data row8 col8\" >1.000000</td>\n",
       "                        <td id=\"T_7eb6a_row8_col9\" class=\"data row8 col9\" >0.824736</td>\n",
       "                        <td id=\"T_7eb6a_row8_col10\" class=\"data row8 col10\" >0.168934</td>\n",
       "                        <td id=\"T_7eb6a_row8_col11\" class=\"data row8 col11\" >0.450927</td>\n",
       "                        <td id=\"T_7eb6a_row8_col12\" class=\"data row8 col12\" >0.308204</td>\n",
       "                        <td id=\"T_7eb6a_row8_col13\" class=\"data row8 col13\" >0.369174</td>\n",
       "                        <td id=\"T_7eb6a_row8_col14\" class=\"data row8 col14\" >0.478256</td>\n",
       "                        <td id=\"T_7eb6a_row8_col15\" class=\"data row8 col15\" >0.273232</td>\n",
       "                        <td id=\"T_7eb6a_row8_col16\" class=\"data row8 col16\" >0.406594</td>\n",
       "                        <td id=\"T_7eb6a_row8_col17\" class=\"data row8 col17\" >0.428698</td>\n",
       "                        <td id=\"T_7eb6a_row8_col18\" class=\"data row8 col18\" >0.446966</td>\n",
       "            </tr>\n",
       "            <tr>\n",
       "                        <th id=\"T_7eb6a_level0_row9\" class=\"row_heading level0 row9\" >Physics.SemMark</th>\n",
       "                        <td id=\"T_7eb6a_row9_col0\" class=\"data row9 col0\" >-0.133152</td>\n",
       "                        <td id=\"T_7eb6a_row9_col1\" class=\"data row9 col1\" >0.336273</td>\n",
       "                        <td id=\"T_7eb6a_row9_col2\" class=\"data row9 col2\" >0.320264</td>\n",
       "                        <td id=\"T_7eb6a_row9_col3\" class=\"data row9 col3\" >0.431067</td>\n",
       "                        <td id=\"T_7eb6a_row9_col4\" class=\"data row9 col4\" >0.435447</td>\n",
       "                        <td id=\"T_7eb6a_row9_col5\" class=\"data row9 col5\" >0.466762</td>\n",
       "                        <td id=\"T_7eb6a_row9_col6\" class=\"data row9 col6\" >0.754316</td>\n",
       "                        <td id=\"T_7eb6a_row9_col7\" class=\"data row9 col7\" >0.551350</td>\n",
       "                        <td id=\"T_7eb6a_row9_col8\" class=\"data row9 col8\" >0.824736</td>\n",
       "                        <td id=\"T_7eb6a_row9_col9\" class=\"data row9 col9\" >1.000000</td>\n",
       "                        <td id=\"T_7eb6a_row9_col10\" class=\"data row9 col10\" >0.158262</td>\n",
       "                        <td id=\"T_7eb6a_row9_col11\" class=\"data row9 col11\" >0.410831</td>\n",
       "                        <td id=\"T_7eb6a_row9_col12\" class=\"data row9 col12\" >0.401183</td>\n",
       "                        <td id=\"T_7eb6a_row9_col13\" class=\"data row9 col13\" >0.433888</td>\n",
       "                        <td id=\"T_7eb6a_row9_col14\" class=\"data row9 col14\" >0.482196</td>\n",
       "                        <td id=\"T_7eb6a_row9_col15\" class=\"data row9 col15\" >0.383680</td>\n",
       "                        <td id=\"T_7eb6a_row9_col16\" class=\"data row9 col16\" >0.442372</td>\n",
       "                        <td id=\"T_7eb6a_row9_col17\" class=\"data row9 col17\" >0.452135</td>\n",
       "                        <td id=\"T_7eb6a_row9_col18\" class=\"data row9 col18\" >0.501278</td>\n",
       "            </tr>\n",
       "            <tr>\n",
       "                        <th id=\"T_7eb6a_level0_row10\" class=\"row_heading level0 row10\" >English.ASG1</th>\n",
       "                        <td id=\"T_7eb6a_row10_col0\" class=\"data row10 col0\" >-0.016303</td>\n",
       "                        <td id=\"T_7eb6a_row10_col1\" class=\"data row10 col1\" >0.384577</td>\n",
       "                        <td id=\"T_7eb6a_row10_col2\" class=\"data row10 col2\" >0.251368</td>\n",
       "                        <td id=\"T_7eb6a_row10_col3\" class=\"data row10 col3\" >0.227154</td>\n",
       "                        <td id=\"T_7eb6a_row10_col4\" class=\"data row10 col4\" >0.112295</td>\n",
       "                        <td id=\"T_7eb6a_row10_col5\" class=\"data row10 col5\" >0.299916</td>\n",
       "                        <td id=\"T_7eb6a_row10_col6\" class=\"data row10 col6\" >0.168995</td>\n",
       "                        <td id=\"T_7eb6a_row10_col7\" class=\"data row10 col7\" >-0.044509</td>\n",
       "                        <td id=\"T_7eb6a_row10_col8\" class=\"data row10 col8\" >0.168934</td>\n",
       "                        <td id=\"T_7eb6a_row10_col9\" class=\"data row10 col9\" >0.158262</td>\n",
       "                        <td id=\"T_7eb6a_row10_col10\" class=\"data row10 col10\" >1.000000</td>\n",
       "                        <td id=\"T_7eb6a_row10_col11\" class=\"data row10 col11\" >0.493928</td>\n",
       "                        <td id=\"T_7eb6a_row10_col12\" class=\"data row10 col12\" >0.137600</td>\n",
       "                        <td id=\"T_7eb6a_row10_col13\" class=\"data row10 col13\" >0.076263</td>\n",
       "                        <td id=\"T_7eb6a_row10_col14\" class=\"data row10 col14\" >0.574144</td>\n",
       "                        <td id=\"T_7eb6a_row10_col15\" class=\"data row10 col15\" >0.284991</td>\n",
       "                        <td id=\"T_7eb6a_row10_col16\" class=\"data row10 col16\" >0.242986</td>\n",
       "                        <td id=\"T_7eb6a_row10_col17\" class=\"data row10 col17\" >0.200607</td>\n",
       "                        <td id=\"T_7eb6a_row10_col18\" class=\"data row10 col18\" >0.270385</td>\n",
       "            </tr>\n",
       "            <tr>\n",
       "                        <th id=\"T_7eb6a_level0_row11\" class=\"row_heading level0 row11\" >English.ASG2</th>\n",
       "                        <td id=\"T_7eb6a_row11_col0\" class=\"data row11 col0\" >0.029588</td>\n",
       "                        <td id=\"T_7eb6a_row11_col1\" class=\"data row11 col1\" >0.421255</td>\n",
       "                        <td id=\"T_7eb6a_row11_col2\" class=\"data row11 col2\" >0.287222</td>\n",
       "                        <td id=\"T_7eb6a_row11_col3\" class=\"data row11 col3\" >0.302688</td>\n",
       "                        <td id=\"T_7eb6a_row11_col4\" class=\"data row11 col4\" >0.301734</td>\n",
       "                        <td id=\"T_7eb6a_row11_col5\" class=\"data row11 col5\" >0.404721</td>\n",
       "                        <td id=\"T_7eb6a_row11_col6\" class=\"data row11 col6\" >0.246286</td>\n",
       "                        <td id=\"T_7eb6a_row11_col7\" class=\"data row11 col7\" >0.108124</td>\n",
       "                        <td id=\"T_7eb6a_row11_col8\" class=\"data row11 col8\" >0.450927</td>\n",
       "                        <td id=\"T_7eb6a_row11_col9\" class=\"data row11 col9\" >0.410831</td>\n",
       "                        <td id=\"T_7eb6a_row11_col10\" class=\"data row11 col10\" >0.493928</td>\n",
       "                        <td id=\"T_7eb6a_row11_col11\" class=\"data row11 col11\" >1.000000</td>\n",
       "                        <td id=\"T_7eb6a_row11_col12\" class=\"data row11 col12\" >0.406519</td>\n",
       "                        <td id=\"T_7eb6a_row11_col13\" class=\"data row11 col13\" >0.446068</td>\n",
       "                        <td id=\"T_7eb6a_row11_col14\" class=\"data row11 col14\" >0.943862</td>\n",
       "                        <td id=\"T_7eb6a_row11_col15\" class=\"data row11 col15\" >0.412944</td>\n",
       "                        <td id=\"T_7eb6a_row11_col16\" class=\"data row11 col16\" >0.363491</td>\n",
       "                        <td id=\"T_7eb6a_row11_col17\" class=\"data row11 col17\" >0.408934</td>\n",
       "                        <td id=\"T_7eb6a_row11_col18\" class=\"data row11 col18\" >0.455215</td>\n",
       "            </tr>\n",
       "            <tr>\n",
       "                        <th id=\"T_7eb6a_level0_row12\" class=\"row_heading level0 row12\" >English.CA1</th>\n",
       "                        <td id=\"T_7eb6a_row12_col0\" class=\"data row12 col0\" >-0.099109</td>\n",
       "                        <td id=\"T_7eb6a_row12_col1\" class=\"data row12 col1\" >0.330114</td>\n",
       "                        <td id=\"T_7eb6a_row12_col2\" class=\"data row12 col2\" >0.205075</td>\n",
       "                        <td id=\"T_7eb6a_row12_col3\" class=\"data row12 col3\" >0.225865</td>\n",
       "                        <td id=\"T_7eb6a_row12_col4\" class=\"data row12 col4\" >0.295249</td>\n",
       "                        <td id=\"T_7eb6a_row12_col5\" class=\"data row12 col5\" >0.326750</td>\n",
       "                        <td id=\"T_7eb6a_row12_col6\" class=\"data row12 col6\" >0.341289</td>\n",
       "                        <td id=\"T_7eb6a_row12_col7\" class=\"data row12 col7\" >0.206763</td>\n",
       "                        <td id=\"T_7eb6a_row12_col8\" class=\"data row12 col8\" >0.308204</td>\n",
       "                        <td id=\"T_7eb6a_row12_col9\" class=\"data row12 col9\" >0.401183</td>\n",
       "                        <td id=\"T_7eb6a_row12_col10\" class=\"data row12 col10\" >0.137600</td>\n",
       "                        <td id=\"T_7eb6a_row12_col11\" class=\"data row12 col11\" >0.406519</td>\n",
       "                        <td id=\"T_7eb6a_row12_col12\" class=\"data row12 col12\" >1.000000</td>\n",
       "                        <td id=\"T_7eb6a_row12_col13\" class=\"data row12 col13\" >0.364865</td>\n",
       "                        <td id=\"T_7eb6a_row12_col14\" class=\"data row12 col14\" >0.618039</td>\n",
       "                        <td id=\"T_7eb6a_row12_col15\" class=\"data row12 col15\" >0.316860</td>\n",
       "                        <td id=\"T_7eb6a_row12_col16\" class=\"data row12 col16\" >0.310873</td>\n",
       "                        <td id=\"T_7eb6a_row12_col17\" class=\"data row12 col17\" >0.296695</td>\n",
       "                        <td id=\"T_7eb6a_row12_col18\" class=\"data row12 col18\" >0.352659</td>\n",
       "            </tr>\n",
       "            <tr>\n",
       "                        <th id=\"T_7eb6a_level0_row13\" class=\"row_heading level0 row13\" >English.CA2</th>\n",
       "                        <td id=\"T_7eb6a_row13_col0\" class=\"data row13 col0\" >-0.006569</td>\n",
       "                        <td id=\"T_7eb6a_row13_col1\" class=\"data row13 col1\" >0.344738</td>\n",
       "                        <td id=\"T_7eb6a_row13_col2\" class=\"data row13 col2\" >0.297750</td>\n",
       "                        <td id=\"T_7eb6a_row13_col3\" class=\"data row13 col3\" >0.377765</td>\n",
       "                        <td id=\"T_7eb6a_row13_col4\" class=\"data row13 col4\" >0.412119</td>\n",
       "                        <td id=\"T_7eb6a_row13_col5\" class=\"data row13 col5\" >0.438256</td>\n",
       "                        <td id=\"T_7eb6a_row13_col6\" class=\"data row13 col6\" >0.370551</td>\n",
       "                        <td id=\"T_7eb6a_row13_col7\" class=\"data row13 col7\" >0.164881</td>\n",
       "                        <td id=\"T_7eb6a_row13_col8\" class=\"data row13 col8\" >0.369174</td>\n",
       "                        <td id=\"T_7eb6a_row13_col9\" class=\"data row13 col9\" >0.433888</td>\n",
       "                        <td id=\"T_7eb6a_row13_col10\" class=\"data row13 col10\" >0.076263</td>\n",
       "                        <td id=\"T_7eb6a_row13_col11\" class=\"data row13 col11\" >0.446068</td>\n",
       "                        <td id=\"T_7eb6a_row13_col12\" class=\"data row13 col12\" >0.364865</td>\n",
       "                        <td id=\"T_7eb6a_row13_col13\" class=\"data row13 col13\" >1.000000</td>\n",
       "                        <td id=\"T_7eb6a_row13_col14\" class=\"data row13 col14\" >0.572883</td>\n",
       "                        <td id=\"T_7eb6a_row13_col15\" class=\"data row13 col15\" >0.324358</td>\n",
       "                        <td id=\"T_7eb6a_row13_col16\" class=\"data row13 col16\" >0.366922</td>\n",
       "                        <td id=\"T_7eb6a_row13_col17\" class=\"data row13 col17\" >0.423166</td>\n",
       "                        <td id=\"T_7eb6a_row13_col18\" class=\"data row13 col18\" >0.441948</td>\n",
       "            </tr>\n",
       "            <tr>\n",
       "                        <th id=\"T_7eb6a_level0_row14\" class=\"row_heading level0 row14\" >English.SemMark</th>\n",
       "                        <td id=\"T_7eb6a_row14_col0\" class=\"data row14 col0\" >-0.007759</td>\n",
       "                        <td id=\"T_7eb6a_row14_col1\" class=\"data row14 col1\" >0.497059</td>\n",
       "                        <td id=\"T_7eb6a_row14_col2\" class=\"data row14 col2\" >0.341196</td>\n",
       "                        <td id=\"T_7eb6a_row14_col3\" class=\"data row14 col3\" >0.364990</td>\n",
       "                        <td id=\"T_7eb6a_row14_col4\" class=\"data row14 col4\" >0.367236</td>\n",
       "                        <td id=\"T_7eb6a_row14_col5\" class=\"data row14 col5\" >0.483782</td>\n",
       "                        <td id=\"T_7eb6a_row14_col6\" class=\"data row14 col6\" >0.347191</td>\n",
       "                        <td id=\"T_7eb6a_row14_col7\" class=\"data row14 col7\" >0.142398</td>\n",
       "                        <td id=\"T_7eb6a_row14_col8\" class=\"data row14 col8\" >0.478256</td>\n",
       "                        <td id=\"T_7eb6a_row14_col9\" class=\"data row14 col9\" >0.482196</td>\n",
       "                        <td id=\"T_7eb6a_row14_col10\" class=\"data row14 col10\" >0.574144</td>\n",
       "                        <td id=\"T_7eb6a_row14_col11\" class=\"data row14 col11\" >0.943862</td>\n",
       "                        <td id=\"T_7eb6a_row14_col12\" class=\"data row14 col12\" >0.618039</td>\n",
       "                        <td id=\"T_7eb6a_row14_col13\" class=\"data row14 col13\" >0.572883</td>\n",
       "                        <td id=\"T_7eb6a_row14_col14\" class=\"data row14 col14\" >1.000000</td>\n",
       "                        <td id=\"T_7eb6a_row14_col15\" class=\"data row14 col15\" >0.467301</td>\n",
       "                        <td id=\"T_7eb6a_row14_col16\" class=\"data row14 col16\" >0.430682</td>\n",
       "                        <td id=\"T_7eb6a_row14_col17\" class=\"data row14 col17\" >0.458677</td>\n",
       "                        <td id=\"T_7eb6a_row14_col18\" class=\"data row14 col18\" >0.520786</td>\n",
       "            </tr>\n",
       "            <tr>\n",
       "                        <th id=\"T_7eb6a_level0_row15\" class=\"row_heading level0 row15\" >Geo.CA1</th>\n",
       "                        <td id=\"T_7eb6a_row15_col0\" class=\"data row15 col0\" >-0.164903</td>\n",
       "                        <td id=\"T_7eb6a_row15_col1\" class=\"data row15 col1\" >0.449091</td>\n",
       "                        <td id=\"T_7eb6a_row15_col2\" class=\"data row15 col2\" >0.344569</td>\n",
       "                        <td id=\"T_7eb6a_row15_col3\" class=\"data row15 col3\" >0.425354</td>\n",
       "                        <td id=\"T_7eb6a_row15_col4\" class=\"data row15 col4\" >0.421361</td>\n",
       "                        <td id=\"T_7eb6a_row15_col5\" class=\"data row15 col5\" >0.504553</td>\n",
       "                        <td id=\"T_7eb6a_row15_col6\" class=\"data row15 col6\" >0.379416</td>\n",
       "                        <td id=\"T_7eb6a_row15_col7\" class=\"data row15 col7\" >0.185564</td>\n",
       "                        <td id=\"T_7eb6a_row15_col8\" class=\"data row15 col8\" >0.273232</td>\n",
       "                        <td id=\"T_7eb6a_row15_col9\" class=\"data row15 col9\" >0.383680</td>\n",
       "                        <td id=\"T_7eb6a_row15_col10\" class=\"data row15 col10\" >0.284991</td>\n",
       "                        <td id=\"T_7eb6a_row15_col11\" class=\"data row15 col11\" >0.412944</td>\n",
       "                        <td id=\"T_7eb6a_row15_col12\" class=\"data row15 col12\" >0.316860</td>\n",
       "                        <td id=\"T_7eb6a_row15_col13\" class=\"data row15 col13\" >0.324358</td>\n",
       "                        <td id=\"T_7eb6a_row15_col14\" class=\"data row15 col14\" >0.467301</td>\n",
       "                        <td id=\"T_7eb6a_row15_col15\" class=\"data row15 col15\" >1.000000</td>\n",
       "                        <td id=\"T_7eb6a_row15_col16\" class=\"data row15 col16\" >0.540939</td>\n",
       "                        <td id=\"T_7eb6a_row15_col17\" class=\"data row15 col17\" >0.541215</td>\n",
       "                        <td id=\"T_7eb6a_row15_col18\" class=\"data row15 col18\" >0.742839</td>\n",
       "            </tr>\n",
       "            <tr>\n",
       "                        <th id=\"T_7eb6a_level0_row16\" class=\"row_heading level0 row16\" >Geo.CA2</th>\n",
       "                        <td id=\"T_7eb6a_row16_col0\" class=\"data row16 col0\" >-0.131094</td>\n",
       "                        <td id=\"T_7eb6a_row16_col1\" class=\"data row16 col1\" >0.535758</td>\n",
       "                        <td id=\"T_7eb6a_row16_col2\" class=\"data row16 col2\" >0.376398</td>\n",
       "                        <td id=\"T_7eb6a_row16_col3\" class=\"data row16 col3\" >0.475032</td>\n",
       "                        <td id=\"T_7eb6a_row16_col4\" class=\"data row16 col4\" >0.520762</td>\n",
       "                        <td id=\"T_7eb6a_row16_col5\" class=\"data row16 col5\" >0.588411</td>\n",
       "                        <td id=\"T_7eb6a_row16_col6\" class=\"data row16 col6\" >0.340850</td>\n",
       "                        <td id=\"T_7eb6a_row16_col7\" class=\"data row16 col7\" >0.156646</td>\n",
       "                        <td id=\"T_7eb6a_row16_col8\" class=\"data row16 col8\" >0.406594</td>\n",
       "                        <td id=\"T_7eb6a_row16_col9\" class=\"data row16 col9\" >0.442372</td>\n",
       "                        <td id=\"T_7eb6a_row16_col10\" class=\"data row16 col10\" >0.242986</td>\n",
       "                        <td id=\"T_7eb6a_row16_col11\" class=\"data row16 col11\" >0.363491</td>\n",
       "                        <td id=\"T_7eb6a_row16_col12\" class=\"data row16 col12\" >0.310873</td>\n",
       "                        <td id=\"T_7eb6a_row16_col13\" class=\"data row16 col13\" >0.366922</td>\n",
       "                        <td id=\"T_7eb6a_row16_col14\" class=\"data row16 col14\" >0.430682</td>\n",
       "                        <td id=\"T_7eb6a_row16_col15\" class=\"data row16 col15\" >0.540939</td>\n",
       "                        <td id=\"T_7eb6a_row16_col16\" class=\"data row16 col16\" >1.000000</td>\n",
       "                        <td id=\"T_7eb6a_row16_col17\" class=\"data row16 col17\" >0.686777</td>\n",
       "                        <td id=\"T_7eb6a_row16_col18\" class=\"data row16 col18\" >0.880796</td>\n",
       "            </tr>\n",
       "            <tr>\n",
       "                        <th id=\"T_7eb6a_level0_row17\" class=\"row_heading level0 row17\" >Geo.ASG1</th>\n",
       "                        <td id=\"T_7eb6a_row17_col0\" class=\"data row17 col0\" >0.032814</td>\n",
       "                        <td id=\"T_7eb6a_row17_col1\" class=\"data row17 col1\" >0.427556</td>\n",
       "                        <td id=\"T_7eb6a_row17_col2\" class=\"data row17 col2\" >0.344261</td>\n",
       "                        <td id=\"T_7eb6a_row17_col3\" class=\"data row17 col3\" >0.453319</td>\n",
       "                        <td id=\"T_7eb6a_row17_col4\" class=\"data row17 col4\" >0.501269</td>\n",
       "                        <td id=\"T_7eb6a_row17_col5\" class=\"data row17 col5\" >0.531562</td>\n",
       "                        <td id=\"T_7eb6a_row17_col6\" class=\"data row17 col6\" >0.370017</td>\n",
       "                        <td id=\"T_7eb6a_row17_col7\" class=\"data row17 col7\" >0.115221</td>\n",
       "                        <td id=\"T_7eb6a_row17_col8\" class=\"data row17 col8\" >0.428698</td>\n",
       "                        <td id=\"T_7eb6a_row17_col9\" class=\"data row17 col9\" >0.452135</td>\n",
       "                        <td id=\"T_7eb6a_row17_col10\" class=\"data row17 col10\" >0.200607</td>\n",
       "                        <td id=\"T_7eb6a_row17_col11\" class=\"data row17 col11\" >0.408934</td>\n",
       "                        <td id=\"T_7eb6a_row17_col12\" class=\"data row17 col12\" >0.296695</td>\n",
       "                        <td id=\"T_7eb6a_row17_col13\" class=\"data row17 col13\" >0.423166</td>\n",
       "                        <td id=\"T_7eb6a_row17_col14\" class=\"data row17 col14\" >0.458677</td>\n",
       "                        <td id=\"T_7eb6a_row17_col15\" class=\"data row17 col15\" >0.541215</td>\n",
       "                        <td id=\"T_7eb6a_row17_col16\" class=\"data row17 col16\" >0.686777</td>\n",
       "                        <td id=\"T_7eb6a_row17_col17\" class=\"data row17 col17\" >1.000000</td>\n",
       "                        <td id=\"T_7eb6a_row17_col18\" class=\"data row17 col18\" >0.914288</td>\n",
       "            </tr>\n",
       "            <tr>\n",
       "                        <th id=\"T_7eb6a_level0_row18\" class=\"row_heading level0 row18\" >Geo.SemMark</th>\n",
       "                        <td id=\"T_7eb6a_row18_col0\" class=\"data row18 col0\" >-0.078348</td>\n",
       "                        <td id=\"T_7eb6a_row18_col1\" class=\"data row18 col1\" >0.542817</td>\n",
       "                        <td id=\"T_7eb6a_row18_col2\" class=\"data row18 col2\" >0.410208</td>\n",
       "                        <td id=\"T_7eb6a_row18_col3\" class=\"data row18 col3\" >0.525138</td>\n",
       "                        <td id=\"T_7eb6a_row18_col4\" class=\"data row18 col4\" >0.566657</td>\n",
       "                        <td id=\"T_7eb6a_row18_col5\" class=\"data row18 col5\" >0.629858</td>\n",
       "                        <td id=\"T_7eb6a_row18_col6\" class=\"data row18 col6\" >0.418215</td>\n",
       "                        <td id=\"T_7eb6a_row18_col7\" class=\"data row18 col7\" >0.167979</td>\n",
       "                        <td id=\"T_7eb6a_row18_col8\" class=\"data row18 col8\" >0.446966</td>\n",
       "                        <td id=\"T_7eb6a_row18_col9\" class=\"data row18 col9\" >0.501278</td>\n",
       "                        <td id=\"T_7eb6a_row18_col10\" class=\"data row18 col10\" >0.270385</td>\n",
       "                        <td id=\"T_7eb6a_row18_col11\" class=\"data row18 col11\" >0.455215</td>\n",
       "                        <td id=\"T_7eb6a_row18_col12\" class=\"data row18 col12\" >0.352659</td>\n",
       "                        <td id=\"T_7eb6a_row18_col13\" class=\"data row18 col13\" >0.441948</td>\n",
       "                        <td id=\"T_7eb6a_row18_col14\" class=\"data row18 col14\" >0.520786</td>\n",
       "                        <td id=\"T_7eb6a_row18_col15\" class=\"data row18 col15\" >0.742839</td>\n",
       "                        <td id=\"T_7eb6a_row18_col16\" class=\"data row18 col16\" >0.880796</td>\n",
       "                        <td id=\"T_7eb6a_row18_col17\" class=\"data row18 col17\" >0.914288</td>\n",
       "                        <td id=\"T_7eb6a_row18_col18\" class=\"data row18 col18\" >1.000000</td>\n",
       "            </tr>\n",
       "    </tbody></table>"
      ],
      "text/plain": [
       "<pandas.io.formats.style.Styler at 0x2ef203c5e20>"
      ]
     },
     "execution_count": 18,
     "metadata": {},
     "output_type": "execute_result"
    }
   ],
   "source": [
    "corr = df.corr()\n",
    "\n",
    "corr.style.background_gradient(cmap='coolwarm')"
   ]
  },
  {
   "cell_type": "markdown",
   "id": "4f1a36e3",
   "metadata": {},
   "source": [
    " the dark color shows the high correlation between the values and the light colors shows low correlation between the variables."
   ]
  },
  {
   "cell_type": "markdown",
   "id": "b9df593f",
   "metadata": {},
   "source": [
    "The pandas dataframe provides the method called corr() to find the correlation between the variables. It calculates the correlation between the\n",
    "two variables"
   ]
  },
  {
   "cell_type": "code",
   "execution_count": 19,
   "id": "a4c15e9d",
   "metadata": {},
   "outputs": [
    {
     "data": {
      "text/plain": [
       "0.4667617663922607"
      ]
     },
     "execution_count": 19,
     "metadata": {},
     "output_type": "execute_result"
    }
   ],
   "source": [
    "#check correlation between two variables\n",
    "correlation = df[\"Chem.SemMark\"].corr(df[\"Physics.SemMark\"])\n",
    "\n",
    "correlation "
   ]
  },
  {
   "cell_type": "code",
   "execution_count": 20,
   "id": "64fa7871",
   "metadata": {},
   "outputs": [
    {
     "data": {
      "text/html": [
       "<div>\n",
       "<style scoped>\n",
       "    .dataframe tbody tr th:only-of-type {\n",
       "        vertical-align: middle;\n",
       "    }\n",
       "\n",
       "    .dataframe tbody tr th {\n",
       "        vertical-align: top;\n",
       "    }\n",
       "\n",
       "    .dataframe thead th {\n",
       "        text-align: right;\n",
       "    }\n",
       "</style>\n",
       "<table border=\"1\" class=\"dataframe\">\n",
       "  <thead>\n",
       "    <tr style=\"text-align: right;\">\n",
       "      <th></th>\n",
       "      <th>Chem.SemMark</th>\n",
       "      <th>Physics.SemMark</th>\n",
       "    </tr>\n",
       "  </thead>\n",
       "  <tbody>\n",
       "    <tr>\n",
       "      <th>Chem.SemMark</th>\n",
       "      <td>1.000000</td>\n",
       "      <td>0.466762</td>\n",
       "    </tr>\n",
       "    <tr>\n",
       "      <th>Physics.SemMark</th>\n",
       "      <td>0.466762</td>\n",
       "      <td>1.000000</td>\n",
       "    </tr>\n",
       "  </tbody>\n",
       "</table>\n",
       "</div>"
      ],
      "text/plain": [
       "                 Chem.SemMark  Physics.SemMark\n",
       "Chem.SemMark         1.000000         0.466762\n",
       "Physics.SemMark      0.466762         1.000000"
      ]
     },
     "execution_count": 20,
     "metadata": {},
     "output_type": "execute_result"
    }
   ],
   "source": [
    "df[['Chem.SemMark','Physics.SemMark']].corr()"
   ]
  },
  {
   "cell_type": "markdown",
   "id": "9c73f817",
   "metadata": {},
   "source": [
    "The correlation between the features Chem.SemMark and Physics.SemMark is around 0.4667. The number is closer to 0, which means these two features are low  correlated."
   ]
  },
  {
   "cell_type": "markdown",
   "id": "b6ca4c11",
   "metadata": {},
   "source": [
    "You can see the correlation of the two columns of the dataframe as a scatterplot."
   ]
  },
  {
   "cell_type": "code",
   "execution_count": 21,
   "id": "46e44d4b",
   "metadata": {
    "scrolled": true
   },
   "outputs": [
    {
     "data": {
      "text/plain": [
       "<AxesSubplot:xlabel='Chem.SemMark', ylabel='Physics.SemMark'>"
      ]
     },
     "execution_count": 21,
     "metadata": {},
     "output_type": "execute_result"
    },
    {
     "data": {
      "image/png": "[encoded data removed]",
      "text/plain": [
       "<Figure size 432x288 with 1 Axes>"
      ]
     },
     "metadata": {
      "needs_background": "light"
     },
     "output_type": "display_data"
    }
   ],
   "source": [
    "import seaborn as sns\n",
    "sns.regplot(x=df[\"Chem.SemMark\"], y=df[\"Physics.SemMark\"])\n"
   ]
  },
  {
   "cell_type": "markdown",
   "id": "8304fc94",
   "metadata": {},
   "source": [
    " correlation compare across students from different academic programs"
   ]
  },
  {
   "cell_type": "code",
   "execution_count": 22,
   "id": "52716c2a",
   "metadata": {
    "scrolled": true
   },
   "outputs": [
    {
     "data": {
      "text/html": [
       "<div>\n",
       "<style scoped>\n",
       "    .dataframe tbody tr th:only-of-type {\n",
       "        vertical-align: middle;\n",
       "    }\n",
       "\n",
       "    .dataframe tbody tr th {\n",
       "        vertical-align: top;\n",
       "    }\n",
       "\n",
       "    .dataframe thead th {\n",
       "        text-align: right;\n",
       "    }\n",
       "</style>\n",
       "<table border=\"1\" class=\"dataframe\">\n",
       "  <thead>\n",
       "    <tr style=\"text-align: right;\">\n",
       "      <th></th>\n",
       "      <th>Program ID</th>\n",
       "    </tr>\n",
       "  </thead>\n",
       "  <tbody>\n",
       "    <tr>\n",
       "      <th>count</th>\n",
       "      <td>335</td>\n",
       "    </tr>\n",
       "    <tr>\n",
       "      <th>unique</th>\n",
       "      <td>5</td>\n",
       "    </tr>\n",
       "    <tr>\n",
       "      <th>top</th>\n",
       "      <td>Prog_E</td>\n",
       "    </tr>\n",
       "    <tr>\n",
       "      <th>freq</th>\n",
       "      <td>101</td>\n",
       "    </tr>\n",
       "  </tbody>\n",
       "</table>\n",
       "</div>"
      ],
      "text/plain": [
       "       Program ID\n",
       "count         335\n",
       "unique          5\n",
       "top        Prog_E\n",
       "freq          101"
      ]
     },
     "execution_count": 22,
     "metadata": {},
     "output_type": "execute_result"
    }
   ],
   "source": [
    "df['Program ID'] = df['Program ID'].astype('category')\n",
    "df.describe(include='category')"
   ]
  },
  {
   "cell_type": "code",
   "execution_count": 23,
   "id": "6a43b8ca",
   "metadata": {
    "scrolled": false
   },
   "outputs": [
    {
     "data": {
      "image/png": "[encoded data removed]",
      "text/plain": [
       "<Figure size 432x288 with 1 Axes>"
      ]
     },
     "metadata": {
      "needs_background": "light"
     },
     "output_type": "display_data"
    }
   ],
   "source": [
    "\n",
    "import seaborn as sns\n",
    "sns.scatterplot(x=\"Student ID\", y=\"Program ID\", data=df);"
   ]
  },
  {
   "cell_type": "code",
   "execution_count": 24,
   "id": "f8fab431",
   "metadata": {},
   "outputs": [
    {
     "name": "stdout",
     "output_type": "stream",
     "text": [
      "-0.9507893783933625\n",
      "1.6218001574530587e-171\n"
     ]
    }
   ],
   "source": [
    "#extract Spearman Rank correlation coefficient\n",
    "from scipy.stats import spearmanr\n",
    "r=spearmanr(df['Student ID'], df['Program ID'])[0]\n",
    "\n",
    "print(r)\n",
    "#extract p-value of Spearman Rank correlation coefficient\n",
    "p=spearmanr(df['Student ID'], df['Program ID'])[1] \n",
    "print(p)"
   ]
  },
  {
   "cell_type": "code",
   "execution_count": 25,
   "id": "e6d231b7",
   "metadata": {},
   "outputs": [
    {
     "data": {
      "image/png": "[encoded data removed]",
      "text/plain": [
       "<Figure size 432x288 with 2 Axes>"
      ]
     },
     "metadata": {
      "needs_background": "light"
     },
     "output_type": "display_data"
    }
   ],
   "source": [
    "hm = sns.heatmap(df.corr(), annot = True)"
   ]
  },
  {
   "cell_type": "markdown",
   "id": "c30a8db6",
   "metadata": {},
   "source": [
    "### Question 2: Is the distribution of marks similar across academic groups? Is there a particular academic group that fared better?"
   ]
  },
  {
   "cell_type": "markdown",
   "id": "b068c8fe",
   "metadata": {},
   "source": [
    "module to compare across different academic programs"
   ]
  },
  {
   "cell_type": "code",
   "execution_count": 26,
   "id": "93343ca2",
   "metadata": {
    "scrolled": false
   },
   "outputs": [
    {
     "data": {
      "image/png": "[encoded data removed]",
      "text/plain": [
       "<Figure size 432x288 with 1 Axes>"
      ]
     },
     "metadata": {
      "needs_background": "light"
     },
     "output_type": "display_data"
    }
   ],
   "source": [
    "import seaborn as sns\n",
    "sns.scatterplot(x=\"Program ID\",y=\"Chem.SemMark\",data=df);"
   ]
  },
  {
   "cell_type": "markdown",
   "id": "1aad2a16",
   "metadata": {},
   "source": [
    "distribution of marks similar across academic groups.prog_D have fared better then other academic group"
   ]
  },
  {
   "cell_type": "markdown",
   "id": "41f466c4",
   "metadata": {},
   "source": [
    "#### Comment on the  tendency and dispersion, and distribution across different groups taking the same module"
   ]
  },
  {
   "cell_type": "markdown",
   "id": "cc67f443",
   "metadata": {},
   "source": [
    "Under descriptive statistics, fall two sets of properties- central tendency and dispersion. Python Central tendency characterizes one central value for the entire distribution. Measures under this include mean, median, and mode. Python Dispersion is the term for a practice that characterizes how apart the members of the distribution are from the center and from each other. Variance/Standard Deviation is one such measure of variability."
   ]
  },
  {
   "cell_type": "code",
   "execution_count": 27,
   "id": "551eda70",
   "metadata": {},
   "outputs": [],
   "source": [
    "import statistics as st"
   ]
  },
  {
   "cell_type": "markdown",
   "id": "1add574a",
   "metadata": {},
   "source": [
    "# a. mean()"
   ]
  },
  {
   "cell_type": "markdown",
   "id": "781968a6",
   "metadata": {},
   "source": [
    "\n",
    "This function returns the arithmetic average of the data it operates on. If called on an empty container of data, it raises a StatisticsError."
   ]
  },
  {
   "cell_type": "code",
   "execution_count": 28,
   "id": "0b03c8c1",
   "metadata": {},
   "outputs": [
    {
     "data": {
      "text/plain": [
       "77.8955223880597"
      ]
     },
     "execution_count": 28,
     "metadata": {},
     "output_type": "execute_result"
    }
   ],
   "source": [
    "# mean of Chem.SemMark\n",
    "st.mean(df[\"Chem.SemMark\"])"
   ]
  },
  {
   "cell_type": "markdown",
   "id": "99dde185",
   "metadata": {},
   "source": [
    "# b. mode()"
   ]
  },
  {
   "cell_type": "markdown",
   "id": "7ef3ee54",
   "metadata": {},
   "source": [
    "\n",
    "This function returns the most common value in a set of data. This gives us a great idea of where the center lies.\n",
    "\n"
   ]
  },
  {
   "cell_type": "code",
   "execution_count": 29,
   "id": "60340e37",
   "metadata": {},
   "outputs": [
    {
     "data": {
      "text/plain": [
       "82"
      ]
     },
     "execution_count": 29,
     "metadata": {},
     "output_type": "execute_result"
    }
   ],
   "source": [
    "st.mode(df[\"Chem.SemMark\"])"
   ]
  },
  {
   "cell_type": "markdown",
   "id": "13571892",
   "metadata": {},
   "source": [
    "# c. median()"
   ]
  },
  {
   "cell_type": "markdown",
   "id": "32b0f83f",
   "metadata": {},
   "source": [
    "\n",
    "For data of odd length, this returns the middle item; for that of even length, it returns the average of the two middle items."
   ]
  },
  {
   "cell_type": "code",
   "execution_count": 30,
   "id": "96d4d471",
   "metadata": {},
   "outputs": [
    {
     "data": {
      "text/plain": [
       "81"
      ]
     },
     "execution_count": 30,
     "metadata": {},
     "output_type": "execute_result"
    }
   ],
   "source": [
    "st.median(df[\"Chem.SemMark\"])"
   ]
  },
  {
   "cell_type": "markdown",
   "id": "f6810a04",
   "metadata": {},
   "source": [
    "#  harmonic_mean()"
   ]
  },
  {
   "cell_type": "markdown",
   "id": "127c79e4",
   "metadata": {},
   "source": [
    "This function returns the harmonic mean of the data.It is a measure of the center"
   ]
  },
  {
   "cell_type": "code",
   "execution_count": 31,
   "id": "0415a63b",
   "metadata": {},
   "outputs": [
    {
     "data": {
      "text/plain": [
       "74.70480158576345"
      ]
     },
     "execution_count": 31,
     "metadata": {},
     "output_type": "execute_result"
    }
   ],
   "source": [
    "st.harmonic_mean(df[\"Chem.SemMark\"])"
   ]
  },
  {
   "cell_type": "markdown",
   "id": "e10553d0",
   "metadata": {},
   "source": [
    "# e median_low()"
   ]
  },
  {
   "cell_type": "markdown",
   "id": "cd087119",
   "metadata": {},
   "source": [
    "\n",
    "When the data is of an even length, this provides us the low median of the data. Otherwise, it returns the middle valuebb"
   ]
  },
  {
   "cell_type": "code",
   "execution_count": 32,
   "id": "93d7c7b6",
   "metadata": {},
   "outputs": [
    {
     "data": {
      "text/plain": [
       "81"
      ]
     },
     "execution_count": 32,
     "metadata": {},
     "output_type": "execute_result"
    }
   ],
   "source": [
    "st.median_low(df[\"Chem.SemMark\"])"
   ]
  },
  {
   "cell_type": "markdown",
   "id": "70dc061c",
   "metadata": {},
   "source": [
    "# f median_high()"
   ]
  },
  {
   "cell_type": "markdown",
   "id": "1462e2bf",
   "metadata": {},
   "source": [
    "\n",
    "Like median_low, this returns the high median when the data is of an even length. Otherwise, it returns the middle value."
   ]
  },
  {
   "cell_type": "code",
   "execution_count": 33,
   "id": "8e1e49d7",
   "metadata": {},
   "outputs": [
    {
     "data": {
      "text/plain": [
       "81"
      ]
     },
     "execution_count": 33,
     "metadata": {},
     "output_type": "execute_result"
    }
   ],
   "source": [
    "st.median_high(df[\"Chem.SemMark\"])"
   ]
  },
  {
   "cell_type": "markdown",
   "id": "f6e6d381",
   "metadata": {},
   "source": [
    "# g median_grouped()"
   ]
  },
  {
   "cell_type": "markdown",
   "id": "b2b7a884",
   "metadata": {},
   "source": [
    "This function uses interpolation to return the median of grouped continuous data. This is the 50th percentile."
   ]
  },
  {
   "cell_type": "code",
   "execution_count": 34,
   "id": "f2af2859",
   "metadata": {},
   "outputs": [
    {
     "data": {
      "text/plain": [
       "80.85"
      ]
     },
     "execution_count": 34,
     "metadata": {},
     "output_type": "execute_result"
    }
   ],
   "source": [
    "st.median_grouped(df[\"Chem.SemMark\"],interval=1)"
   ]
  },
  {
   "cell_type": "markdown",
   "id": "58f1338f",
   "metadata": {},
   "source": [
    "# Dispersion"
   ]
  },
  {
   "cell_type": "markdown",
   "id": "aaec3385",
   "metadata": {},
   "source": [
    "Dispersion/spread gives us an idea of how the data strays from the typical value."
   ]
  },
  {
   "cell_type": "markdown",
   "id": "7bd5830e",
   "metadata": {},
   "source": [
    "# a. variance()"
   ]
  },
  {
   "cell_type": "markdown",
   "id": "7ee238dd",
   "metadata": {},
   "source": [
    "\n",
    "This returns the variance of the sample. This is the second moment about the mean and a larger value denotes a rather spread-out set of data. You can use this when your data is a sample out of a population."
   ]
  },
  {
   "cell_type": "code",
   "execution_count": 35,
   "id": "6acf5203",
   "metadata": {},
   "outputs": [
    {
     "data": {
      "text/plain": [
       "183.4231834837787"
      ]
     },
     "execution_count": 35,
     "metadata": {},
     "output_type": "execute_result"
    }
   ],
   "source": [
    "st.variance(df[\"Chem.SemMark\"])"
   ]
  },
  {
   "cell_type": "markdown",
   "id": "28533373",
   "metadata": {},
   "source": [
    "# b variance()"
   ]
  },
  {
   "cell_type": "markdown",
   "id": "5e107570",
   "metadata": {},
   "source": [
    "\n",
    "This returns the population variance of data. Use this to calculate variance from an entire population.\n",
    "\n"
   ]
  },
  {
   "cell_type": "code",
   "execution_count": 36,
   "id": "d9d6cfa7",
   "metadata": {},
   "outputs": [
    {
     "data": {
      "text/plain": [
       "182.87565159278236"
      ]
     },
     "execution_count": 36,
     "metadata": {},
     "output_type": "execute_result"
    }
   ],
   "source": [
    "st.pvariance(df[\"Chem.SemMark\"])"
   ]
  },
  {
   "cell_type": "markdown",
   "id": "9d617190",
   "metadata": {},
   "source": [
    "# c stdev()"
   ]
  },
  {
   "cell_type": "markdown",
   "id": "740006a4",
   "metadata": {},
   "source": [
    "\n",
    "This returns the standard deviation for the sample. This is equal to the square root of the sample variance."
   ]
  },
  {
   "cell_type": "code",
   "execution_count": 37,
   "id": "63864987",
   "metadata": {
    "scrolled": true
   },
   "outputs": [
    {
     "data": {
      "text/plain": [
       "13.543381537997766"
      ]
     },
     "execution_count": 37,
     "metadata": {},
     "output_type": "execute_result"
    }
   ],
   "source": [
    "st.stdev(df[\"Chem.SemMark\"])"
   ]
  },
  {
   "cell_type": "markdown",
   "id": "daa12138",
   "metadata": {},
   "source": [
    "# d pstdev()"
   ]
  },
  {
   "cell_type": "markdown",
   "id": "444af8b6",
   "metadata": {},
   "source": [
    "\n",
    "This returns the population standard deviation. This is the square root of population variance."
   ]
  },
  {
   "cell_type": "code",
   "execution_count": 38,
   "id": "ee82bbbe",
   "metadata": {},
   "outputs": [
    {
     "data": {
      "text/plain": [
       "13.523152428068773"
      ]
     },
     "execution_count": 38,
     "metadata": {},
     "output_type": "execute_result"
    }
   ],
   "source": [
    "st.pstdev(df[\"Chem.SemMark\"])"
   ]
  },
  {
   "cell_type": "markdown",
   "id": "231d468d",
   "metadata": {},
   "source": [
    "Distribution across different group"
   ]
  },
  {
   "cell_type": "code",
   "execution_count": 39,
   "id": "8a21f3b0",
   "metadata": {
    "scrolled": true
   },
   "outputs": [
    {
     "data": {
      "image/png": "[encoded data removed]",
      "text/plain": [
       "<Figure size 432x288 with 1 Axes>"
      ]
     },
     "metadata": {
      "needs_background": "light"
     },
     "output_type": "display_data"
    }
   ],
   "source": [
    "#Distribution across different group\n",
    "import seaborn as sns\n",
    "sns.scatterplot(x=\"CLASS\",y=\"Chem.SemMark\",data=df);"
   ]
  },
  {
   "cell_type": "code",
   "execution_count": 40,
   "id": "a826f433",
   "metadata": {
    "scrolled": false
   },
   "outputs": [
    {
     "data": {
      "image/png": "[encoded data removed]",
      "text/plain": [
       "<Figure size 1008x432 with 1 Axes>"
      ]
     },
     "metadata": {
      "needs_background": "light"
     },
     "output_type": "display_data"
    }
   ],
   "source": [
    "#Cheking Histogram\n",
    "import matplotlib\n",
    "from matplotlib import pyplot \n",
    "%matplotlib inline\n",
    "pyplot.figure(figsize=(14,6))\n",
    "pyplot.hist(df['Program ID'])\n",
    "pyplot.show()"
   ]
  },
  {
   "cell_type": "markdown",
   "id": "178f66d4",
   "metadata": {},
   "source": [
    "### Question 3:Students from Prog_D consistently perform better. Is that a fair statement?Use hypothesis testing to prove or disprove this statement."
   ]
  },
  {
   "cell_type": "markdown",
   "id": "710c7132",
   "metadata": {},
   "source": [
    "Hypothesis testing is a statistical method that is used in making statistical decisions using experimental data. Hypothesis Testing is basically an assumption that we make about the population parameter.\n",
    "Ex : you say avg student in class is 40 or a boy is taller than girls.\n",
    "all those example we assume need some statistic way to prove those. we need some mathematical conclusion what ever we are assuming is true"
   ]
  },
  {
   "cell_type": "code",
   "execution_count": 41,
   "id": "7404a537",
   "metadata": {
    "scrolled": true
   },
   "outputs": [],
   "source": [
    "contingency_data1 = pd.crosstab(df['Chem.SemMark'], df['Program ID'],margins = False)\n",
    "#contingency_data1"
   ]
  },
  {
   "cell_type": "code",
   "execution_count": 42,
   "id": "ba536ce9",
   "metadata": {},
   "outputs": [
    {
     "name": "stdout",
     "output_type": "stream",
     "text": [
      "stat=222.285, p=0.444\n",
      "Program D is BETTER\n"
     ]
    }
   ],
   "source": [
    "#hypothesis testing\n",
    "from scipy.stats import chi2_contingency\n",
    "#chi-square test\n",
    "stat, p, dof, expected = chi2_contingency(contingency_data1)\n",
    "#print stat and p value\n",
    "print('stat=%.3f, p=%.3f' % (stat, p))\n",
    "if p > 0.05:\n",
    "    print('Program D is BETTER')\n",
    "else:\n",
    "    print('Program  D IS not better')"
   ]
  },
  {
   "cell_type": "markdown",
   "id": "09cf4c40",
   "metadata": {},
   "source": [
    "p is greater than 0.05 programm D is better"
   ]
  },
  {
   "cell_type": "markdown",
   "id": "a2047f34",
   "metadata": {},
   "source": [
    "### Question 4: Is the distribution of grades independent of the academic program?\n",
    "Cross tabulation just means taking one variable, displaying its groups as indexes, and taking the other, displaying its groups as columns."
   ]
  },
  {
   "cell_type": "code",
   "execution_count": 43,
   "id": "6528e33c",
   "metadata": {},
   "outputs": [],
   "source": [
    "contingency_data = pd.crosstab(df['Program ID'], df['Chem.SemGrade'],margins = False)"
   ]
  },
  {
   "cell_type": "code",
   "execution_count": 44,
   "id": "67758086",
   "metadata": {
    "scrolled": true
   },
   "outputs": [
    {
     "data": {
      "text/html": [
       "<div>\n",
       "<style scoped>\n",
       "    .dataframe tbody tr th:only-of-type {\n",
       "        vertical-align: middle;\n",
       "    }\n",
       "\n",
       "    .dataframe tbody tr th {\n",
       "        vertical-align: top;\n",
       "    }\n",
       "\n",
       "    .dataframe thead th {\n",
       "        text-align: right;\n",
       "    }\n",
       "</style>\n",
       "<table border=\"1\" class=\"dataframe\">\n",
       "  <thead>\n",
       "    <tr style=\"text-align: right;\">\n",
       "      <th>Chem.SemGrade</th>\n",
       "      <th>A</th>\n",
       "      <th>A+</th>\n",
       "      <th>AD</th>\n",
       "      <th>B</th>\n",
       "      <th>B+</th>\n",
       "      <th>C</th>\n",
       "      <th>C+</th>\n",
       "      <th>D</th>\n",
       "      <th>D+</th>\n",
       "      <th>F</th>\n",
       "    </tr>\n",
       "    <tr>\n",
       "      <th>Program ID</th>\n",
       "      <th></th>\n",
       "      <th></th>\n",
       "      <th></th>\n",
       "      <th></th>\n",
       "      <th></th>\n",
       "      <th></th>\n",
       "      <th></th>\n",
       "      <th></th>\n",
       "      <th></th>\n",
       "      <th></th>\n",
       "    </tr>\n",
       "  </thead>\n",
       "  <tbody>\n",
       "    <tr>\n",
       "      <th>Prog_A</th>\n",
       "      <td>8</td>\n",
       "      <td>9</td>\n",
       "      <td>1</td>\n",
       "      <td>7</td>\n",
       "      <td>4</td>\n",
       "      <td>4</td>\n",
       "      <td>8</td>\n",
       "      <td>4</td>\n",
       "      <td>3</td>\n",
       "      <td>2</td>\n",
       "    </tr>\n",
       "    <tr>\n",
       "      <th>Prog_B</th>\n",
       "      <td>19</td>\n",
       "      <td>29</td>\n",
       "      <td>3</td>\n",
       "      <td>8</td>\n",
       "      <td>9</td>\n",
       "      <td>3</td>\n",
       "      <td>4</td>\n",
       "      <td>4</td>\n",
       "      <td>2</td>\n",
       "      <td>3</td>\n",
       "    </tr>\n",
       "    <tr>\n",
       "      <th>Prog_C</th>\n",
       "      <td>5</td>\n",
       "      <td>18</td>\n",
       "      <td>4</td>\n",
       "      <td>4</td>\n",
       "      <td>9</td>\n",
       "      <td>2</td>\n",
       "      <td>3</td>\n",
       "      <td>2</td>\n",
       "      <td>2</td>\n",
       "      <td>0</td>\n",
       "    </tr>\n",
       "    <tr>\n",
       "      <th>Prog_D</th>\n",
       "      <td>7</td>\n",
       "      <td>21</td>\n",
       "      <td>7</td>\n",
       "      <td>4</td>\n",
       "      <td>5</td>\n",
       "      <td>1</td>\n",
       "      <td>3</td>\n",
       "      <td>2</td>\n",
       "      <td>0</td>\n",
       "      <td>1</td>\n",
       "    </tr>\n",
       "    <tr>\n",
       "      <th>Prog_E</th>\n",
       "      <td>19</td>\n",
       "      <td>30</td>\n",
       "      <td>3</td>\n",
       "      <td>10</td>\n",
       "      <td>12</td>\n",
       "      <td>4</td>\n",
       "      <td>12</td>\n",
       "      <td>4</td>\n",
       "      <td>5</td>\n",
       "      <td>2</td>\n",
       "    </tr>\n",
       "  </tbody>\n",
       "</table>\n",
       "</div>"
      ],
      "text/plain": [
       "Chem.SemGrade   A  A+  AD   B  B+  C  C+  D  D+  F\n",
       "Program ID                                        \n",
       "Prog_A          8   9   1   7   4  4   8  4   3  2\n",
       "Prog_B         19  29   3   8   9  3   4  4   2  3\n",
       "Prog_C          5  18   4   4   9  2   3  2   2  0\n",
       "Prog_D          7  21   7   4   5  1   3  2   0  1\n",
       "Prog_E         19  30   3  10  12  4  12  4   5  2"
      ]
     },
     "execution_count": 44,
     "metadata": {},
     "output_type": "execute_result"
    }
   ],
   "source": [
    "contingency_data"
   ]
  },
  {
   "cell_type": "code",
   "execution_count": 45,
   "id": "9aa48a1e",
   "metadata": {},
   "outputs": [],
   "source": [
    "from scipy.stats import chi2_contingency"
   ]
  },
  {
   "cell_type": "code",
   "execution_count": 46,
   "id": "ae815e7c",
   "metadata": {},
   "outputs": [
    {
     "name": "stdout",
     "output_type": "stream",
     "text": [
      "stat=38.365, p=0.363\n",
      "independent categories\n"
     ]
    }
   ],
   "source": [
    "#chi-square test\n",
    "stat, p, dof, expected = chi2_contingency(contingency_data)\n",
    "#print stat and p value\n",
    "print('stat=%.3f, p=%.3f' % (stat, p))\n",
    "if p > 0.05:\n",
    "    print('independent categories')\n",
    "else:\n",
    "    print('dependent categories')"
   ]
  },
  {
   "cell_type": "markdown",
   "id": "643a1860",
   "metadata": {},
   "source": [
    "### Question 5: What is the breakdown of each component to the final SemMark? For example, CA, Test 1, Test 2 and Test 3 contribute 40%, 20%, 20% and 20% respectively to the final semester mark for Chem (Chem.SemMark). "
   ]
  },
  {
   "cell_type": "code",
   "execution_count": 47,
   "id": "27e345a6",
   "metadata": {},
   "outputs": [],
   "source": [
    "# Import the libraries\n",
    "from sklearn.linear_model import LinearRegression\n",
    "from sklearn.model_selection import train_test_split"
   ]
  },
  {
   "cell_type": "code",
   "execution_count": 48,
   "id": "103272ad",
   "metadata": {},
   "outputs": [],
   "source": [
    "# We now instatiate a Linear Regression object\n",
    "lm = LinearRegression()"
   ]
  },
  {
   "cell_type": "code",
   "execution_count": 49,
   "id": "32ec8e72",
   "metadata": {},
   "outputs": [],
   "source": [
    "from sklearn.model_selection import train_test_split\n",
    "# let's do the split of the dataset module physic.mark\n",
    "y = df['Physics.SemMark']\n",
    "X = df[['English.ASG1','English.ASG2' ,'English.CA2', 'English.CA1']]\n",
    "X_train, X_test, y_train, y_test = train_test_split(X,y,test_size=0.3,random_state=101)"
   ]
  },
  {
   "cell_type": "code",
   "execution_count": 50,
   "id": "591f5bdf",
   "metadata": {},
   "outputs": [
    {
     "data": {
      "text/plain": [
       "LinearRegression()"
      ]
     },
     "execution_count": 50,
     "metadata": {},
     "output_type": "execute_result"
    }
   ],
   "source": [
    "# Now let's build the model using sklearn\n",
    "lm.fit(X_test,y_test)\n"
   ]
  },
  {
   "cell_type": "code",
   "execution_count": 51,
   "id": "5ebf451f",
   "metadata": {},
   "outputs": [
    {
     "name": "stdout",
     "output_type": "stream",
     "text": [
      "[-0.07612184  0.19473965  0.13329676  0.2435506 ]\n"
     ]
    }
   ],
   "source": [
    "# Now let's look at the coefficients\n",
    "print(lm.coef_)\n",
    "# it would be nicer if we can put them together in a datafram"
   ]
  },
  {
   "cell_type": "code",
   "execution_count": 52,
   "id": "53e52f49",
   "metadata": {},
   "outputs": [
    {
     "data": {
      "text/html": [
       "<div>\n",
       "<style scoped>\n",
       "    .dataframe tbody tr th:only-of-type {\n",
       "        vertical-align: middle;\n",
       "    }\n",
       "\n",
       "    .dataframe tbody tr th {\n",
       "        vertical-align: top;\n",
       "    }\n",
       "\n",
       "    .dataframe thead th {\n",
       "        text-align: right;\n",
       "    }\n",
       "</style>\n",
       "<table border=\"1\" class=\"dataframe\">\n",
       "  <thead>\n",
       "    <tr style=\"text-align: right;\">\n",
       "      <th></th>\n",
       "      <th>Coefficients</th>\n",
       "    </tr>\n",
       "  </thead>\n",
       "  <tbody>\n",
       "    <tr>\n",
       "      <th>English.ASG1</th>\n",
       "      <td>-0.076122</td>\n",
       "    </tr>\n",
       "    <tr>\n",
       "      <th>English.ASG2</th>\n",
       "      <td>0.194740</td>\n",
       "    </tr>\n",
       "    <tr>\n",
       "      <th>English.CA2</th>\n",
       "      <td>0.133297</td>\n",
       "    </tr>\n",
       "    <tr>\n",
       "      <th>English.CA1</th>\n",
       "      <td>0.243551</td>\n",
       "    </tr>\n",
       "  </tbody>\n",
       "</table>\n",
       "</div>"
      ],
      "text/plain": [
       "              Coefficients\n",
       "English.ASG1     -0.076122\n",
       "English.ASG2      0.194740\n",
       "English.CA2       0.133297\n",
       "English.CA1       0.243551"
      ]
     },
     "execution_count": 52,
     "metadata": {},
     "output_type": "execute_result"
    }
   ],
   "source": [
    "#print cofficient table\n",
    "coef = pd.DataFrame(lm.coef_, X.columns, columns = ['Coefficients'])\n",
    "coef"
   ]
  },
  {
   "cell_type": "code",
   "execution_count": 53,
   "id": "d44df1e7",
   "metadata": {},
   "outputs": [],
   "source": [
    "import statsmodels.api as sm"
   ]
  },
  {
   "cell_type": "code",
   "execution_count": 54,
   "id": "c246d4e1",
   "metadata": {},
   "outputs": [],
   "source": [
    "# Unlike sklearn that adds an intercept to our data for the best fit, statsmodel doesn't. We need to add it ourselves\n",
    "\n",
    "# X represents our predictor variables, and y our predicted variable.\n",
    "# We need now to add manually the intercepts\n",
    "X_endog = sm.add_constant(X_test)"
   ]
  },
  {
   "cell_type": "code",
   "execution_count": 55,
   "id": "70847ebd",
   "metadata": {},
   "outputs": [],
   "source": [
    "res = sm.OLS(y_test, X_endog)"
   ]
  },
  {
   "cell_type": "code",
   "execution_count": 56,
   "id": "e65beafe",
   "metadata": {
    "scrolled": false
   },
   "outputs": [
    {
     "data": {
      "text/html": [
       "<table class=\"simpletable\">\n",
       "<caption>OLS Regression Results</caption>\n",
       "<tr>\n",
       "  <th>Dep. Variable:</th>     <td>Physics.SemMark</td> <th>  R-squared:         </th> <td>   0.462</td>\n",
       "</tr>\n",
       "<tr>\n",
       "  <th>Model:</th>                   <td>OLS</td>       <th>  Adj. R-squared:    </th> <td>   0.439</td>\n",
       "</tr>\n",
       "<tr>\n",
       "  <th>Method:</th>             <td>Least Squares</td>  <th>  F-statistic:       </th> <td>   20.59</td>\n",
       "</tr>\n",
       "<tr>\n",
       "  <th>Date:</th>             <td>Fri, 24 Dec 2021</td> <th>  Prob (F-statistic):</th> <td>2.83e-12</td>\n",
       "</tr>\n",
       "<tr>\n",
       "  <th>Time:</th>                 <td>11:37:11</td>     <th>  Log-Likelihood:    </th> <td> -304.18</td>\n",
       "</tr>\n",
       "<tr>\n",
       "  <th>No. Observations:</th>      <td>   101</td>      <th>  AIC:               </th> <td>   618.4</td>\n",
       "</tr>\n",
       "<tr>\n",
       "  <th>Df Residuals:</th>          <td>    96</td>      <th>  BIC:               </th> <td>   631.4</td>\n",
       "</tr>\n",
       "<tr>\n",
       "  <th>Df Model:</th>              <td>     4</td>      <th>                     </th>     <td> </td>   \n",
       "</tr>\n",
       "<tr>\n",
       "  <th>Covariance Type:</th>      <td>nonrobust</td>    <th>                     </th>     <td> </td>   \n",
       "</tr>\n",
       "</table>\n",
       "<table class=\"simpletable\">\n",
       "<tr>\n",
       "        <td></td>          <th>coef</th>     <th>std err</th>      <th>t</th>      <th>P>|t|</th>  <th>[0.025</th>    <th>0.975]</th>  \n",
       "</tr>\n",
       "<tr>\n",
       "  <th>const</th>        <td>   36.9455</td> <td>    8.242</td> <td>    4.483</td> <td> 0.000</td> <td>   20.585</td> <td>   53.306</td>\n",
       "</tr>\n",
       "<tr>\n",
       "  <th>English.ASG1</th> <td>   -0.0761</td> <td>    0.090</td> <td>   -0.850</td> <td> 0.397</td> <td>   -0.254</td> <td>    0.102</td>\n",
       "</tr>\n",
       "<tr>\n",
       "  <th>English.ASG2</th> <td>    0.1947</td> <td>    0.073</td> <td>    2.666</td> <td> 0.009</td> <td>    0.050</td> <td>    0.340</td>\n",
       "</tr>\n",
       "<tr>\n",
       "  <th>English.CA2</th>  <td>    0.1333</td> <td>    0.054</td> <td>    2.481</td> <td> 0.015</td> <td>    0.027</td> <td>    0.240</td>\n",
       "</tr>\n",
       "<tr>\n",
       "  <th>English.CA1</th>  <td>    0.2436</td> <td>    0.087</td> <td>    2.795</td> <td> 0.006</td> <td>    0.071</td> <td>    0.417</td>\n",
       "</tr>\n",
       "</table>\n",
       "<table class=\"simpletable\">\n",
       "<tr>\n",
       "  <th>Omnibus:</th>       <td> 2.889</td> <th>  Durbin-Watson:     </th> <td>   2.213</td>\n",
       "</tr>\n",
       "<tr>\n",
       "  <th>Prob(Omnibus):</th> <td> 0.236</td> <th>  Jarque-Bera (JB):  </th> <td>   2.817</td>\n",
       "</tr>\n",
       "<tr>\n",
       "  <th>Skew:</th>          <td>-0.401</td> <th>  Prob(JB):          </th> <td>   0.244</td>\n",
       "</tr>\n",
       "<tr>\n",
       "  <th>Kurtosis:</th>      <td> 2.841</td> <th>  Cond. No.          </th> <td>2.62e+03</td>\n",
       "</tr>\n",
       "</table><br/><br/>Notes:<br/>[1] Standard Errors assume that the covariance matrix of the errors is correctly specified.<br/>[2] The condition number is large, 2.62e+03. This might indicate that there are<br/>strong multicollinearity or other numerical problems."
      ],
      "text/plain": [
       "<class 'statsmodels.iolib.summary.Summary'>\n",
       "\"\"\"\n",
       "                            OLS Regression Results                            \n",
       "==============================================================================\n",
       "Dep. Variable:        Physics.SemMark   R-squared:                       0.462\n",
       "Model:                            OLS   Adj. R-squared:                  0.439\n",
       "Method:                 Least Squares   F-statistic:                     20.59\n",
       "Date:                Fri, 24 Dec 2021   Prob (F-statistic):           2.83e-12\n",
       "Time:                        11:37:11   Log-Likelihood:                -304.18\n",
       "No. Observations:                 101   AIC:                             618.4\n",
       "Df Residuals:                      96   BIC:                             631.4\n",
       "Df Model:                           4                                         \n",
       "Covariance Type:            nonrobust                                         \n",
       "================================================================================\n",
       "                   coef    std err          t      P>|t|      [0.025      0.975]\n",
       "--------------------------------------------------------------------------------\n",
       "const           36.9455      8.242      4.483      0.000      20.585      53.306\n",
       "English.ASG1    -0.0761      0.090     -0.850      0.397      -0.254       0.102\n",
       "English.ASG2     0.1947      0.073      2.666      0.009       0.050       0.340\n",
       "English.CA2      0.1333      0.054      2.481      0.015       0.027       0.240\n",
       "English.CA1      0.2436      0.087      2.795      0.006       0.071       0.417\n",
       "==============================================================================\n",
       "Omnibus:                        2.889   Durbin-Watson:                   2.213\n",
       "Prob(Omnibus):                  0.236   Jarque-Bera (JB):                2.817\n",
       "Skew:                          -0.401   Prob(JB):                        0.244\n",
       "Kurtosis:                       2.841   Cond. No.                     2.62e+03\n",
       "==============================================================================\n",
       "\n",
       "Notes:\n",
       "[1] Standard Errors assume that the covariance matrix of the errors is correctly specified.\n",
       "[2] The condition number is large, 2.62e+03. This might indicate that there are\n",
       "strong multicollinearity or other numerical problems.\n",
       "\"\"\""
      ]
     },
     "execution_count": 56,
     "metadata": {},
     "output_type": "execute_result"
    }
   ],
   "source": [
    "#show ols regrerssion summary\n",
    "res.fit().summary()"
   ]
  },
  {
   "cell_type": "markdown",
   "id": "54d068ee",
   "metadata": {},
   "source": [
    "Explanation of some of the terms in the summary table:\n",
    "\n",
    "coef : the coefficients of the independent variables in the regression equation.\n",
    "Log-Likelihood : the natural logarithm of the Maximum Likelihood Estimation(MLE) function. MLE is the optimization process of finding the set of parameters that result in the best fit.\n",
    "LL-Null : the value of log-likelihood of the model when no independent variable is included(only an intercept is included).\n",
    "Pseudo R-squ. : a substitute for the R-squared value in Least Squares linear regression. It is the ratio of the log-likelihood of the null model to that of the full model"
   ]
  },
  {
   "cell_type": "code",
   "execution_count": 57,
   "id": "ffeb5dd0",
   "metadata": {
    "scrolled": true
   },
   "outputs": [],
   "source": [
    "#prediction over the test set\n",
    "predictions = lm.predict(X_test)\n"
   ]
  },
  {
   "cell_type": "markdown",
   "id": "b250c377",
   "metadata": {},
   "source": [
    "### Question 6: If we know a student’s Chem, English, Geo marks, can we predict the Physics mark? Will knowing the Program ID increase the accuracy of the prediction?"
   ]
  },
  {
   "cell_type": "markdown",
   "id": "a60f2cdb",
   "metadata": {},
   "source": [
    "Examine the data for outliers"
   ]
  },
  {
   "cell_type": "code",
   "execution_count": 73,
   "id": "985c244f",
   "metadata": {
    "scrolled": true
   },
   "outputs": [],
   "source": [
    "\n",
    "#Detection outliers\n",
    "# IQR\n",
    "Q1 = np.percentile(df['Physics.SemMark'], 25,\n",
    "                   interpolation = 'midpoint')\n",
    " \n",
    "Q3 = np.percentile(df['Physics.SemMark'], 75,\n",
    "                   interpolation = 'midpoint')\n",
    "IQR = Q3 - Q1\n",
    " \n",
    "#print(\"Old Shape: \", df)\n",
    " \n",
    "# Upper bound\n",
    "upper = np.where(df['Physics.SemMark'] >= (Q3+1.5*IQR))\n",
    "# Lower bound\n",
    "lower = np.where(df['Physics.SemMark'] <= (Q1-1.5*IQR))\n",
    " \n",
    "''' Removing the Outliers '''\n",
    "df.drop(upper[0], inplace = True)\n",
    "df.drop(lower[0], inplace = True)\n",
    " #to  print new shape of data\n",
    "    \n",
    "#print(\"New Shape: \", df.shape)"
   ]
  },
  {
   "cell_type": "code",
   "execution_count": 59,
   "id": "72a51a32",
   "metadata": {},
   "outputs": [],
   "source": [
    "#select categorical columns \n",
    "cat_vars=df.select_dtypes(include=[\"object\"]).columns"
   ]
  },
  {
   "cell_type": "code",
   "execution_count": 60,
   "id": "e900cc9e",
   "metadata": {
    "scrolled": true
   },
   "outputs": [
    {
     "data": {
      "text/plain": [
       "Index(['CLASS', 'Chem.SemGrade', 'Physics.SemGrade', 'English.SemGrade',\n",
       "       'Geo.Sem Grade'],\n",
       "      dtype='object')"
      ]
     },
     "execution_count": 60,
     "metadata": {},
     "output_type": "execute_result"
    }
   ],
   "source": [
    "#show categorical vars\n",
    "cat_vars"
   ]
  },
  {
   "cell_type": "markdown",
   "id": "8a7fc742",
   "metadata": {},
   "source": [
    "Machine learning models require all input and output variables to be numeric.\n",
    "\n",
    "This means that if your data contains categorical data, you must encode it to numbers before you can fit and evaluate a model"
   ]
  },
  {
   "cell_type": "markdown",
   "id": "ebdf2615",
   "metadata": {},
   "source": [
    "#### One-Hot encoding the categorical parameters using get_dummies()"
   ]
  },
  {
   "cell_type": "markdown",
   "id": "683bffa1",
   "metadata": {},
   "source": [
    "\n",
    "A one hot encoding is a representation of categorical variables as binary vectors. This first requires that the categorical values be mapped to integer values. Then, each integer value is represented as a binary vector that is all zero values except the index of the integer, which is marked with a 1"
   ]
  },
  {
   "cell_type": "code",
   "execution_count": 61,
   "id": "2a9b0249",
   "metadata": {},
   "outputs": [],
   "source": [
    "#one hot encoding of columns\n",
    "df = pd.get_dummies(df, columns = ['Program ID','CLASS', 'Chem.SemGrade','Physics.SemGrade','English.SemGrade','Geo.Sem Grade'])\n",
    "\n",
    "#print(df)"
   ]
  },
  {
   "cell_type": "code",
   "execution_count": 62,
   "id": "478f4825",
   "metadata": {},
   "outputs": [],
   "source": [
    "#Train and Test Split\n",
    "X = df.drop(columns=['Physics.SemMark'])\n",
    "y = df['Physics.SemMark'];"
   ]
  },
  {
   "cell_type": "markdown",
   "id": "b42321ca",
   "metadata": {},
   "source": [
    "#Split the data into train data (70%) and test data (30%)"
   ]
  },
  {
   "cell_type": "code",
   "execution_count": 63,
   "id": "e49286f9",
   "metadata": {},
   "outputs": [],
   "source": [
    "# split the dataset\n",
    "X_train, X_test, y_train, y_test = train_test_split(\n",
    "    X, y, test_size=0.3, random_state=0)"
   ]
  },
  {
   "cell_type": "markdown",
   "id": "41a66797",
   "metadata": {},
   "source": [
    "### Building and Training the Model\n",
    "#### Linear Regression model\n",
    "It builds up a connection between subordinate variable (Y) and at least one autonomous factors (X) utilizing a best fit straight line (otherwise called relapse line). The fundamental thought of this calculation is to fit a straight line between preparing informational index and a persistent objective variable. This calculation finds a line that best fits the information After completing the previous phases, the dataset is now ready to build proposed model. Once the model is build it is used as predictive model to Physic markrs of students. In our work, we propose a model using linear regression algorithm Now I am applying linear regression on the particular dataset and after that, we will study each evaluation metric and check it on our Linear Regression model."
   ]
  },
  {
   "cell_type": "code",
   "execution_count": 64,
   "id": "bfc2483c",
   "metadata": {},
   "outputs": [],
   "source": [
    "#The first thing we need to do is import the LinearRegression estimator from scikit-learn. Here is the Python statement for this:\n",
    "from sklearn.linear_model import LinearRegression"
   ]
  },
  {
   "cell_type": "code",
   "execution_count": 65,
   "id": "1c01a3a4",
   "metadata": {},
   "outputs": [],
   "source": [
    "#Next, we need to create an instance of the Linear Regression Python object. We will assign this to a variable called model. Here is the code for this:\n",
    "model = LinearRegression()"
   ]
  },
  {
   "cell_type": "code",
   "execution_count": 66,
   "id": "0d18fe08",
   "metadata": {},
   "outputs": [
    {
     "data": {
      "text/plain": [
       "LinearRegression()"
      ]
     },
     "execution_count": 66,
     "metadata": {},
     "output_type": "execute_result"
    }
   ],
   "source": [
    "#We can use scikit-learn’s fit method to train this model on our training data.\n",
    "model.fit(X_train, y_train)"
   ]
  },
  {
   "cell_type": "markdown",
   "id": "6cfd33bc",
   "metadata": {},
   "source": [
    "Our model has now been trained. You can examine each of the model’s coefficients using the following statement\n",
    "\n"
   ]
  },
  {
   "cell_type": "code",
   "execution_count": 67,
   "id": "36bfd2f5",
   "metadata": {},
   "outputs": [],
   "source": [
    "#print(model.coef_)"
   ]
  },
  {
   "cell_type": "code",
   "execution_count": 68,
   "id": "d4d1407d",
   "metadata": {},
   "outputs": [
    {
     "name": "stdout",
     "output_type": "stream",
     "text": [
      "4.385582407478253\n"
     ]
    }
   ],
   "source": [
    "#Similarly, here is how you can see the intercept of the regression equation:\n",
    "print(model.intercept_)"
   ]
  },
  {
   "cell_type": "markdown",
   "id": "872d24df",
   "metadata": {},
   "source": [
    "A nicer way to view the coefficients is by placing them in a DataFrame. This can be done with the following statement:\n"
   ]
  },
  {
   "cell_type": "code",
   "execution_count": 69,
   "id": "af5c2c74",
   "metadata": {},
   "outputs": [],
   "source": [
    "#pd.DataFrame(model.coef_, X.columns, columns = ['Coeff'])"
   ]
  },
  {
   "cell_type": "markdown",
   "id": "773447b3",
   "metadata": {},
   "source": [
    "### Making Predictions From Our Model"
   ]
  },
  {
   "cell_type": "code",
   "execution_count": 70,
   "id": "b12507aa",
   "metadata": {},
   "outputs": [],
   "source": [
    "#scikit-learn makes it very easy to make predictions from a machine learning model. You simply need to call the predict method on the model variable that we created earlier\n",
    "predictions = model.predict(X_test)\n",
    "#predictions "
   ]
  },
  {
   "cell_type": "code",
   "execution_count": 71,
   "id": "66e81775",
   "metadata": {
    "scrolled": false
   },
   "outputs": [
    {
     "data": {
      "text/plain": [
       "<matplotlib.collections.PathCollection at 0x2ef24060490>"
      ]
     },
     "execution_count": 71,
     "metadata": {},
     "output_type": "execute_result"
    },
    {
     "data": {
      "image/png": "[encoded data removed]",
      "text/plain": [
       "<Figure size 432x288 with 1 Axes>"
      ]
     },
     "metadata": {
      "needs_background": "light"
     },
     "output_type": "display_data"
    }
   ],
   "source": [
    "#The predictions variable holds the predicted values of the features stored in x_test. Since we used the train_test_split method to store the real values in y_test, what we want to do next is compare the values of the predictions array with the values of y_test\n",
    "plt.scatter(y_test, predictions)"
   ]
  },
  {
   "cell_type": "markdown",
   "id": "c1e6b961",
   "metadata": {},
   "source": [
    "As you can see, our predicted values are very close to the actual values for the observations in the data set. A perfectly straight diagonal line in this scatterplot would indicate that our model perfectly predicted the y-array values."
   ]
  },
  {
   "cell_type": "code",
   "execution_count": 72,
   "id": "a8722cb9",
   "metadata": {},
   "outputs": [
    {
     "name": "stdout",
     "output_type": "stream",
     "text": [
      "MAE 0.2803546405854913\n",
      "MSE 0.1177870578888791\n",
      "RMSE 0.1177870578888791\n"
     ]
    }
   ],
   "source": [
    "#Testing the Performance of our Model\n",
    "from sklearn import metrics\n",
    "from sklearn.metrics import mean_squared_error\n",
    "from sklearn.metrics import mean_absolute_error\n",
    "#Mean Absolute Error (MAE)\n",
    "metrics.mean_absolute_error(y_test, predictions)\n",
    "print(\"MAE\",mean_absolute_error(y_test,predictions))\n",
    "\n",
    "#Mean Squared Error (MSE)\n",
    "metrics.mean_squared_error(y_test, predictions)\n",
    "print(\"MSE\",mean_squared_error(y_test,predictions))\n",
    "\n",
    "#Root Mean Squared Error (RMSE)\n",
    "np.sqrt(metrics.mean_squared_error(y_test, predictions))\n",
    "print(\"RMSE\",mean_squared_error(y_test,predictions))"
   ]
  },
  {
   "cell_type": "code",
   "execution_count": null,
   "id": "25392e40",
   "metadata": {},
   "outputs": [],
   "source": []
  }
 ],
 "metadata": {
  "kernelspec": {
   "display_name": "Python 3",
   "language": "python",
   "name": "python3"
  },
  "language_info": {
   "codemirror_mode": {
    "name": "ipython",
    "version": 3
   },
   "file_extension": ".py",
   "mimetype": "text/x-python",
   "name": "python",
   "nbconvert_exporter": "python",
   "pygments_lexer": "ipython3",
   "version": "3.8.8"
  }
 },
 "nbformat": 4,
 "nbformat_minor": 5
}
